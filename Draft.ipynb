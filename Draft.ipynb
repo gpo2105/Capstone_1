{
 "cells": [
  {
   "cell_type": "markdown",
   "id": "af6e13aa",
   "metadata": {},
   "source": [
    "# Project Introduction"
   ]
  },
  {
   "cell_type": "markdown",
   "id": "f28a6e29",
   "metadata": {},
   "source": [
    "Through this dataset, I have identified the three following patterns:\n",
    "1. IDEA 1 w/ LOCAL LINK\n",
    "2. IDEA 2 w/ LOCAL LINK\n",
    "3. IDEA 3 w/ LOCAL LINK"
   ]
  },
  {
   "cell_type": "markdown",
   "id": "3d8c8b96",
   "metadata": {},
   "source": [
    "## Resources:\n",
    "\n",
    "- __[Kaggle-Full](https://www.kaggle.com/datasets/sobhanmoosavi/us-accidents/data)__\n",
    "\n",
    "- __[Kaggle-Sampled](https://drive.google.com/file/d/1U3u8QYzLjnEaSurtZfSAS_oh9AT2Mn8X/edit)__\n",
    "\n",
    "- __[Bing API](https://learn.microsoft.com/en-us/bingmaps/rest-services/traffic/get-traffic-incidents#supported-http-methods)__\n",
    "\n",
    "- __[MQuest API](https://developer.mapquest.com/documentation/api/traffic/incidents/get.html)__\n",
    "\n",
    "- __['A Countrywide Traffic Accident Dataset'](https://arxiv.org/pdf/1906.05409)__\n",
    "\n",
    "- __['Accident Risk Prediction based on Heterogenous Sparse Data: New Dataset & Insights](https://arxiv.org/pdf/1909.09638)__"
   ]
  },
  {
   "cell_type": "markdown",
   "id": "62454dd5",
   "metadata": {},
   "source": [
    "# 1-Setup Environment"
   ]
  },
  {
   "cell_type": "markdown",
   "id": "ac1c0833",
   "metadata": {},
   "source": [
    "## Libraries"
   ]
  },
  {
   "cell_type": "code",
   "execution_count": 1,
   "id": "a57cd187",
   "metadata": {},
   "outputs": [],
   "source": [
    "#Utilities\n",
    "import warnings\n",
    "\n",
    "# Data Basics\n",
    "import pandas as pd\n",
    "import numpy as np\n",
    "\n",
    "#PySpark\n",
    "from pyspark.sql import SparkSession\n",
    "from pyspark.mllib.stat import Statistics\n",
    "import pyspark.sql.functions as F\n",
    "\n",
    "#Visuals\n",
    "import matplotlib.pyplot as plt\n",
    "import seaborn as sns\n",
    "\n",
    "\n",
    "# Statistical Analysis\n",
    "from scipy.stats import zscore\n",
    "\n",
    "# Spatial Tools\n",
    "import geopy.distance\n",
    "\n",
    "# Text Tools\n",
    "import re\n",
    "from wordcloud import WordCloud\n",
    "\n",
    "from nltk.tokenize import word_tokenize, sent_tokenize\n",
    "from nltk.corpus import stopwords, wordnet\n",
    "from nltk.probability import FreqDist\n",
    "from nltk.stem import PorterStemmer, WordNetLemmatizer\n",
    "from nltk.util import ngrams"
   ]
  },
  {
   "cell_type": "markdown",
   "id": "e5e3276e",
   "metadata": {},
   "source": [
    "## Info on New Libraries\n",
    "For improved analysis, these libraries were included, but not covered in the material:\n",
    "\n",
    "-\n",
    "-"
   ]
  },
  {
   "cell_type": "markdown",
   "id": "9f26743b",
   "metadata": {},
   "source": [
    "## Settings"
   ]
  },
  {
   "cell_type": "code",
   "execution_count": 2,
   "id": "f9caeba6",
   "metadata": {},
   "outputs": [],
   "source": [
    "pd.set_option('display.max_columns', None)\n",
    "pd.set_option('display.float_format', lambda x: '%.3f' % x)\n",
    "pd.set_option('display.width', 500)\n",
    "_LITE_SWITCH_ = False\n",
    "_SPARK_ = False"
   ]
  },
  {
   "cell_type": "markdown",
   "id": "fbd5bb42",
   "metadata": {},
   "source": [
    "## Custom Functions"
   ]
  },
  {
   "cell_type": "code",
   "execution_count": 3,
   "id": "190743bc",
   "metadata": {},
   "outputs": [],
   "source": [
    "# For High-level data exploration\n",
    "def count_outliers(df_col,cap=3):\n",
    "    zs = zscore(df_col)\n",
    "    return df_col[zs > cap].shape[0]"
   ]
  },
  {
   "cell_type": "code",
   "execution_count": 4,
   "id": "0f0bc4be",
   "metadata": {},
   "outputs": [],
   "source": [
    "# For Identify Unusual Weather Pattern(s)\n",
    "def unusual_weather(observation):\n",
    "    flag = False\n",
    "    return flag"
   ]
  },
  {
   "cell_type": "code",
   "execution_count": 5,
   "id": "fa2098b9",
   "metadata": {},
   "outputs": [],
   "source": [
    "def dist(pt_0,pt_1):\n",
    "    return geopy.distance.geodesic(pt_0,pt_1)"
   ]
  },
  {
   "cell_type": "code",
   "execution_count": 6,
   "id": "617e13cd",
   "metadata": {},
   "outputs": [],
   "source": [
    "def same_road(eventA,eventB):\n",
    "    indicator = False\n",
    "    road_identifiers = ['Street','City','State','Zipcode']\n",
    "    indicator = all(eventA[id]==eventB[id] for id in road_identifiers)\n",
    "    return indicator"
   ]
  },
  {
   "cell_type": "code",
   "execution_count": 7,
   "id": "bd9e695f",
   "metadata": {},
   "outputs": [],
   "source": [
    "# For indicating whether two events are close in space and, optionally, time.\n",
    "def proximity_indicator(eventA,eventB,space_band=15,time_band=0):\n",
    "    flag = False\n",
    "    distance = dist(eventA[['longitude','latitude']],eventB[['longitude','latitude']])\n",
    "    if (time_band > 0):\n",
    "        time_lapse = abs(eventA['time']-eventB['time'])\n",
    "        flag = bool((space_band > distance) and (time_band > time_lapse))\n",
    "    else:\n",
    "        flag = bool(space_band > distance)\n",
    "    return flag"
   ]
  },
  {
   "cell_type": "markdown",
   "id": "54ad15e6",
   "metadata": {},
   "source": [
    "## Load Dataset"
   ]
  },
  {
   "cell_type": "code",
   "execution_count": 8,
   "id": "d09a8e27",
   "metadata": {},
   "outputs": [],
   "source": [
    "if _SPARK_:\n",
    "    spark = SparkSession.builder.appName(\"Accident Data Project\").getOrCreate()\n",
    "    data = spark.read.csv('US_Accidents_March23.csv',header=True,inferSchema=True)\n",
    "else:\n",
    "    if _LITE_SWITCH_:\n",
    "        data = pd.read_csv('US_Accidents_March23_sampled_500k.csv')\n",
    "    else:\n",
    "        data = pd.read_csv('US_Accidents_March23.csv')\n",
    "    "
   ]
  },
  {
   "cell_type": "markdown",
   "id": "dda9e963",
   "metadata": {},
   "source": [
    "# 2-Initial EDA"
   ]
  },
  {
   "cell_type": "markdown",
   "id": "ce0ade77",
   "metadata": {},
   "source": [
    "## Schema & Feature Basics"
   ]
  },
  {
   "cell_type": "code",
   "execution_count": 9,
   "id": "f7d47143",
   "metadata": {},
   "outputs": [
    {
     "name": "stdout",
     "output_type": "stream",
     "text": [
      "<class 'pandas.core.frame.DataFrame'>\n",
      "RangeIndex: 7728394 entries, 0 to 7728393\n",
      "Data columns (total 46 columns):\n",
      " #   Column                 Dtype  \n",
      "---  ------                 -----  \n",
      " 0   ID                     object \n",
      " 1   Source                 object \n",
      " 2   Severity               int64  \n",
      " 3   Start_Time             object \n",
      " 4   End_Time               object \n",
      " 5   Start_Lat              float64\n",
      " 6   Start_Lng              float64\n",
      " 7   End_Lat                float64\n",
      " 8   End_Lng                float64\n",
      " 9   Distance(mi)           float64\n",
      " 10  Description            object \n",
      " 11  Street                 object \n",
      " 12  City                   object \n",
      " 13  County                 object \n",
      " 14  State                  object \n",
      " 15  Zipcode                object \n",
      " 16  Country                object \n",
      " 17  Timezone               object \n",
      " 18  Airport_Code           object \n",
      " 19  Weather_Timestamp      object \n",
      " 20  Temperature(F)         float64\n",
      " 21  Wind_Chill(F)          float64\n",
      " 22  Humidity(%)            float64\n",
      " 23  Pressure(in)           float64\n",
      " 24  Visibility(mi)         float64\n",
      " 25  Wind_Direction         object \n",
      " 26  Wind_Speed(mph)        float64\n",
      " 27  Precipitation(in)      float64\n",
      " 28  Weather_Condition      object \n",
      " 29  Amenity                bool   \n",
      " 30  Bump                   bool   \n",
      " 31  Crossing               bool   \n",
      " 32  Give_Way               bool   \n",
      " 33  Junction               bool   \n",
      " 34  No_Exit                bool   \n",
      " 35  Railway                bool   \n",
      " 36  Roundabout             bool   \n",
      " 37  Station                bool   \n",
      " 38  Stop                   bool   \n",
      " 39  Traffic_Calming        bool   \n",
      " 40  Traffic_Signal         bool   \n",
      " 41  Turning_Loop           bool   \n",
      " 42  Sunrise_Sunset         object \n",
      " 43  Civil_Twilight         object \n",
      " 44  Nautical_Twilight      object \n",
      " 45  Astronomical_Twilight  object \n",
      "dtypes: bool(13), float64(12), int64(1), object(20)\n",
      "memory usage: 2.0+ GB\n"
     ]
    }
   ],
   "source": [
    "if _SPARK_:\n",
    "    data.printSchema()\n",
    "else:\n",
    "    data.info()"
   ]
  },
  {
   "cell_type": "code",
   "execution_count": 10,
   "id": "555ca1d5",
   "metadata": {},
   "outputs": [],
   "source": [
    "if _SPARK_:\n",
    "    data.show(5)\n",
    "else:\n",
    "    data.head(5)"
   ]
  },
  {
   "cell_type": "code",
   "execution_count": 11,
   "id": "b2589ce0",
   "metadata": {},
   "outputs": [],
   "source": [
    "if _SPARK_:\n",
    "    data.describe().show()\n",
    "else:\n",
    "    pass\n",
    "    "
   ]
  },
  {
   "cell_type": "markdown",
   "id": "23f78f1c",
   "metadata": {},
   "source": [
    "Very large dataset with over 7.7 million observations.  (I also chose to do some initial analysis ont he kaggle-provided sampled dataset which contains only 500k observations.)  So we will have to handle with care either by using Spark or through other tricks.\n",
    "\n",
    "\n",
    "Notes on Features: Dimensionally much more managable with just 45 features.\n",
    "- 'Severity' would appear to be the primary variable of interest; 'Description' might be interesting to experiment with.\n",
    "    * Upon further research, there is a 'Distance(mi)' feature that reflects the mileage of road that was impacted.\n",
    "    * Furthermore, we can calculate the duration of impact by calculating the delta between 'Start_Time' & 'End_Time'\n",
    "\n",
    "- 'Description' feature might be an interesting avenue to explore.  However, I suspect that it is collected/generated after the fact so there wouldn't be much predictive value.\n",
    "\n",
    "- A number of location features\n",
    "    * 'Start_Lat'/'Start_Lng' are easy enough to interpret but not sure what is meant by 'End_Lat' and 'End_Lng'\n",
    "    * Similar question for 'Distance(mi)'\n",
    "    * Street and City might not be useful features since they are not informative without further context.  \n",
    "\n",
    "- Identifiers in ID and Source\n",
    "\n",
    "- We have three time features ('Weather_Timestamp', 'Start_Time' and 'End_Time').\n",
    "    * They need to be [converted to datetimes](#datetimes).  Right now they are just strings.\n",
    "    * There may be an issue with inconsistent formatting.\n",
    "    * It may be interesting to use these values to engineer some features like time of day, season, weekday/weekend, etc.\n",
    "    * However, the information contained in 'Weather_Timestamp' is unclear.\n",
    "\n",
    "- There are 9 (not including 'Weather_Timestamp') features on the weather.\n",
    "    * Visability is probably the most relevant of these but 'Weather_Condition' might be a fine substitute/summary.\n",
    "\n",
    "-There are 5 binary features indicating whether or not it was light or dark out at the time of the incident.\n",
    "\n",
    "- Next are 10 binary features which seem to provide some information about the road infrastructure at the location of the accident.  \n"
   ]
  },
  {
   "cell_type": "code",
   "execution_count": 12,
   "id": "5e387875",
   "metadata": {},
   "outputs": [],
   "source": [
    "_TARGET_ = ['Severity']\n",
    "_NUMERICS_ = ['Distance(mi)','Temperature(F)',\n",
    "              'Wind_Chill(F)','Humidity(%)','Pressure(in)',\n",
    "              'Visibility(mi)','Wind_Speed(mph)','Precipitation(in)']"
   ]
  },
  {
   "cell_type": "markdown",
   "id": "964276f4",
   "metadata": {},
   "source": [
    "## Missing Values"
   ]
  },
  {
   "cell_type": "code",
   "execution_count": 13,
   "id": "97f0f749",
   "metadata": {},
   "outputs": [
    {
     "name": "stdout",
     "output_type": "stream",
     "text": [
      "End_Lat                  3402762\n",
      "End_Lng                  3402762\n",
      "Precipitation(in)        2203586\n",
      "Wind_Chill(F)            1999019\n",
      "Wind_Speed(mph)           571233\n",
      "Visibility(mi)            177098\n",
      "Wind_Direction            175206\n",
      "Humidity(%)               174144\n",
      "Weather_Condition         173459\n",
      "Temperature(F)            163853\n",
      "Pressure(in)              140679\n",
      "Weather_Timestamp         120228\n",
      "Nautical_Twilight          23246\n",
      "Civil_Twilight             23246\n",
      "Sunrise_Sunset             23246\n",
      "Astronomical_Twilight      23246\n",
      "Airport_Code               22635\n",
      "Street                     10869\n",
      "Timezone                    7808\n",
      "Zipcode                     1915\n",
      "City                         253\n",
      "Description                    5\n",
      "Traffic_Signal                 0\n",
      "Roundabout                     0\n",
      "Station                        0\n",
      "Stop                           0\n",
      "Traffic_Calming                0\n",
      "Country                        0\n",
      "Turning_Loop                   0\n",
      "No_Exit                        0\n",
      "End_Time                       0\n",
      "Start_Time                     0\n",
      "Severity                       0\n",
      "Railway                        0\n",
      "Crossing                       0\n",
      "Junction                       0\n",
      "Give_Way                       0\n",
      "Bump                           0\n",
      "Amenity                        0\n",
      "Start_Lat                      0\n",
      "Start_Lng                      0\n",
      "Distance(mi)                   0\n",
      "Source                         0\n",
      "County                         0\n",
      "State                          0\n",
      "ID                             0\n",
      "dtype: int64\n"
     ]
    }
   ],
   "source": [
    "if _SPARK_:\n",
    "    print(data.select(*[F.sum(F.isnull(F.col(c)).cast(\"int\")).alias(c) for c in data.columns]).show())\n",
    "else:\n",
    "    print(data.isna().sum().sort_values(ascending=False))"
   ]
  },
  {
   "cell_type": "markdown",
   "id": "35c92170",
   "metadata": {},
   "source": [
    "There is a lot of missing data. \n",
    "\n",
    "- Most notably, the 'End_Lat'/'End_Lng'.  Will have to confirm but it would appear that observations missing one are also missing the other.  \n",
    "- There aren't any missing values for 'Severity' as well as basic location data (gps + state/county).\n",
    "- Only five observations are missing 'Description' which may prove convenient.\n"
   ]
  },
  {
   "cell_type": "markdown",
   "id": "7db39547",
   "metadata": {},
   "source": [
    "## Duplicates\n",
    "\n",
    "There are no duplicates to deal with:"
   ]
  },
  {
   "cell_type": "code",
   "execution_count": 14,
   "id": "3a0914db",
   "metadata": {},
   "outputs": [
    {
     "name": "stdout",
     "output_type": "stream",
     "text": [
      "0\n"
     ]
    }
   ],
   "source": [
    "if _SPARK_:\n",
    "    duplicates = int(data.count() - data.dropDuplicates().count())\n",
    "    duplicates.show()\n",
    "else:\n",
    "    print(data.duplicated().sum())"
   ]
  },
  {
   "cell_type": "markdown",
   "id": "f5f9347b",
   "metadata": {},
   "source": [
    "## Outliers"
   ]
  },
  {
   "cell_type": "code",
   "execution_count": 15,
   "id": "28788e99",
   "metadata": {},
   "outputs": [
    {
     "name": "stdout",
     "output_type": "stream",
     "text": [
      "                       3      5     10    15    20\n",
      "Distance(mi)       109071  39983  9533  3722  1736\n",
      "Temperature(F)          0      0     0     0     0\n",
      "Wind_Chill(F)           0      0     0     0     0\n",
      "Humidity(%)             0      0     0     0     0\n",
      "Pressure(in)            0      0     0     0     0\n",
      "Visibility(mi)          0      0     0     0     0\n",
      "Wind_Speed(mph)         0      0     0     0     0\n",
      "Precipitation(in)       0      0     0     0     0\n"
     ]
    }
   ],
   "source": [
    "if _SPARK_:\n",
    "    pass\n",
    "else:\n",
    "    print(pd.DataFrame({c:{z:count_outliers(data[c],z) for z in [3,5,10,15,20]} for c in _NUMERICS_}).T)"
   ]
  },
  {
   "cell_type": "markdown",
   "id": "cbb844d4",
   "metadata": {},
   "source": [
    "Dealing with 'Distance' outliers requires additional research about the feature itself."
   ]
  },
  {
   "cell_type": "markdown",
   "id": "66250376",
   "metadata": {},
   "source": [
    "## Severity"
   ]
  },
  {
   "cell_type": "code",
   "execution_count": 16,
   "id": "d8567d79",
   "metadata": {},
   "outputs": [
    {
     "data": {
      "text/plain": [
       "Severity\n",
       "2    6156981\n",
       "3    1299337\n",
       "4     204710\n",
       "1      67366\n",
       "Name: count, dtype: int64"
      ]
     },
     "execution_count": 16,
     "metadata": {},
     "output_type": "execute_result"
    }
   ],
   "source": [
    "data['Severity'].value_counts()"
   ]
  },
  {
   "cell_type": "code",
   "execution_count": null,
   "id": "4e548061",
   "metadata": {},
   "outputs": [],
   "source": [
    "sns.histplot(data['Distance(mi)'])  "
   ]
  },
  {
   "cell_type": "markdown",
   "id": "0e090d3e",
   "metadata": {},
   "source": [
    "## High-Level Features"
   ]
  },
  {
   "cell_type": "markdown",
   "id": "668865e4",
   "metadata": {},
   "source": [
    "### Country"
   ]
  },
  {
   "cell_type": "code",
   "execution_count": 17,
   "id": "1ce3641d",
   "metadata": {},
   "outputs": [
    {
     "data": {
      "text/plain": [
       "Country\n",
       "US    7728394\n",
       "Name: count, dtype: int64"
      ]
     },
     "execution_count": 17,
     "metadata": {},
     "output_type": "execute_result"
    }
   ],
   "source": [
    "data['Country'].value_counts()"
   ]
  },
  {
   "cell_type": "markdown",
   "id": "b47fe0ba",
   "metadata": {},
   "source": [
    "We can cut this 'Country' feature entirely from the data going forward."
   ]
  },
  {
   "cell_type": "code",
   "execution_count": null,
   "id": "ea87d227",
   "metadata": {},
   "outputs": [],
   "source": [
    "data['State'].value_counts(dropna=False,normalize=True)"
   ]
  },
  {
   "cell_type": "code",
   "execution_count": null,
   "id": "8d4dc911",
   "metadata": {},
   "outputs": [],
   "source": [
    "data['Zipcode'].value_counts(dropna=False,normalize=True)"
   ]
  },
  {
   "cell_type": "code",
   "execution_count": null,
   "id": "6819c46e",
   "metadata": {},
   "outputs": [],
   "source": [
    "data['Airport_Code'].value_counts(dropna=False,normalize=True)"
   ]
  },
  {
   "cell_type": "markdown",
   "id": "1e8c72e0",
   "metadata": {},
   "source": [
    "### Weather"
   ]
  },
  {
   "cell_type": "code",
   "execution_count": 1,
   "id": "438a8e23",
   "metadata": {},
   "outputs": [],
   "source": [
    "_WeatherInfo_ = ['Temperature(F)','WindChill(F)',\n",
    "                 'Humidity(%)','Pressure(in)','Visibility(mi)',\n",
    "                 'Wind_Direction','Wind_Speed(mph)','Precipitation(in)',\n",
    "                 'Weather_Condition'\n",
    "                 ]"
   ]
  },
  {
   "cell_type": "code",
   "execution_count": null,
   "id": "8d51e11c",
   "metadata": {},
   "outputs": [],
   "source": [
    "sns.pairplot(data[_WeatherInfo_])"
   ]
  },
  {
   "cell_type": "code",
   "execution_count": null,
   "id": "947ab0e8",
   "metadata": {},
   "outputs": [],
   "source": [
    "data['Weather_Condition'].value_counts(dropna=False,normalize=True)"
   ]
  },
  {
   "cell_type": "markdown",
   "id": "5e9630b4",
   "metadata": {},
   "source": [
    "### Night/Day Features\n",
    "\n",
    "There appears to be multiple indicators for day/night that need to be explored."
   ]
  },
  {
   "cell_type": "code",
   "execution_count": 18,
   "id": "bdb2dd50",
   "metadata": {},
   "outputs": [
    {
     "data": {
      "text/html": [
       "<div>\n",
       "<style scoped>\n",
       "    .dataframe tbody tr th:only-of-type {\n",
       "        vertical-align: middle;\n",
       "    }\n",
       "\n",
       "    .dataframe tbody tr th {\n",
       "        vertical-align: top;\n",
       "    }\n",
       "\n",
       "    .dataframe thead th {\n",
       "        text-align: right;\n",
       "    }\n",
       "</style>\n",
       "<table border=\"1\" class=\"dataframe\">\n",
       "  <thead>\n",
       "    <tr style=\"text-align: right;\">\n",
       "      <th>Astronomical_Twilight</th>\n",
       "      <th>Day</th>\n",
       "      <th>Night</th>\n",
       "    </tr>\n",
       "    <tr>\n",
       "      <th>Nautical_Twilight</th>\n",
       "      <th></th>\n",
       "      <th></th>\n",
       "    </tr>\n",
       "  </thead>\n",
       "  <tbody>\n",
       "    <tr>\n",
       "      <th>Day</th>\n",
       "      <td>6070128</td>\n",
       "      <td>6028</td>\n",
       "    </tr>\n",
       "    <tr>\n",
       "      <th>Night</th>\n",
       "      <td>307420</td>\n",
       "      <td>1321572</td>\n",
       "    </tr>\n",
       "  </tbody>\n",
       "</table>\n",
       "</div>"
      ],
      "text/plain": [
       "Astronomical_Twilight      Day    Night\n",
       "Nautical_Twilight                      \n",
       "Day                    6070128     6028\n",
       "Night                   307420  1321572"
      ]
     },
     "execution_count": 18,
     "metadata": {},
     "output_type": "execute_result"
    }
   ],
   "source": [
    "pd.crosstab(data['Nautical_Twilight'],data['Astronomical_Twilight'])"
   ]
  },
  {
   "cell_type": "code",
   "execution_count": 19,
   "id": "9fa47858",
   "metadata": {},
   "outputs": [
    {
     "data": {
      "text/html": [
       "<div>\n",
       "<style scoped>\n",
       "    .dataframe tbody tr th:only-of-type {\n",
       "        vertical-align: middle;\n",
       "    }\n",
       "\n",
       "    .dataframe tbody tr th {\n",
       "        vertical-align: top;\n",
       "    }\n",
       "\n",
       "    .dataframe thead th {\n",
       "        text-align: right;\n",
       "    }\n",
       "</style>\n",
       "<table border=\"1\" class=\"dataframe\">\n",
       "  <thead>\n",
       "    <tr style=\"text-align: right;\">\n",
       "      <th>Civil_Twilight</th>\n",
       "      <th>Day</th>\n",
       "      <th>Night</th>\n",
       "    </tr>\n",
       "    <tr>\n",
       "      <th>Nautical_Twilight</th>\n",
       "      <th></th>\n",
       "      <th></th>\n",
       "    </tr>\n",
       "  </thead>\n",
       "  <tbody>\n",
       "    <tr>\n",
       "      <th>Day</th>\n",
       "      <td>5695619</td>\n",
       "      <td>380537</td>\n",
       "    </tr>\n",
       "    <tr>\n",
       "      <th>Night</th>\n",
       "      <td>0</td>\n",
       "      <td>1628992</td>\n",
       "    </tr>\n",
       "  </tbody>\n",
       "</table>\n",
       "</div>"
      ],
      "text/plain": [
       "Civil_Twilight         Day    Night\n",
       "Nautical_Twilight                  \n",
       "Day                5695619   380537\n",
       "Night                    0  1628992"
      ]
     },
     "execution_count": 19,
     "metadata": {},
     "output_type": "execute_result"
    }
   ],
   "source": [
    "pd.crosstab(data['Nautical_Twilight'],data['Civil_Twilight'])"
   ]
  },
  {
   "cell_type": "code",
   "execution_count": 20,
   "id": "dde8d2dc",
   "metadata": {},
   "outputs": [
    {
     "data": {
      "text/html": [
       "<div>\n",
       "<style scoped>\n",
       "    .dataframe tbody tr th:only-of-type {\n",
       "        vertical-align: middle;\n",
       "    }\n",
       "\n",
       "    .dataframe tbody tr th {\n",
       "        vertical-align: top;\n",
       "    }\n",
       "\n",
       "    .dataframe thead th {\n",
       "        text-align: right;\n",
       "    }\n",
       "</style>\n",
       "<table border=\"1\" class=\"dataframe\">\n",
       "  <thead>\n",
       "    <tr style=\"text-align: right;\">\n",
       "      <th>Sunrise_Sunset</th>\n",
       "      <th>Day</th>\n",
       "      <th>Night</th>\n",
       "    </tr>\n",
       "    <tr>\n",
       "      <th>Nautical_Twilight</th>\n",
       "      <th></th>\n",
       "      <th></th>\n",
       "    </tr>\n",
       "  </thead>\n",
       "  <tbody>\n",
       "    <tr>\n",
       "      <th>Day</th>\n",
       "      <td>5334553</td>\n",
       "      <td>741603</td>\n",
       "    </tr>\n",
       "    <tr>\n",
       "      <th>Night</th>\n",
       "      <td>0</td>\n",
       "      <td>1628992</td>\n",
       "    </tr>\n",
       "  </tbody>\n",
       "</table>\n",
       "</div>"
      ],
      "text/plain": [
       "Sunrise_Sunset         Day    Night\n",
       "Nautical_Twilight                  \n",
       "Day                5334553   741603\n",
       "Night                    0  1628992"
      ]
     },
     "execution_count": 20,
     "metadata": {},
     "output_type": "execute_result"
    }
   ],
   "source": [
    "pd.crosstab(data['Nautical_Twilight'],data['Sunrise_Sunset'])"
   ]
  },
  {
   "cell_type": "code",
   "execution_count": 21,
   "id": "3dc28b3b",
   "metadata": {},
   "outputs": [
    {
     "data": {
      "text/html": [
       "<div>\n",
       "<style scoped>\n",
       "    .dataframe tbody tr th:only-of-type {\n",
       "        vertical-align: middle;\n",
       "    }\n",
       "\n",
       "    .dataframe tbody tr th {\n",
       "        vertical-align: top;\n",
       "    }\n",
       "\n",
       "    .dataframe thead th {\n",
       "        text-align: right;\n",
       "    }\n",
       "</style>\n",
       "<table border=\"1\" class=\"dataframe\">\n",
       "  <thead>\n",
       "    <tr style=\"text-align: right;\">\n",
       "      <th>Civil_Twilight</th>\n",
       "      <th>Day</th>\n",
       "      <th>Night</th>\n",
       "    </tr>\n",
       "    <tr>\n",
       "      <th>Astronomical_Twilight</th>\n",
       "      <th></th>\n",
       "      <th></th>\n",
       "    </tr>\n",
       "  </thead>\n",
       "  <tbody>\n",
       "    <tr>\n",
       "      <th>Day</th>\n",
       "      <td>5689968</td>\n",
       "      <td>687580</td>\n",
       "    </tr>\n",
       "    <tr>\n",
       "      <th>Night</th>\n",
       "      <td>5651</td>\n",
       "      <td>1321949</td>\n",
       "    </tr>\n",
       "  </tbody>\n",
       "</table>\n",
       "</div>"
      ],
      "text/plain": [
       "Civil_Twilight             Day    Night\n",
       "Astronomical_Twilight                  \n",
       "Day                    5689968   687580\n",
       "Night                     5651  1321949"
      ]
     },
     "execution_count": 21,
     "metadata": {},
     "output_type": "execute_result"
    }
   ],
   "source": [
    "pd.crosstab(data['Astronomical_Twilight'],data['Civil_Twilight'])"
   ]
  },
  {
   "cell_type": "code",
   "execution_count": 22,
   "id": "45491860",
   "metadata": {},
   "outputs": [
    {
     "data": {
      "text/html": [
       "<div>\n",
       "<style scoped>\n",
       "    .dataframe tbody tr th:only-of-type {\n",
       "        vertical-align: middle;\n",
       "    }\n",
       "\n",
       "    .dataframe tbody tr th {\n",
       "        vertical-align: top;\n",
       "    }\n",
       "\n",
       "    .dataframe thead th {\n",
       "        text-align: right;\n",
       "    }\n",
       "</style>\n",
       "<table border=\"1\" class=\"dataframe\">\n",
       "  <thead>\n",
       "    <tr style=\"text-align: right;\">\n",
       "      <th>Sunrise_Sunset</th>\n",
       "      <th>Day</th>\n",
       "      <th>Night</th>\n",
       "    </tr>\n",
       "    <tr>\n",
       "      <th>Astronomical_Twilight</th>\n",
       "      <th></th>\n",
       "      <th></th>\n",
       "    </tr>\n",
       "  </thead>\n",
       "  <tbody>\n",
       "    <tr>\n",
       "      <th>Day</th>\n",
       "      <td>5329105</td>\n",
       "      <td>1048443</td>\n",
       "    </tr>\n",
       "    <tr>\n",
       "      <th>Night</th>\n",
       "      <td>5448</td>\n",
       "      <td>1322152</td>\n",
       "    </tr>\n",
       "  </tbody>\n",
       "</table>\n",
       "</div>"
      ],
      "text/plain": [
       "Sunrise_Sunset             Day    Night\n",
       "Astronomical_Twilight                  \n",
       "Day                    5329105  1048443\n",
       "Night                     5448  1322152"
      ]
     },
     "execution_count": 22,
     "metadata": {},
     "output_type": "execute_result"
    }
   ],
   "source": [
    "pd.crosstab(data['Astronomical_Twilight'],data['Sunrise_Sunset'])"
   ]
  },
  {
   "cell_type": "code",
   "execution_count": 23,
   "id": "8e6d75e4",
   "metadata": {},
   "outputs": [
    {
     "data": {
      "text/html": [
       "<div>\n",
       "<style scoped>\n",
       "    .dataframe tbody tr th:only-of-type {\n",
       "        vertical-align: middle;\n",
       "    }\n",
       "\n",
       "    .dataframe tbody tr th {\n",
       "        vertical-align: top;\n",
       "    }\n",
       "\n",
       "    .dataframe thead th {\n",
       "        text-align: right;\n",
       "    }\n",
       "</style>\n",
       "<table border=\"1\" class=\"dataframe\">\n",
       "  <thead>\n",
       "    <tr style=\"text-align: right;\">\n",
       "      <th>Sunrise_Sunset</th>\n",
       "      <th>Day</th>\n",
       "      <th>Night</th>\n",
       "    </tr>\n",
       "    <tr>\n",
       "      <th>Civil_Twilight</th>\n",
       "      <th></th>\n",
       "      <th></th>\n",
       "    </tr>\n",
       "  </thead>\n",
       "  <tbody>\n",
       "    <tr>\n",
       "      <th>Day</th>\n",
       "      <td>5334473</td>\n",
       "      <td>361146</td>\n",
       "    </tr>\n",
       "    <tr>\n",
       "      <th>Night</th>\n",
       "      <td>80</td>\n",
       "      <td>2009449</td>\n",
       "    </tr>\n",
       "  </tbody>\n",
       "</table>\n",
       "</div>"
      ],
      "text/plain": [
       "Sunrise_Sunset      Day    Night\n",
       "Civil_Twilight                  \n",
       "Day             5334473   361146\n",
       "Night                80  2009449"
      ]
     },
     "execution_count": 23,
     "metadata": {},
     "output_type": "execute_result"
    }
   ],
   "source": [
    "pd.crosstab(data['Civil_Twilight'],data['Sunrise_Sunset'])"
   ]
  },
  {
   "cell_type": "markdown",
   "id": "abffbbee",
   "metadata": {},
   "source": [
    "### Infrastructure"
   ]
  },
  {
   "cell_type": "code",
   "execution_count": null,
   "id": "76bae1b7",
   "metadata": {},
   "outputs": [],
   "source": []
  },
  {
   "cell_type": "markdown",
   "id": "7249add0",
   "metadata": {},
   "source": [
    "# 3-Data Processing"
   ]
  },
  {
   "cell_type": "code",
   "execution_count": null,
   "id": "b714ee29",
   "metadata": {},
   "outputs": [],
   "source": [
    "if _SPARK_:\n",
    "    spark = SparkSession.builder.appName(\"Accident Data Project\").getOrCreate()\n",
    "    data_clean = spark.read.csv('US_Accidents_March23.csv',header=True,inferSchema=True)\n",
    "else:\n",
    "    if _LITE_SWITCH_:\n",
    "        data_clean = pd.read_csv('US_Accidents_March23_sampled_500k.csv')\n",
    "    else:\n",
    "        data_clean = pd.read_csv('US_Accidents_March23.csv')\n",
    "    "
   ]
  },
  {
   "cell_type": "markdown",
   "id": "b151a623",
   "metadata": {},
   "source": [
    "<a id='datetimes'> Converting dates </a>"
   ]
  },
  {
   "cell_type": "code",
   "execution_count": null,
   "id": "2ccd8255",
   "metadata": {},
   "outputs": [],
   "source": [
    "if _SPARK_:\n",
    "    pass\n",
    "else:\n",
    "    data_clean['Start'] = pd.to_datetime(data['Start_Time'],format='mixed')\n",
    "    data_clean['End'] = pd.to_datetime(data['End_Time'],format='mixed')"
   ]
  },
  {
   "cell_type": "markdown",
   "id": "c64eda3a",
   "metadata": {},
   "source": [
    "## Engineer Features"
   ]
  },
  {
   "cell_type": "markdown",
   "id": "bdb6f5b6",
   "metadata": {},
   "source": [
    "### Partition the time data"
   ]
  },
  {
   "cell_type": "code",
   "execution_count": null,
   "id": "2a55419d",
   "metadata": {},
   "outputs": [],
   "source": [
    "if _SPARK_:\n",
    "    pass\n",
    "else:\n",
    "    data_clean['Month'] = data_clean['Start'].dt.month\n",
    "    data_clean['Year'] = data_clean['Start'].dt.year\n",
    "    data_clean['Day'] = data_clean['Start'].dt.day\n",
    "    data_clean['DayofWeek'] = data_clean['Start'].dt.day_of_week\n",
    "    data_clean['Quarter'] = data_clean['Start'].dt.quarter\n",
    "    data_clean['Hour'] = data_clean['Start'].dt.hour"
   ]
  },
  {
   "cell_type": "code",
   "execution_count": null,
   "id": "a74c8a6b",
   "metadata": {},
   "outputs": [],
   "source": [
    "data_clean['Year'].value_counts(normalize=True).sort_index()"
   ]
  },
  {
   "cell_type": "code",
   "execution_count": null,
   "id": "e19cd05e",
   "metadata": {},
   "outputs": [],
   "source": [
    "data_clean['Month'].value_counts(normalize=True).sort_index()"
   ]
  },
  {
   "cell_type": "code",
   "execution_count": null,
   "id": "8d8c0dd1",
   "metadata": {},
   "outputs": [],
   "source": [
    "data_clean['Quarter'].value_counts(normalize=True)"
   ]
  },
  {
   "cell_type": "code",
   "execution_count": null,
   "id": "c655ce84",
   "metadata": {},
   "outputs": [],
   "source": [
    "data_clean['DayofWeek'].value_counts(normalize=True).sort_index()"
   ]
  },
  {
   "cell_type": "code",
   "execution_count": null,
   "id": "eba6f1c5",
   "metadata": {},
   "outputs": [],
   "source": [
    "data_clean['Hour'].value_counts(normalize=True).sort_index()"
   ]
  },
  {
   "cell_type": "code",
   "execution_count": null,
   "id": "92387aba",
   "metadata": {},
   "outputs": [],
   "source": [
    "if _SPARK_:\n",
    "    accdidents_year = data.stat.crosstab('Year','Severity')\n",
    "else:\n",
    "    accdidents_year = pd.crosstab(data_clean['Year'],data_clean['Severity'])\n",
    "\n",
    "    accdidents_year['Total']=accdidents_year.sum(axis=1)\n",
    "    accdidents_year['Average']=accdidents_year.apply(lambda r:sum(i*r[i] for i in range(1,5))/r['Total'],axis=1)"
   ]
  },
  {
   "cell_type": "code",
   "execution_count": null,
   "id": "5bfaecea",
   "metadata": {},
   "outputs": [],
   "source": [
    "accdidents_year"
   ]
  },
  {
   "cell_type": "code",
   "execution_count": null,
   "id": "bf47daa2",
   "metadata": {},
   "outputs": [],
   "source": [
    "accidents_calendar = pd.pivot_table(data_clean,columns='Year',index='Month',values='Severity')"
   ]
  },
  {
   "cell_type": "code",
   "execution_count": null,
   "id": "b90baf34",
   "metadata": {},
   "outputs": [],
   "source": [
    "accidents_calendar"
   ]
  },
  {
   "cell_type": "markdown",
   "id": "a5b58ef2",
   "metadata": {},
   "source": [
    "Spatial-Based Data"
   ]
  },
  {
   "cell_type": "code",
   "execution_count": null,
   "id": "50450ea4",
   "metadata": {},
   "outputs": [],
   "source": [
    "data_clean.State.value_counts()"
   ]
  },
  {
   "cell_type": "markdown",
   "id": "cf12b6b5",
   "metadata": {},
   "source": [
    "### Nature of Incident"
   ]
  },
  {
   "cell_type": "code",
   "execution_count": null,
   "id": "0087c9da",
   "metadata": {},
   "outputs": [],
   "source": [
    "data_clean['TimeofImpact(hrs)'] = (data_clean['End'] - data_clean['Start'])/360"
   ]
  },
  {
   "cell_type": "code",
   "execution_count": null,
   "id": "2c1c83dc",
   "metadata": {},
   "outputs": [],
   "source": [
    "sns.histplot(data_clean['TimeofImpact(hrs)'])"
   ]
  },
  {
   "cell_type": "markdown",
   "id": "4662a124",
   "metadata": {},
   "source": [
    "## Saveout Data"
   ]
  },
  {
   "cell_type": "code",
   "execution_count": null,
   "id": "07d79e29",
   "metadata": {},
   "outputs": [],
   "source": [
    "data_clean.to_csv('AccidentData_Clean.csv')"
   ]
  },
  {
   "cell_type": "markdown",
   "id": "f4fc96c2",
   "metadata": {},
   "source": [
    "# 4-Full EDA"
   ]
  },
  {
   "cell_type": "code",
   "execution_count": null,
   "id": "343aa5fd",
   "metadata": {},
   "outputs": [],
   "source": []
  },
  {
   "cell_type": "markdown",
   "id": "de9ce133",
   "metadata": {},
   "source": [
    "## Target Variable"
   ]
  },
  {
   "cell_type": "code",
   "execution_count": null,
   "id": "eb0c6987",
   "metadata": {},
   "outputs": [],
   "source": [
    "data_clean['Severity'].describe()"
   ]
  },
  {
   "cell_type": "code",
   "execution_count": null,
   "id": "b0c01dd1",
   "metadata": {},
   "outputs": [],
   "source": [
    "if _LITE_SWITCH_:\n",
    "    sns.histplot(data_clean['Severity'])\n",
    "else:\n",
    "    pass"
   ]
  },
  {
   "cell_type": "markdown",
   "id": "531183ad",
   "metadata": {},
   "source": [
    "## Feature Variables"
   ]
  },
  {
   "cell_type": "markdown",
   "id": "b1b7261f",
   "metadata": {},
   "source": [
    "### Relationships"
   ]
  },
  {
   "cell_type": "code",
   "execution_count": null,
   "id": "7f01ba67",
   "metadata": {},
   "outputs": [],
   "source": [
    "if _SPARK_:\n",
    "    corr_data = data_clean.select(_NUMERICS_)\n",
    "    col_names = corr_data.columns\n",
    "    features = corr_data.rdd.map(lambda row: row[0:]) \n",
    "    corrs = Statistics.corr(features, method=\"pearson\")\n",
    "else:\n",
    "    corrs = data_clean[_NUMERICS_].corr()\n",
    "    print(corrs)\n",
    "   "
   ]
  },
  {
   "cell_type": "code",
   "execution_count": null,
   "id": "54696f8e",
   "metadata": {},
   "outputs": [],
   "source": [
    "sns.heatmap(corrs,vmin=-1,vmax=1,cmap='coolwarm')"
   ]
  },
  {
   "cell_type": "markdown",
   "id": "b953cd29",
   "metadata": {},
   "source": [
    "### Against Target Variable"
   ]
  },
  {
   "cell_type": "code",
   "execution_count": null,
   "id": "400023b8",
   "metadata": {},
   "outputs": [],
   "source": []
  },
  {
   "cell_type": "markdown",
   "id": "c2367ee5",
   "metadata": {},
   "source": [
    "# 5-Statistical Analysis"
   ]
  },
  {
   "cell_type": "markdown",
   "id": "ae49165c",
   "metadata": {},
   "source": [
    "## Basic"
   ]
  },
  {
   "cell_type": "code",
   "execution_count": null,
   "id": "d2d4be09",
   "metadata": {},
   "outputs": [],
   "source": []
  },
  {
   "cell_type": "markdown",
   "id": "4a4abe18",
   "metadata": {},
   "source": [
    "## Advanced"
   ]
  },
  {
   "cell_type": "code",
   "execution_count": null,
   "id": "16fe163d",
   "metadata": {},
   "outputs": [],
   "source": []
  },
  {
   "cell_type": "markdown",
   "id": "1c99fd9a",
   "metadata": {},
   "source": [
    "# 6-Insights & Conclusions"
   ]
  },
  {
   "cell_type": "markdown",
   "id": "1ac636b3",
   "metadata": {},
   "source": [
    "## Annual Distinctions"
   ]
  },
  {
   "cell_type": "code",
   "execution_count": null,
   "id": "becea5a2",
   "metadata": {},
   "outputs": [],
   "source": []
  },
  {
   "cell_type": "markdown",
   "id": "22d40560",
   "metadata": {},
   "source": [
    "## Temporal & Spatial Considerations\n",
    "\n",
    "How do accident counts relate to different times of the day and for different region types (urban vs rural)?"
   ]
  },
  {
   "cell_type": "code",
   "execution_count": null,
   "id": "473dea22",
   "metadata": {},
   "outputs": [],
   "source": []
  },
  {
   "cell_type": "markdown",
   "id": "a00b3086",
   "metadata": {},
   "source": [
    "## Severity Prediction"
   ]
  },
  {
   "cell_type": "code",
   "execution_count": null,
   "id": "e5c7e582",
   "metadata": {},
   "outputs": [],
   "source": []
  },
  {
   "cell_type": "markdown",
   "id": "4161a87b",
   "metadata": {},
   "source": [
    "## Unusual Weather \n",
    "\n",
    "Does driving in unexpected weather--based on area, time of year and/or both--create a higher likelihood of an accident."
   ]
  },
  {
   "cell_type": "code",
   "execution_count": null,
   "id": "0e186ab0",
   "metadata": {},
   "outputs": [],
   "source": []
  },
  {
   "cell_type": "markdown",
   "id": "0d0343fb",
   "metadata": {},
   "source": [
    "## Famous Highways"
   ]
  },
  {
   "cell_type": "code",
   "execution_count": null,
   "id": "b1ac08d2",
   "metadata": {},
   "outputs": [],
   "source": []
  },
  {
   "cell_type": "markdown",
   "id": "40f7b787",
   "metadata": {},
   "source": [
    "## Highway's Near Urban Areas\n",
    "\n",
    "For cross-state"
   ]
  },
  {
   "cell_type": "code",
   "execution_count": null,
   "id": "8d9a29e5",
   "metadata": {},
   "outputs": [],
   "source": []
  },
  {
   "cell_type": "markdown",
   "id": "2e130a9d",
   "metadata": {},
   "source": [
    "## Naturual Language\n",
    "\n",
    "Examination of the description feature."
   ]
  },
  {
   "cell_type": "code",
   "execution_count": null,
   "id": "4cc9eb56",
   "metadata": {},
   "outputs": [],
   "source": []
  },
  {
   "cell_type": "markdown",
   "id": "5c11d1dc",
   "metadata": {},
   "source": [
    "## Safety Infrastructure\n",
    "Does certain road infrastructure projects help reduce the number of incidents?"
   ]
  },
  {
   "cell_type": "code",
   "execution_count": null,
   "id": "c65af31e",
   "metadata": {},
   "outputs": [],
   "source": []
  },
  {
   "cell_type": "markdown",
   "id": "d7adc83b",
   "metadata": {},
   "source": [
    "## New Traffic Pattern\n",
    "\n",
    "Does the existence of a new traffic pattern in the area increase the likelihood of an accident?"
   ]
  },
  {
   "cell_type": "code",
   "execution_count": null,
   "id": "6e122f67",
   "metadata": {},
   "outputs": [],
   "source": []
  },
  {
   "cell_type": "markdown",
   "id": "68316f14",
   "metadata": {},
   "source": [
    "## Recent Accident Indicator\n",
    "\n",
    "Does the presence of one accident, predict another."
   ]
  },
  {
   "cell_type": "code",
   "execution_count": null,
   "id": "f2548875",
   "metadata": {},
   "outputs": [],
   "source": []
  }
 ],
 "metadata": {
  "kernelspec": {
   "display_name": "base",
   "language": "python",
   "name": "python3"
  },
  "language_info": {
   "codemirror_mode": {
    "name": "ipython",
    "version": 3
   },
   "file_extension": ".py",
   "mimetype": "text/x-python",
   "name": "python",
   "nbconvert_exporter": "python",
   "pygments_lexer": "ipython3",
   "version": "3.12.7"
  }
 },
 "nbformat": 4,
 "nbformat_minor": 5
}
