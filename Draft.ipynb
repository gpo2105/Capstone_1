{
 "cells": [
  {
   "cell_type": "markdown",
   "id": "af6e13aa",
   "metadata": {},
   "source": [
    "# Project Introduction"
   ]
  },
  {
   "cell_type": "markdown",
   "id": "f28a6e29",
   "metadata": {},
   "source": [
    "__[Department of Transportation's Responsibilities](https://www.google.com/search?client=safari&rls=en&q=department+of+transportation+responsibilities&ie=UTF-8&oe=UTF-8)__\n",
    "\n",
    "Through this dataset, I have identified the three following patterns:\n",
    "1. IDEA 1 w/ LOCAL LINK\n",
    "2. IDEA 2 w/ LOCAL LINK\n",
    "3. IDEA 3 w/ LOCAL LINK"
   ]
  },
  {
   "cell_type": "markdown",
   "id": "3d8c8b96",
   "metadata": {},
   "source": [
    "## Resources:\n",
    "\n",
    "- __[Kaggle-Full](https://www.kaggle.com/datasets/sobhanmoosavi/us-accidents/data)__\n",
    "\n",
    "- __[Kaggle-Sampled](https://drive.google.com/file/d/1U3u8QYzLjnEaSurtZfSAS_oh9AT2Mn8X/edit)__\n",
    "\n",
    "- __[Bing API](https://learn.microsoft.com/en-us/bingmaps/rest-services/traffic/get-traffic-incidents#supported-http-methods)__\n",
    "\n",
    "- __[MQuest API](https://developer.mapquest.com/documentation/api/traffic/incidents/get.html)__\n",
    "\n",
    "- __['A Countrywide Traffic Accident Dataset'](https://arxiv.org/pdf/1906.05409)__\n",
    "\n",
    "- __['Accident Risk Prediction based on Heterogenous Sparse Data: New Dataset & Insights](https://arxiv.org/pdf/1909.09638)__\n",
    "\n",
    "- __['Census Data'](https://www.census.gov/acs/www/data/data-tables-and-tools/subject-tables/)__"
   ]
  },
  {
   "cell_type": "markdown",
   "id": "62454dd5",
   "metadata": {},
   "source": [
    "# 1-Setup Environment"
   ]
  },
  {
   "cell_type": "markdown",
   "id": "ac1c0833",
   "metadata": {},
   "source": [
    "## Libraries"
   ]
  },
  {
   "cell_type": "code",
   "execution_count": null,
   "id": "a57cd187",
   "metadata": {},
   "outputs": [],
   "source": [
    "#Utilities\n",
    "import warnings\n",
    "\n",
    "# Data Basics\n",
    "import pandas as pd\n",
    "import numpy as np\n",
    "import missingno as msgno\n",
    "\n",
    "#Time Data\n",
    "from datetime import date, timedelta\n",
    "\n",
    "\n",
    "#PySpark\n",
    "from pyspark.sql import SparkSession\n",
    "from pyspark.mllib.stat import Statistics\n",
    "import pyspark.sql.functions as F\n",
    "\n",
    "#Visuals\n",
    "import matplotlib.pyplot as plt\n",
    "import seaborn as sns\n",
    "\n",
    "\n",
    "# Statistical Analysis\n",
    "from scipy.stats import zscore, f_oneway, chi2_contingency, chisquare\n",
    "import statsmodels.api as sm\n",
    "from statsmodels.formula.api import ols\n",
    "from sklearn.decomposition import PCA\n",
    "from sklearn.cluster import KMeans\n",
    "from sklearn.metrics import silhouette_score\n",
    "from yellowbrick.cluster import KElbowVisualizer, SilhouetteVisualizer\n",
    "from sklearn.preprocessing import StandardScaler, OneHotEncoder\n",
    "\n",
    "\n",
    "# Spatial Tools\n",
    "import geopy\n",
    "import geopy.distance\n",
    "import census\n",
    "import requests\n",
    "\n",
    "# Text Tools\n",
    "import re\n",
    "from wordcloud import WordCloud\n",
    "\n",
    "from nltk.tokenize import word_tokenize, sent_tokenize\n",
    "from nltk.corpus import stopwords, wordnet\n",
    "from nltk.probability import FreqDist\n",
    "from nltk.stem import PorterStemmer, WordNetLemmatizer\n",
    "from nltk.util import ngrams"
   ]
  },
  {
   "cell_type": "markdown",
   "id": "e5e3276e",
   "metadata": {},
   "source": [
    "## Info on New Libraries\n",
    "For improved analysis, these libraries were included, but not covered in the course material:\n",
    "\n",
    "- __[Geopy:  ](https://geopy.readthedocs.io/en/stable/)__\n",
    "\n",
    "- Census:\n",
    "    * __[PyPi](https://pypi.org/project/census/)__\n",
    "    * __[API](https://www.census.gov/data/developers/guidance/api-user-guide.html)__\n",
    "\n",
    "- MissingNo:  \n",
    "    * __[Library](https://github.com/ResidentMario/missingno)__\n",
    "    \n",
    "    * __[Tutorial](https://www.geeksforgeeks.org/python-visualize-missing-values-nan-values-using-missingno-library/)__\n",
    "\n",
    "- __[Yellowbrick](https://www.scikit-yb.org/en/latest/)__"
   ]
  },
  {
   "cell_type": "markdown",
   "id": "9f26743b",
   "metadata": {},
   "source": [
    "## Settings"
   ]
  },
  {
   "cell_type": "code",
   "execution_count": 3,
   "id": "f9caeba6",
   "metadata": {},
   "outputs": [],
   "source": [
    "pd.set_option('display.max_columns', None)\n",
    "pd.set_option('display.float_format', lambda x: '%.3f' % x)\n",
    "pd.set_option('display.width', 500)\n",
    "_LITE_SWITCH_ = True\n",
    "_SPARK_ = False"
   ]
  },
  {
   "cell_type": "markdown",
   "id": "fbd5bb42",
   "metadata": {},
   "source": [
    "## Custom Functions"
   ]
  },
  {
   "cell_type": "code",
   "execution_count": 6,
   "id": "190743bc",
   "metadata": {},
   "outputs": [],
   "source": [
    "# For High-level data exploration\n",
    "def count_outliers(df_col,cap=3):\n",
    "    zs = zscore(df_col)\n",
    "    return df_col[zs > cap].shape[0]"
   ]
  },
  {
   "cell_type": "code",
   "execution_count": 7,
   "id": "0f0bc4be",
   "metadata": {},
   "outputs": [],
   "source": [
    "# For Identify Unusual Weather Pattern(s)\n",
    "def unusual_weather(observation):\n",
    "    flag = False\n",
    "    return flag"
   ]
  },
  {
   "cell_type": "code",
   "execution_count": null,
   "id": "fa2098b9",
   "metadata": {},
   "outputs": [],
   "source": [
    "cities = {\n",
    "            'NYC':('40.7128','74.0060'),\n",
    "            'Chicago':('41.8781','87.6298'),\n",
    "            'Miami':('25.7617','80.1918'),\n",
    "            'Atlanta':('33.7501', '84.3885'),\n",
    "            'Charlotte':('35.2216','80.8401'),\n",
    "            'Dallas':('32.7767', '96.7970'),\n",
    "            'Houston':('29.7601','95.3701'),\n",
    "            'Denver': ('39.7392', '104.9903'),\n",
    "            'LA':('34.0549', '118.2426'),\n",
    "            'Seattle':('47.6061', '122.3328')\n",
    "         }\n",
    "def within_limits(event,city,radius=25):\n",
    "    flag = False\n",
    "    return flag\n",
    "\n",
    "def distance_btwn_incidents(eventA,eventB):\n",
    "    ptA = (str(eventA['Start_Lat']),str(eventA['Start_Lng']))\n",
    "    ptB = (str(eventB['Start_Lat']),str(eventB['Start_Lng']))\n",
    "def dist(pt_0,pt_1):\n",
    "    return geopy.distance.distance(pt_0,pt_1).miles"
   ]
  },
  {
   "cell_type": "code",
   "execution_count": 9,
   "id": "373f6059",
   "metadata": {},
   "outputs": [],
   "source": [
    "def highway_indicator(eventA):\n",
    "    pass"
   ]
  },
  {
   "cell_type": "code",
   "execution_count": 10,
   "id": "617e13cd",
   "metadata": {},
   "outputs": [],
   "source": [
    "def same_road(eventA,eventB):\n",
    "    indicator = False\n",
    "    road_identifiers = ['Street','City','State','Zipcode']\n",
    "    indicator = all(eventA[id]==eventB[id] for id in road_identifiers)\n",
    "    return indicator"
   ]
  },
  {
   "cell_type": "code",
   "execution_count": 11,
   "id": "bd9e695f",
   "metadata": {},
   "outputs": [],
   "source": [
    "# For indicating whether two events are close in space and, optionally, time.\n",
    "def proximity_indicator(eventA,eventB,space_band=15,time_band=0):\n",
    "    flag = False\n",
    "    distance = dist(eventA[['longitude','latitude']],eventB[['longitude','latitude']])\n",
    "    if (time_band > 0):\n",
    "        time_lapse = abs(eventA['time']-eventB['time'])\n",
    "        flag = bool((space_band > distance) and (time_band > time_lapse))\n",
    "    else:\n",
    "        flag = bool(space_band > distance)\n",
    "    return flag"
   ]
  },
  {
   "cell_type": "code",
   "execution_count": 13,
   "id": "1bcccad1",
   "metadata": {},
   "outputs": [],
   "source": [
    "# Holiday Indicators\n",
    "# Given by Google:\n",
    "def calculate_memorial_day(year):\n",
    "    # Get the last day of May\n",
    "    last_day_of_may = date(year, 5, 31)\n",
    "\n",
    "    # Get the weekday of the last day of May (0=Monday, 6=Sunday)\n",
    "    weekday = last_day_of_may.weekday()\n",
    "\n",
    "    # Calculate the offset to get to the last Monday\n",
    "    offset = (weekday - 0) % 7\n",
    "\n",
    "    # Calculate Memorial Day\n",
    "    memorial_day = last_day_of_may - timedelta(days=offset)\n",
    "\n",
    "    return memorial_day\n",
    "\n",
    "# Given by Google:\n",
    "def get_thanksgiving_date(year):\n",
    "    # Get the first day of November\n",
    "    first_november = date(year, 11, 1)\n",
    "    \n",
    "    # Calculate the day of the week for the first of November (0 = Monday, 6 = Sunday)\n",
    "    first_day_weekday = first_november.weekday()\n",
    "    \n",
    "    # Calculate the number of days to add to get to the first Thursday\n",
    "    days_to_first_thursday = (3 - first_day_weekday) % 7\n",
    "    \n",
    "    # Calculate the date of the first Thursday of November\n",
    "    first_thursday = first_november + timedelta(days=days_to_first_thursday)\n",
    "    \n",
    "    # Add 3 weeks (21 days) to get to the fourth Thursday (Thanksgiving)\n",
    "    thanksgiving_date = first_thursday + timedelta(days=21)\n",
    "    \n",
    "    return thanksgiving_date\n",
    "\n",
    "def get_labor_day(year):\n",
    "    first = date(year,9,1)\n",
    "    d = first\n",
    "    while d.weekday() > 0:\n",
    "       d = d + timedelta(days=1)\n",
    "    return d"
   ]
  },
  {
   "cell_type": "code",
   "execution_count": null,
   "id": "da77837c",
   "metadata": {},
   "outputs": [],
   "source": [
    "def test_category(feature_name,dataset):\n",
    "    # Time of Impact--ANOVA\n",
    "    model_time = ols(f\"Q('Time_of_Impact(hr)') ~ C({feature_name})\", data=dataset).fit()\n",
    "    anova_table_time = sm.stats.anova_lm(model_time, typ=2)\n",
    "    # Distance of Impact--ANOVA\n",
    "    model_distance = ols(f\"Q('Distance(mi)') ~ C({feature_name})\", data=dataset).fit()\n",
    "    anova_table_distance = sm.stats.anova_lm(model_distance, typ=2)\n",
    "    # Severity Distribution--ANOVA\n",
    "    contingency_table = pd.crosstab(dataset[feature_name], dataset['Severity'])\n",
    "    chi_results = chi2_contingency(contingency_table)\n",
    "    return anova_table_time, anova_table_distance, chi_results\n",
    "\n",
    "def display_categories(feature_name,dataset):\n",
    "    plt.figure(figsize=(12, 6))\n",
    "    plt.subplot(1, 2, 1)\n",
    "    sns.boxplot(x=feature_name, y='Severity', data=dataset, palette='viridis')\n",
    "    plt.title('Accident Severity by '+feature_name)\n",
    "    plt.subplot(1, 2, 2)\n",
    "    dataset[feature_name].value_counts().plot(kind='bar', color='skyblue')\n",
    "    plt.title('Total Accidents by '+feature_name)\n",
    "    plt.tight_layout()\n",
    "    plt.show()\n",
    "    pass"
   ]
  },
  {
   "cell_type": "code",
   "execution_count": null,
   "id": "7650841f",
   "metadata": {},
   "outputs": [],
   "source": [
    "def test_results(feature_name,dataset,alpha=0.975,visuals=True):\n",
    "    anova_time,anova_distance,chi_test= test_category(feature_name,dataset)\n",
    "    p_vals = dict()\n",
    "    p_vals['time'] = ('ANOVA',anova_time['PR(>F)'].iloc[0])\n",
    "    p_vals['distance'] = ('ANOVA', anova_distance['PR(>F)'].iloc[0])\n",
    "    p_vals['severity'] = ('CHI-Squared', chi_test[1])\n",
    "\n",
    "    test_results = []\n",
    "    for topic, p_val in p_vals.items():\n",
    "        msg = f\"Based on the {p_val[0]} test's p-value of {p_val[1]}, \"\n",
    "        null_hypo = f\"the null hypothesis that there is no significant difference in incident {topic}\"\n",
    "        null_hypo += f\" across different {feature_name}s.\"\n",
    "        if (1 - alpha) > p_val[1]:\n",
    "            msg += f\"we reject \" + null_hypo\n",
    "        else:\n",
    "            msg += f\"we fail to reject \" + null_hypo\n",
    "        print(msg)\n",
    "        test_results.append(msg)\n",
    "    if visuals:\n",
    "        display_categories(feature_name=feature_name,dataset=dataset)\n",
    "    return test_results, [anova_time,anova_distance,chi_test]\n",
    "\n"
   ]
  },
  {
   "cell_type": "code",
   "execution_count": 117,
   "id": "e09b651b",
   "metadata": {},
   "outputs": [],
   "source": [
    "def census_data(yr,state_county=False):\n",
    "    base_link = f'https://api.census.gov/data/{yr}/acs/acs1?get=group(B08301)&ucgid=pseudo(0100000US$0400000)'\n",
    "    #base_link = f'https://api.census.gov/data/{yr}/acs/acs5/subject?'\n",
    "    if state_county:\n",
    "        add_on = f'get=group(B08301)&POPGROUP=001&ucgid=pseudo(0100000US$0500000)'\n",
    "    else:\n",
    "        add_on = f''\n",
    "        #add_on = f'get=group(B08301)&ucgid=pseudo(0100000US$0400000)'\n",
    "\n",
    "    census_link = base_link + add_on\n",
    "    \n",
    "    r = requests.get(census_link)\n",
    "    df = pd.DataFrame(r.json())\n",
    "    df.columns = df.iloc[0]\n",
    "    df = df.drop(0)\n",
    "    df = df.set_index('NAME')\n",
    "    columns = [c for c in df.columns if c.endswith('E')]\n",
    "    df = df[columns]\n",
    "    col_names = ['Total','Car_Truck_Van',\n",
    "                'DriveAlone',\n",
    "                'Carpool','2Person_Pool','3Person_Pool','4Person_Pool','56Person_Pool','7UpPerson_Pool',\n",
    "                'Public','Bus','Subway','LongDistanceRail','LightRail','Ferry',\n",
    "                'Taxi','Motorcycle','Bicycle','Walked','Other','WorkFromHome'\n",
    "                ]\n",
    "\n",
    "    df.columns = col_names\n",
    "    df = df.astype(int)\n",
    "    df[col_names] = df[col_names].apply(lambda r:r/r['Total'],axis=1)\n",
    "    columns_filtered = ['DriveAlone','Carpool','Bus','Subway','LongDistanceRail','LightRail',\n",
    "                        'Ferry','Taxi','Motorcycle','Bicycle','Walked','Other','WorkFromHome']\n",
    "    return df[columns_filtered]"
   ]
  },
  {
   "cell_type": "markdown",
   "id": "54ad15e6",
   "metadata": {},
   "source": [
    "## Load Dataset"
   ]
  },
  {
   "cell_type": "code",
   "execution_count": 14,
   "id": "d09a8e27",
   "metadata": {},
   "outputs": [],
   "source": [
    "if _SPARK_:\n",
    "    spark = SparkSession.builder.appName(\"Accident Data Project\").getOrCreate()\n",
    "    data = spark.read.csv('US_Accidents_March23.csv',header=True,inferSchema=True)\n",
    "else:\n",
    "    if _LITE_SWITCH_:\n",
    "        data = pd.read_csv('US_Accidents_March23_sampled_500k.csv')\n",
    "    else:\n",
    "        data = pd.read_csv('US_Accidents_March23.csv')\n",
    "    "
   ]
  },
  {
   "cell_type": "code",
   "execution_count": null,
   "id": "d3a41f81",
   "metadata": {},
   "outputs": [],
   "source": [
    "for yr in range(2016,2024):\n",
    "    commute_census = census_data(yr)\n",
    "    commute_census.to_csv(f'Commute_{yr}.csv')"
   ]
  },
  {
   "cell_type": "markdown",
   "id": "dda9e963",
   "metadata": {},
   "source": [
    "# 2-Initial EDA"
   ]
  },
  {
   "cell_type": "markdown",
   "id": "ce0ade77",
   "metadata": {},
   "source": [
    "## Schema & Feature Basics"
   ]
  },
  {
   "cell_type": "code",
   "execution_count": 15,
   "id": "f7d47143",
   "metadata": {},
   "outputs": [
    {
     "name": "stdout",
     "output_type": "stream",
     "text": [
      "<class 'pandas.core.frame.DataFrame'>\n",
      "RangeIndex: 500000 entries, 0 to 499999\n",
      "Data columns (total 46 columns):\n",
      " #   Column                 Non-Null Count   Dtype  \n",
      "---  ------                 --------------   -----  \n",
      " 0   ID                     500000 non-null  object \n",
      " 1   Source                 500000 non-null  object \n",
      " 2   Severity               500000 non-null  int64  \n",
      " 3   Start_Time             500000 non-null  object \n",
      " 4   End_Time               500000 non-null  object \n",
      " 5   Start_Lat              500000 non-null  float64\n",
      " 6   Start_Lng              500000 non-null  float64\n",
      " 7   End_Lat                279623 non-null  float64\n",
      " 8   End_Lng                279623 non-null  float64\n",
      " 9   Distance(mi)           500000 non-null  float64\n",
      " 10  Description            499999 non-null  object \n",
      " 11  Street                 499309 non-null  object \n",
      " 12  City                   499981 non-null  object \n",
      " 13  County                 500000 non-null  object \n",
      " 14  State                  500000 non-null  object \n",
      " 15  Zipcode                499884 non-null  object \n",
      " 16  Country                500000 non-null  object \n",
      " 17  Timezone               499493 non-null  object \n",
      " 18  Airport_Code           498554 non-null  object \n",
      " 19  Weather_Timestamp      492326 non-null  object \n",
      " 20  Temperature(F)         489534 non-null  float64\n",
      " 21  Wind_Chill(F)          370983 non-null  float64\n",
      " 22  Humidity(%)            488870 non-null  float64\n",
      " 23  Pressure(in)           491072 non-null  float64\n",
      " 24  Visibility(mi)         488709 non-null  float64\n",
      " 25  Wind_Direction         488803 non-null  object \n",
      " 26  Wind_Speed(mph)        463013 non-null  float64\n",
      " 27  Precipitation(in)      357384 non-null  float64\n",
      " 28  Weather_Condition      488899 non-null  object \n",
      " 29  Amenity                500000 non-null  bool   \n",
      " 30  Bump                   500000 non-null  bool   \n",
      " 31  Crossing               500000 non-null  bool   \n",
      " 32  Give_Way               500000 non-null  bool   \n",
      " 33  Junction               500000 non-null  bool   \n",
      " 34  No_Exit                500000 non-null  bool   \n",
      " 35  Railway                500000 non-null  bool   \n",
      " 36  Roundabout             500000 non-null  bool   \n",
      " 37  Station                500000 non-null  bool   \n",
      " 38  Stop                   500000 non-null  bool   \n",
      " 39  Traffic_Calming        500000 non-null  bool   \n",
      " 40  Traffic_Signal         500000 non-null  bool   \n",
      " 41  Turning_Loop           500000 non-null  bool   \n",
      " 42  Sunrise_Sunset         498517 non-null  object \n",
      " 43  Civil_Twilight         498517 non-null  object \n",
      " 44  Nautical_Twilight      498517 non-null  object \n",
      " 45  Astronomical_Twilight  498517 non-null  object \n",
      "dtypes: bool(13), float64(12), int64(1), object(20)\n",
      "memory usage: 132.1+ MB\n"
     ]
    }
   ],
   "source": [
    "if _SPARK_:\n",
    "    data.printSchema()\n",
    "    print(\"Features: \",len(data.columns))\n",
    "    print(\"Entries:  \",data.count())\n",
    "else:\n",
    "    data.info()"
   ]
  },
  {
   "cell_type": "code",
   "execution_count": 16,
   "id": "555ca1d5",
   "metadata": {},
   "outputs": [],
   "source": [
    "if _SPARK_:\n",
    "    data.show(5,vertical=False)\n",
    "else:\n",
    "    data.head(5)"
   ]
  },
  {
   "cell_type": "code",
   "execution_count": 17,
   "id": "b2589ce0",
   "metadata": {},
   "outputs": [],
   "source": [
    "if _SPARK_:\n",
    "    data.describe().show()\n",
    "else:\n",
    "    pass\n",
    "    "
   ]
  },
  {
   "cell_type": "markdown",
   "id": "23f78f1c",
   "metadata": {},
   "source": [
    "Very large dataset with over 7.7 million observations.  (I also chose to do some initial analysis ont he kaggle-provided sampled dataset which contains only 500k observations.)  So we will have to handle with care either by using Spark or through other tricks.\n",
    "\n",
    "\n",
    "Notes on Features: Dimensionally much more managable with just 45 features.\n",
    "- 'Severity' would appear to be the primary variable of interest; 'Description' might be interesting to experiment with.\n",
    "    * Upon further research, there is a 'Distance(mi)' feature that reflects the mileage of road that was impacted.\n",
    "    * Furthermore, we can calculate the duration of impact by calculating the delta between 'Start_Time' & 'End_Time'\n",
    "\n",
    "- 'Description' feature might be an interesting avenue to explore.  However, I suspect that it is collected/generated after the fact so there wouldn't be much predictive value.\n",
    "\n",
    "- A number of location features\n",
    "    * 'Start_Lat'/'Start_Lng' are easy enough to interpret but not sure what is meant by 'End_Lat' and 'End_Lng'\n",
    "    * Similar question for 'Distance(mi)'\n",
    "    * Street and City might not be useful features since they are not informative without further context.  \n",
    "\n",
    "- Identifiers in ID and Source\n",
    "\n",
    "- We have three time features ('Weather_Timestamp', 'Start_Time' and 'End_Time').\n",
    "    * They need to be [converted to datetimes](#datetimes).  Right now they are just strings.\n",
    "    * There may be an issue with inconsistent formatting.\n",
    "    * It may be interesting to use these values to engineer some features like time of day, season, weekday/weekend, etc.\n",
    "    * However, the information contained in 'Weather_Timestamp' is unclear.\n",
    "\n",
    "- There are 9 (not including 'Weather_Timestamp') features on the weather.\n",
    "    * Visability is probably the most relevant of these but 'Weather_Condition' might be a fine substitute/summary.\n",
    "\n",
    "-There are 5 binary features indicating whether or not it was light or dark out at the time of the incident.\n",
    "\n",
    "- Next are 10 binary features which seem to provide some information about the road infrastructure at the location of the accident.  \n"
   ]
  },
  {
   "cell_type": "code",
   "execution_count": 18,
   "id": "5e387875",
   "metadata": {},
   "outputs": [],
   "source": [
    "_TARGET_ = ['Severity']\n",
    "_NUMERICS_ = ['Distance(mi)','Temperature(F)',\n",
    "              'Wind_Chill(F)','Humidity(%)','Pressure(in)',\n",
    "              'Visibility(mi)','Wind_Speed(mph)','Precipitation(in)']"
   ]
  },
  {
   "cell_type": "markdown",
   "id": "964276f4",
   "metadata": {},
   "source": [
    "## Missing Values"
   ]
  },
  {
   "cell_type": "code",
   "execution_count": 19,
   "id": "97f0f749",
   "metadata": {},
   "outputs": [
    {
     "name": "stdout",
     "output_type": "stream",
     "text": [
      "End_Lat                  220377\n",
      "End_Lng                  220377\n",
      "Precipitation(in)        142616\n",
      "Wind_Chill(F)            129017\n",
      "Wind_Speed(mph)           36987\n",
      "Visibility(mi)            11291\n",
      "Wind_Direction            11197\n",
      "Humidity(%)               11130\n",
      "Weather_Condition         11101\n",
      "Temperature(F)            10466\n",
      "Pressure(in)               8928\n",
      "Weather_Timestamp          7674\n",
      "Nautical_Twilight          1483\n",
      "Civil_Twilight             1483\n",
      "Sunrise_Sunset             1483\n",
      "Astronomical_Twilight      1483\n",
      "Airport_Code               1446\n",
      "Street                      691\n",
      "Timezone                    507\n",
      "Zipcode                     116\n",
      "City                         19\n",
      "Description                   1\n",
      "Traffic_Signal                0\n",
      "Roundabout                    0\n",
      "Station                       0\n",
      "Stop                          0\n",
      "Traffic_Calming               0\n",
      "Country                       0\n",
      "Turning_Loop                  0\n",
      "No_Exit                       0\n",
      "End_Time                      0\n",
      "Start_Time                    0\n",
      "Severity                      0\n",
      "Railway                       0\n",
      "Crossing                      0\n",
      "Junction                      0\n",
      "Give_Way                      0\n",
      "Bump                          0\n",
      "Amenity                       0\n",
      "Start_Lat                     0\n",
      "Start_Lng                     0\n",
      "Distance(mi)                  0\n",
      "Source                        0\n",
      "County                        0\n",
      "State                         0\n",
      "ID                            0\n",
      "dtype: int64\n"
     ]
    }
   ],
   "source": [
    "if _SPARK_:\n",
    "    missing = data.select(*[F.sum(F.isnull(F.col(c)).cast(\"int\")).alias(c) for c in data.columns])\n",
    "    print(missing.show(vertical=True))\n",
    "else:\n",
    "    print(data.isna().sum().sort_values(ascending=False))"
   ]
  },
  {
   "cell_type": "markdown",
   "id": "35c92170",
   "metadata": {},
   "source": [
    "There is a lot of missing data. \n",
    "\n",
    "- Most notably, the 'End_Lat'/'End_Lng'.  Will have to confirm but it would appear that observations missing one are also missing the other.  \n",
    "- There aren't any missing values for 'Severity' as well as basic location data (gps + state/county).\n",
    "- Only a handful of observations are missing 'Description' which may prove convenient.\n"
   ]
  },
  {
   "cell_type": "code",
   "execution_count": null,
   "id": "c6612280",
   "metadata": {},
   "outputs": [
    {
     "data": {
      "text/plain": [
       "<Axes: >"
      ]
     },
     "execution_count": 20,
     "metadata": {},
     "output_type": "execute_result"
    },
    {
     "data": {
      "image/png": "[encoded data removed]",
      "text/plain": [
       "<Figure size 2000x1200 with 2 Axes>"
      ]
     },
     "metadata": {},
     "output_type": "display_data"
    }
   ],
   "source": [
    "msgno.heatmap(data);"
   ]
  },
  {
   "cell_type": "markdown",
   "id": "1d45b362",
   "metadata": {},
   "source": [
    "Good to know:\n",
    "* Confirmed that Latitude/Longitude Data are strictly missing together.\n",
    "\n",
    "* Weather data seems to be missing together in general but not perfectly missing and not a uniform relationship (Precipitation and Wind Direction for example).\n",
    "\n",
    "* The day/night variables are strictly missing together.  "
   ]
  },
  {
   "cell_type": "markdown",
   "id": "7db39547",
   "metadata": {},
   "source": [
    "## Duplicates\n",
    "\n",
    "There are no duplicates to deal with:"
   ]
  },
  {
   "cell_type": "code",
   "execution_count": 21,
   "id": "3a0914db",
   "metadata": {},
   "outputs": [
    {
     "name": "stdout",
     "output_type": "stream",
     "text": [
      "0\n"
     ]
    }
   ],
   "source": [
    "if _SPARK_:\n",
    "    duplicates = int(data.count() - data.dropDuplicates().count())\n",
    "    duplicates.show()\n",
    "else:\n",
    "    print(data.duplicated().sum())"
   ]
  },
  {
   "cell_type": "markdown",
   "id": "f5f9347b",
   "metadata": {},
   "source": [
    "## Outliers"
   ]
  },
  {
   "cell_type": "code",
   "execution_count": 22,
   "id": "28788e99",
   "metadata": {},
   "outputs": [
    {
     "name": "stdout",
     "output_type": "stream",
     "text": [
      "                     3     5    10   15   20\n",
      "Distance(mi)       7079  2660  632  248  114\n",
      "Temperature(F)        0     0    0    0    0\n",
      "Wind_Chill(F)         0     0    0    0    0\n",
      "Humidity(%)           0     0    0    0    0\n",
      "Pressure(in)          0     0    0    0    0\n",
      "Visibility(mi)        0     0    0    0    0\n",
      "Wind_Speed(mph)       0     0    0    0    0\n",
      "Precipitation(in)     0     0    0    0    0\n"
     ]
    }
   ],
   "source": [
    "if _SPARK_:\n",
    "    pass\n",
    "else:\n",
    "    print(pd.DataFrame({c:{z:count_outliers(data[c],z) for z in [3,5,10,15,20]} for c in _NUMERICS_}).T)"
   ]
  },
  {
   "cell_type": "markdown",
   "id": "cbb844d4",
   "metadata": {},
   "source": [
    "The distance feature may have some outlier issues.  However, this may be a function of the feature's nature as almost all incidents will not impact a large swath of the road. "
   ]
  },
  {
   "cell_type": "markdown",
   "id": "dac519b8",
   "metadata": {},
   "source": [
    "## High-Level Features"
   ]
  },
  {
   "cell_type": "markdown",
   "id": "66250376",
   "metadata": {},
   "source": [
    "### Nature of Accident"
   ]
  },
  {
   "cell_type": "code",
   "execution_count": 23,
   "id": "d8567d79",
   "metadata": {},
   "outputs": [
    {
     "data": {
      "text/plain": [
       "Severity\n",
       "2    398142\n",
       "3     84520\n",
       "4     13064\n",
       "1      4274\n",
       "Name: count, dtype: int64"
      ]
     },
     "execution_count": 23,
     "metadata": {},
     "output_type": "execute_result"
    }
   ],
   "source": [
    "data['Severity'].value_counts()"
   ]
  },
  {
   "cell_type": "code",
   "execution_count": 24,
   "id": "f4374a42",
   "metadata": {},
   "outputs": [
    {
     "data": {
      "text/plain": [
       "(-0.194, 7.739]       495934\n",
       "(7.739, 15.478]         3145\n",
       "(15.478, 23.218]         549\n",
       "(23.218, 30.957]         194\n",
       "(30.957, 38.696]          83\n",
       "(38.696, 46.435]          38\n",
       "(46.435, 54.174]          18\n",
       "(54.174, 61.914]          13\n",
       "(61.914, 69.653]           8\n",
       "(69.653, 77.392]           8\n",
       "(77.392, 85.131]           2\n",
       "(85.131, 92.87]            1\n",
       "(92.87, 100.61]            1\n",
       "(100.61, 108.349]          1\n",
       "(108.349, 116.088]         1\n",
       "(116.088, 123.827]         0\n",
       "(123.827, 131.566]         1\n",
       "(131.566, 139.306]         0\n",
       "(139.306, 147.045]         0\n",
       "(147.045, 154.784]         2\n",
       "(154.784, 162.523]         0\n",
       "(162.523, 170.262]         0\n",
       "(170.262, 178.002]         0\n",
       "(178.002, 185.741]         0\n",
       "(185.741, 193.48]          1\n",
       "Name: count, dtype: int64"
      ]
     },
     "execution_count": 24,
     "metadata": {},
     "output_type": "execute_result"
    }
   ],
   "source": [
    "data['Distance(mi)'].value_counts(bins=25).sort_index(ascending=True)"
   ]
  },
  {
   "cell_type": "code",
   "execution_count": 25,
   "id": "9d859519",
   "metadata": {},
   "outputs": [
    {
     "data": {
      "text/plain": [
       "0.427174"
      ]
     },
     "execution_count": 25,
     "metadata": {},
     "output_type": "execute_result"
    }
   ],
   "source": [
    "(data['Distance(mi)']==0).sum()/data.shape[0]"
   ]
  },
  {
   "cell_type": "code",
   "execution_count": 26,
   "id": "209e6116",
   "metadata": {},
   "outputs": [
    {
     "data": {
      "text/html": [
       "<div>\n",
       "<style scoped>\n",
       "    .dataframe tbody tr th:only-of-type {\n",
       "        vertical-align: middle;\n",
       "    }\n",
       "\n",
       "    .dataframe tbody tr th {\n",
       "        vertical-align: top;\n",
       "    }\n",
       "\n",
       "    .dataframe thead th {\n",
       "        text-align: right;\n",
       "    }\n",
       "</style>\n",
       "<table border=\"1\" class=\"dataframe\">\n",
       "  <thead>\n",
       "    <tr style=\"text-align: right;\">\n",
       "      <th></th>\n",
       "      <th>ID</th>\n",
       "      <th>Source</th>\n",
       "      <th>Start_Time</th>\n",
       "      <th>End_Time</th>\n",
       "      <th>Start_Lat</th>\n",
       "      <th>Start_Lng</th>\n",
       "      <th>End_Lat</th>\n",
       "      <th>End_Lng</th>\n",
       "      <th>Distance(mi)</th>\n",
       "      <th>Description</th>\n",
       "      <th>Street</th>\n",
       "      <th>City</th>\n",
       "      <th>County</th>\n",
       "      <th>State</th>\n",
       "      <th>Zipcode</th>\n",
       "      <th>Country</th>\n",
       "      <th>Timezone</th>\n",
       "      <th>Airport_Code</th>\n",
       "      <th>Weather_Timestamp</th>\n",
       "      <th>Temperature(F)</th>\n",
       "      <th>Wind_Chill(F)</th>\n",
       "      <th>Humidity(%)</th>\n",
       "      <th>Pressure(in)</th>\n",
       "      <th>Visibility(mi)</th>\n",
       "      <th>Wind_Direction</th>\n",
       "      <th>Wind_Speed(mph)</th>\n",
       "      <th>Precipitation(in)</th>\n",
       "      <th>Weather_Condition</th>\n",
       "      <th>Amenity</th>\n",
       "      <th>Bump</th>\n",
       "      <th>Crossing</th>\n",
       "      <th>Give_Way</th>\n",
       "      <th>Junction</th>\n",
       "      <th>No_Exit</th>\n",
       "      <th>Railway</th>\n",
       "      <th>Roundabout</th>\n",
       "      <th>Station</th>\n",
       "      <th>Stop</th>\n",
       "      <th>Traffic_Calming</th>\n",
       "      <th>Traffic_Signal</th>\n",
       "      <th>Turning_Loop</th>\n",
       "      <th>Sunrise_Sunset</th>\n",
       "      <th>Civil_Twilight</th>\n",
       "      <th>Nautical_Twilight</th>\n",
       "      <th>Astronomical_Twilight</th>\n",
       "    </tr>\n",
       "    <tr>\n",
       "      <th>Severity</th>\n",
       "      <th></th>\n",
       "      <th></th>\n",
       "      <th></th>\n",
       "      <th></th>\n",
       "      <th></th>\n",
       "      <th></th>\n",
       "      <th></th>\n",
       "      <th></th>\n",
       "      <th></th>\n",
       "      <th></th>\n",
       "      <th></th>\n",
       "      <th></th>\n",
       "      <th></th>\n",
       "      <th></th>\n",
       "      <th></th>\n",
       "      <th></th>\n",
       "      <th></th>\n",
       "      <th></th>\n",
       "      <th></th>\n",
       "      <th></th>\n",
       "      <th></th>\n",
       "      <th></th>\n",
       "      <th></th>\n",
       "      <th></th>\n",
       "      <th></th>\n",
       "      <th></th>\n",
       "      <th></th>\n",
       "      <th></th>\n",
       "      <th></th>\n",
       "      <th></th>\n",
       "      <th></th>\n",
       "      <th></th>\n",
       "      <th></th>\n",
       "      <th></th>\n",
       "      <th></th>\n",
       "      <th></th>\n",
       "      <th></th>\n",
       "      <th></th>\n",
       "      <th></th>\n",
       "      <th></th>\n",
       "      <th></th>\n",
       "      <th></th>\n",
       "      <th></th>\n",
       "      <th></th>\n",
       "      <th></th>\n",
       "    </tr>\n",
       "  </thead>\n",
       "  <tbody>\n",
       "    <tr>\n",
       "      <th>1</th>\n",
       "      <td>3996</td>\n",
       "      <td>3996</td>\n",
       "      <td>3996</td>\n",
       "      <td>3996</td>\n",
       "      <td>3996</td>\n",
       "      <td>3996</td>\n",
       "      <td>1604</td>\n",
       "      <td>1604</td>\n",
       "      <td>3996</td>\n",
       "      <td>3996</td>\n",
       "      <td>3993</td>\n",
       "      <td>3996</td>\n",
       "      <td>3996</td>\n",
       "      <td>3996</td>\n",
       "      <td>3993</td>\n",
       "      <td>3996</td>\n",
       "      <td>3988</td>\n",
       "      <td>3984</td>\n",
       "      <td>3952</td>\n",
       "      <td>3912</td>\n",
       "      <td>3847</td>\n",
       "      <td>3905</td>\n",
       "      <td>3939</td>\n",
       "      <td>3933</td>\n",
       "      <td>3907</td>\n",
       "      <td>3898</td>\n",
       "      <td>3749</td>\n",
       "      <td>3934</td>\n",
       "      <td>3996</td>\n",
       "      <td>3996</td>\n",
       "      <td>3996</td>\n",
       "      <td>3996</td>\n",
       "      <td>3996</td>\n",
       "      <td>3996</td>\n",
       "      <td>3996</td>\n",
       "      <td>3996</td>\n",
       "      <td>3996</td>\n",
       "      <td>3996</td>\n",
       "      <td>3996</td>\n",
       "      <td>3996</td>\n",
       "      <td>3996</td>\n",
       "      <td>3983</td>\n",
       "      <td>3983</td>\n",
       "      <td>3983</td>\n",
       "      <td>3983</td>\n",
       "    </tr>\n",
       "    <tr>\n",
       "      <th>2</th>\n",
       "      <td>147901</td>\n",
       "      <td>147901</td>\n",
       "      <td>147901</td>\n",
       "      <td>147901</td>\n",
       "      <td>147901</td>\n",
       "      <td>147901</td>\n",
       "      <td>21160</td>\n",
       "      <td>21160</td>\n",
       "      <td>147901</td>\n",
       "      <td>147901</td>\n",
       "      <td>147862</td>\n",
       "      <td>147898</td>\n",
       "      <td>147901</td>\n",
       "      <td>147901</td>\n",
       "      <td>147883</td>\n",
       "      <td>147901</td>\n",
       "      <td>147715</td>\n",
       "      <td>147637</td>\n",
       "      <td>146104</td>\n",
       "      <td>145391</td>\n",
       "      <td>94482</td>\n",
       "      <td>145220</td>\n",
       "      <td>145824</td>\n",
       "      <td>145238</td>\n",
       "      <td>145259</td>\n",
       "      <td>134156</td>\n",
       "      <td>89328</td>\n",
       "      <td>145201</td>\n",
       "      <td>147901</td>\n",
       "      <td>147901</td>\n",
       "      <td>147901</td>\n",
       "      <td>147901</td>\n",
       "      <td>147901</td>\n",
       "      <td>147901</td>\n",
       "      <td>147901</td>\n",
       "      <td>147901</td>\n",
       "      <td>147901</td>\n",
       "      <td>147901</td>\n",
       "      <td>147901</td>\n",
       "      <td>147901</td>\n",
       "      <td>147901</td>\n",
       "      <td>147851</td>\n",
       "      <td>147851</td>\n",
       "      <td>147851</td>\n",
       "      <td>147851</td>\n",
       "    </tr>\n",
       "    <tr>\n",
       "      <th>3</th>\n",
       "      <td>61118</td>\n",
       "      <td>61118</td>\n",
       "      <td>61118</td>\n",
       "      <td>61118</td>\n",
       "      <td>61118</td>\n",
       "      <td>61118</td>\n",
       "      <td>2675</td>\n",
       "      <td>2675</td>\n",
       "      <td>61118</td>\n",
       "      <td>61117</td>\n",
       "      <td>61076</td>\n",
       "      <td>61117</td>\n",
       "      <td>61118</td>\n",
       "      <td>61118</td>\n",
       "      <td>61103</td>\n",
       "      <td>61118</td>\n",
       "      <td>61083</td>\n",
       "      <td>60972</td>\n",
       "      <td>60307</td>\n",
       "      <td>59940</td>\n",
       "      <td>35755</td>\n",
       "      <td>59868</td>\n",
       "      <td>60107</td>\n",
       "      <td>59780</td>\n",
       "      <td>60002</td>\n",
       "      <td>54559</td>\n",
       "      <td>34210</td>\n",
       "      <td>59795</td>\n",
       "      <td>61118</td>\n",
       "      <td>61118</td>\n",
       "      <td>61118</td>\n",
       "      <td>61118</td>\n",
       "      <td>61118</td>\n",
       "      <td>61118</td>\n",
       "      <td>61118</td>\n",
       "      <td>61118</td>\n",
       "      <td>61118</td>\n",
       "      <td>61118</td>\n",
       "      <td>61118</td>\n",
       "      <td>61118</td>\n",
       "      <td>61118</td>\n",
       "      <td>61087</td>\n",
       "      <td>61087</td>\n",
       "      <td>61087</td>\n",
       "      <td>61087</td>\n",
       "    </tr>\n",
       "    <tr>\n",
       "      <th>4</th>\n",
       "      <td>572</td>\n",
       "      <td>572</td>\n",
       "      <td>572</td>\n",
       "      <td>572</td>\n",
       "      <td>572</td>\n",
       "      <td>572</td>\n",
       "      <td>422</td>\n",
       "      <td>422</td>\n",
       "      <td>572</td>\n",
       "      <td>572</td>\n",
       "      <td>572</td>\n",
       "      <td>572</td>\n",
       "      <td>572</td>\n",
       "      <td>572</td>\n",
       "      <td>571</td>\n",
       "      <td>572</td>\n",
       "      <td>571</td>\n",
       "      <td>570</td>\n",
       "      <td>567</td>\n",
       "      <td>565</td>\n",
       "      <td>437</td>\n",
       "      <td>565</td>\n",
       "      <td>564</td>\n",
       "      <td>562</td>\n",
       "      <td>557</td>\n",
       "      <td>527</td>\n",
       "      <td>425</td>\n",
       "      <td>559</td>\n",
       "      <td>572</td>\n",
       "      <td>572</td>\n",
       "      <td>572</td>\n",
       "      <td>572</td>\n",
       "      <td>572</td>\n",
       "      <td>572</td>\n",
       "      <td>572</td>\n",
       "      <td>572</td>\n",
       "      <td>572</td>\n",
       "      <td>572</td>\n",
       "      <td>572</td>\n",
       "      <td>572</td>\n",
       "      <td>572</td>\n",
       "      <td>572</td>\n",
       "      <td>572</td>\n",
       "      <td>572</td>\n",
       "      <td>572</td>\n",
       "    </tr>\n",
       "  </tbody>\n",
       "</table>\n",
       "</div>"
      ],
      "text/plain": [
       "              ID  Source  Start_Time  End_Time  Start_Lat  Start_Lng  End_Lat  End_Lng  Distance(mi)  Description  Street    City  County   State  Zipcode  Country  Timezone  Airport_Code  Weather_Timestamp  Temperature(F)  Wind_Chill(F)  Humidity(%)  Pressure(in)  Visibility(mi)  Wind_Direction  Wind_Speed(mph)  Precipitation(in)  Weather_Condition  Amenity    Bump  Crossing  Give_Way  Junction  No_Exit  Railway  Roundabout  Station    Stop  Traffic_Calming  Traffic_Signal  Turning_Loop  \\\n",
       "Severity                                                                                                                                                                                                                                                                                                                                                                                                                                                                                                       \n",
       "1           3996    3996        3996      3996       3996       3996     1604     1604          3996         3996    3993    3996    3996    3996     3993     3996      3988          3984               3952            3912           3847         3905          3939            3933            3907             3898               3749               3934     3996    3996      3996      3996      3996     3996     3996        3996     3996    3996             3996            3996          3996   \n",
       "2         147901  147901      147901    147901     147901     147901    21160    21160        147901       147901  147862  147898  147901  147901   147883   147901    147715        147637             146104          145391          94482       145220        145824          145238          145259           134156              89328             145201   147901  147901    147901    147901    147901   147901   147901      147901   147901  147901           147901          147901        147901   \n",
       "3          61118   61118       61118     61118      61118      61118     2675     2675         61118        61117   61076   61117   61118   61118    61103    61118     61083         60972              60307           59940          35755        59868         60107           59780           60002            54559              34210              59795    61118   61118     61118     61118     61118    61118    61118       61118    61118   61118            61118           61118         61118   \n",
       "4            572     572         572       572        572        572      422      422           572          572     572     572     572     572      571      572       571           570                567             565            437          565           564             562             557              527                425                559      572     572       572       572       572      572      572         572      572     572              572             572           572   \n",
       "\n",
       "          Sunrise_Sunset  Civil_Twilight  Nautical_Twilight  Astronomical_Twilight  \n",
       "Severity                                                                            \n",
       "1                   3983            3983               3983                   3983  \n",
       "2                 147851          147851             147851                 147851  \n",
       "3                  61087           61087              61087                  61087  \n",
       "4                    572             572                572                    572  "
      ]
     },
     "execution_count": 26,
     "metadata": {},
     "output_type": "execute_result"
    }
   ],
   "source": [
    "data[data['Distance(mi)']==0].groupby('Severity').count()"
   ]
  },
  {
   "cell_type": "code",
   "execution_count": 27,
   "id": "b66b34d1",
   "metadata": {},
   "outputs": [
    {
     "data": {
      "image/png": "[encoded data removed]",
      "text/plain": [
       "<Figure size 800x550 with 1 Axes>"
      ]
     },
     "metadata": {},
     "output_type": "display_data"
    }
   ],
   "source": [
    "sns.histplot(data[data['Distance(mi)'] > 0]['Distance(mi)']);"
   ]
  },
  {
   "cell_type": "markdown",
   "id": "1a8a76eb",
   "metadata": {},
   "source": [
    "Interesting that we have distances less than 0.  And as expected, the bulk of the data is near or at 0.  "
   ]
  },
  {
   "cell_type": "markdown",
   "id": "6f2fb79a",
   "metadata": {},
   "source": [
    "### Time Features"
   ]
  },
  {
   "cell_type": "markdown",
   "id": "5eb17e0b",
   "metadata": {},
   "source": [
    "It is required to set the 'format' parameter to \"mixed\".  (Too many observations to understand why / explore observations setting off the error.)\n",
    "\n",
    "Also, need to convert into seconds and then into hours."
   ]
  },
  {
   "cell_type": "code",
   "execution_count": 28,
   "id": "418cc97f",
   "metadata": {},
   "outputs": [
    {
     "data": {
      "text/plain": [
       "0         7.506\n",
       "1        23.275\n",
       "2        21.625\n",
       "3        20.053\n",
       "4        24.525\n",
       "          ...  \n",
       "499995    3.417\n",
       "499996   12.603\n",
       "499997   20.875\n",
       "499998    5.000\n",
       "499999   14.431\n",
       "Length: 500000, dtype: float64"
      ]
     },
     "execution_count": 28,
     "metadata": {},
     "output_type": "execute_result"
    }
   ],
   "source": [
    "start = pd.to_datetime(data['Start_Time'],format='mixed')\n",
    "end = pd.to_datetime(data['End_Time'],format='mixed')\n",
    "time_change = (end - start).astype('timedelta64[s]').dt.seconds/360\n",
    "time_change"
   ]
  },
  {
   "cell_type": "code",
   "execution_count": 29,
   "id": "d14621b5",
   "metadata": {},
   "outputs": [
    {
     "data": {
      "text/plain": [
       "count   500000.000\n",
       "mean        18.147\n",
       "std         21.019\n",
       "min          0.000\n",
       "25%          5.250\n",
       "50%         12.467\n",
       "75%         20.792\n",
       "max        239.997\n",
       "dtype: float64"
      ]
     },
     "execution_count": 29,
     "metadata": {},
     "output_type": "execute_result"
    }
   ],
   "source": [
    "time_change.describe()"
   ]
  },
  {
   "cell_type": "markdown",
   "id": "2bdb3a1f",
   "metadata": {},
   "source": [
    "Curriously long periods of impact time.  Like Distance, it appears that some observations have a start time that is after the end time (negative value of time_change) which makes even less sense than with distance.  "
   ]
  },
  {
   "cell_type": "code",
   "execution_count": 30,
   "id": "af5c2b14",
   "metadata": {},
   "outputs": [
    {
     "data": {
      "text/plain": [
       "(-0.241, 9.6]         198080\n",
       "(9.6, 19.2]           155900\n",
       "(19.2, 28.8]           74043\n",
       "(28.8, 38.4]           17555\n",
       "(38.4, 47.999]         11068\n",
       "(47.999, 57.599]        4249\n",
       "(57.599, 67.199]       27163\n",
       "(67.199, 76.799]        2041\n",
       "(76.799, 86.399]        1709\n",
       "(86.399, 95.999]        1252\n",
       "(95.999, 105.599]       1030\n",
       "(105.599, 115.199]       994\n",
       "(115.199, 124.799]      1054\n",
       "(124.799, 134.398]      1124\n",
       "(134.398, 143.998]       884\n",
       "(143.998, 153.598]       577\n",
       "(153.598, 163.198]       364\n",
       "(163.198, 172.798]       198\n",
       "(172.798, 182.398]       138\n",
       "(182.398, 191.998]       112\n",
       "(191.998, 201.598]        87\n",
       "(201.598, 211.198]        77\n",
       "(211.198, 220.797]        80\n",
       "(220.797, 230.397]        87\n",
       "(230.397, 239.997]       134\n",
       "Name: count, dtype: int64"
      ]
     },
     "execution_count": 30,
     "metadata": {},
     "output_type": "execute_result"
    }
   ],
   "source": [
    "time_change.value_counts(bins=25).sort_index(ascending=True)"
   ]
  },
  {
   "cell_type": "markdown",
   "id": "6a1fc6f8",
   "metadata": {},
   "source": [
    "There may be some clustering around zero as well but it does not appear to be as much of an issue as with Distance."
   ]
  },
  {
   "cell_type": "code",
   "execution_count": 31,
   "id": "3ae6ba8e",
   "metadata": {},
   "outputs": [
    {
     "data": {
      "text/plain": [
       "7"
      ]
     },
     "execution_count": 31,
     "metadata": {},
     "output_type": "execute_result"
    }
   ],
   "source": [
    "(time_change==0).sum()"
   ]
  },
  {
   "cell_type": "markdown",
   "id": "668865e4",
   "metadata": {},
   "source": [
    "### Address Features"
   ]
  },
  {
   "cell_type": "code",
   "execution_count": 32,
   "id": "1ce3641d",
   "metadata": {},
   "outputs": [
    {
     "data": {
      "text/plain": [
       "Country\n",
       "US    500000\n",
       "Name: count, dtype: int64"
      ]
     },
     "execution_count": 32,
     "metadata": {},
     "output_type": "execute_result"
    }
   ],
   "source": [
    "data['Country'].value_counts()"
   ]
  },
  {
   "cell_type": "markdown",
   "id": "b47fe0ba",
   "metadata": {},
   "source": [
    "We can cut this 'Country' feature entirely from the data going forward."
   ]
  },
  {
   "cell_type": "code",
   "execution_count": 75,
   "id": "0d62e89d",
   "metadata": {},
   "outputs": [
    {
     "data": {
      "text/plain": [
       "0"
      ]
     },
     "execution_count": 75,
     "metadata": {},
     "output_type": "execute_result"
    }
   ],
   "source": [
    "unclean = data['State'].str.startswith(' ').sum() + data['State'].str.endswith(' ').sum()\n",
    "unclean"
   ]
  },
  {
   "cell_type": "code",
   "execution_count": 33,
   "id": "ea87d227",
   "metadata": {},
   "outputs": [
    {
     "data": {
      "text/plain": [
       "State\n",
       "CA   0.227\n",
       "FL   0.113\n",
       "TX   0.075\n",
       "SC   0.049\n",
       "NY   0.045\n",
       "NC   0.043\n",
       "VA   0.039\n",
       "PA   0.039\n",
       "MN   0.025\n",
       "OR   0.023\n",
       "AZ   0.022\n",
       "GA   0.022\n",
       "IL   0.022\n",
       "TN   0.022\n",
       "MI   0.021\n",
       "LA   0.019\n",
       "MD   0.018\n",
       "NJ   0.018\n",
       "OH   0.015\n",
       "WA   0.014\n",
       "AL   0.013\n",
       "UT   0.013\n",
       "CO   0.012\n",
       "OK   0.011\n",
       "MO   0.010\n",
       "CT   0.009\n",
       "IN   0.009\n",
       "MA   0.008\n",
       "WI   0.005\n",
       "KY   0.004\n",
       "NE   0.004\n",
       "MT   0.004\n",
       "IA   0.003\n",
       "AR   0.003\n",
       "KS   0.003\n",
       "NV   0.003\n",
       "DC   0.002\n",
       "RI   0.002\n",
       "MS   0.002\n",
       "DE   0.002\n",
       "WV   0.002\n",
       "ID   0.001\n",
       "NM   0.001\n",
       "NH   0.001\n",
       "WY   0.001\n",
       "ND   0.000\n",
       "ME   0.000\n",
       "VT   0.000\n",
       "SD   0.000\n",
       "Name: proportion, dtype: float64"
      ]
     },
     "execution_count": 33,
     "metadata": {},
     "output_type": "execute_result"
    }
   ],
   "source": [
    "data['State'].value_counts(dropna=False,normalize=True)"
   ]
  },
  {
   "cell_type": "markdown",
   "id": "723370de",
   "metadata": {},
   "source": [
    "California seems very high even adjusting for population and area size."
   ]
  },
  {
   "cell_type": "code",
   "execution_count": 74,
   "id": "53030c70",
   "metadata": {},
   "outputs": [
    {
     "data": {
      "text/plain": [
       "0"
      ]
     },
     "execution_count": 74,
     "metadata": {},
     "output_type": "execute_result"
    }
   ],
   "source": [
    "unclean = data['City'].str.startswith(' ').sum() + data['City'].str.endswith(' ').sum()\n",
    "unclean"
   ]
  },
  {
   "cell_type": "code",
   "execution_count": 57,
   "id": "f552d7bc",
   "metadata": {},
   "outputs": [
    {
     "data": {
      "text/plain": [
       "City\n",
       "Miami           0.024\n",
       "Houston         0.022\n",
       "Los Angeles     0.021\n",
       "Charlotte       0.018\n",
       "Dallas          0.016\n",
       "Orlando         0.014\n",
       "Austin          0.013\n",
       "Raleigh         0.011\n",
       "Nashville       0.009\n",
       "Baton Rouge     0.009\n",
       "Atlanta         0.009\n",
       "Sacramento      0.009\n",
       "San Diego       0.007\n",
       "Phoenix         0.007\n",
       "Minneapolis     0.007\n",
       "Richmond        0.006\n",
       "Oklahoma City   0.006\n",
       "Jacksonville    0.005\n",
       "Tucson          0.005\n",
       "Columbia        0.005\n",
       "Greenville      0.005\n",
       "San Antonio     0.005\n",
       "Saint Paul      0.005\n",
       "Seattle         0.005\n",
       "Portland        0.005\n",
       "Name: proportion, dtype: float64"
      ]
     },
     "execution_count": 57,
     "metadata": {},
     "output_type": "execute_result"
    }
   ],
   "source": [
    "data['City'].value_counts(dropna=False,normalize=True).sort_values(ascending=False).head(25)"
   ]
  },
  {
   "cell_type": "markdown",
   "id": "b6ca871e",
   "metadata": {},
   "source": [
    "No concerns with balance (or over-representation).  Interesting to see some of these cities make it in the top 25."
   ]
  },
  {
   "cell_type": "code",
   "execution_count": 76,
   "id": "a54d2416",
   "metadata": {},
   "outputs": [
    {
     "data": {
      "text/plain": [
       "0"
      ]
     },
     "execution_count": 76,
     "metadata": {},
     "output_type": "execute_result"
    }
   ],
   "source": [
    "unclean = data['Zipcode'].str.startswith(' ').sum() + data['Zipcode'].str.endswith(' ').sum()\n",
    "unclean"
   ]
  },
  {
   "cell_type": "code",
   "execution_count": 34,
   "id": "8d4dc911",
   "metadata": {},
   "outputs": [
    {
     "data": {
      "text/plain": [
       "Zipcode\n",
       "91761        0.001\n",
       "91706        0.001\n",
       "92407        0.001\n",
       "92507        0.001\n",
       "33186        0.001\n",
       "              ... \n",
       "28214-1802   0.000\n",
       "49504-4369   0.000\n",
       "01104-1170   0.000\n",
       "29560-6703   0.000\n",
       "37406-2132   0.000\n",
       "Name: proportion, Length: 127805, dtype: float64"
      ]
     },
     "execution_count": 34,
     "metadata": {},
     "output_type": "execute_result"
    }
   ],
   "source": [
    "data['Zipcode'].value_counts(dropna=False,normalize=True).sort_values(ascending=False)"
   ]
  },
  {
   "cell_type": "code",
   "execution_count": 77,
   "id": "ad4347c9",
   "metadata": {},
   "outputs": [
    {
     "data": {
      "text/plain": [
       "0"
      ]
     },
     "execution_count": 77,
     "metadata": {},
     "output_type": "execute_result"
    }
   ],
   "source": [
    "unclean = data['Airport_Code'].str.startswith(' ').sum() + data['Airport_Code'].str.endswith(' ').sum()\n",
    "unclean"
   ]
  },
  {
   "cell_type": "code",
   "execution_count": 35,
   "id": "6819c46e",
   "metadata": {},
   "outputs": [
    {
     "data": {
      "text/plain": [
       "Airport_Code\n",
       "KCQT   0.016\n",
       "KRDU   0.014\n",
       "KMCJ   0.013\n",
       "KBNA   0.013\n",
       "KCLT   0.013\n",
       "        ... \n",
       "KPEZ   0.000\n",
       "KFDR   0.000\n",
       "KSTF   0.000\n",
       "KTVK   0.000\n",
       "K4CR   0.000\n",
       "Name: proportion, Length: 1879, dtype: float64"
      ]
     },
     "execution_count": 35,
     "metadata": {},
     "output_type": "execute_result"
    }
   ],
   "source": [
    "data['Airport_Code'].value_counts(dropna=False,normalize=True).sort_values(ascending=False)"
   ]
  },
  {
   "cell_type": "markdown",
   "id": "bc57a132",
   "metadata": {},
   "source": [
    "I do not think the distribution across airports is of any concern.  It is interesting that the airports with the most incidents around it are in Seattle (WA) and Raleigh-Durham (NC) and not LAX (given how over represented CA is in the dataset).  \n",
    "\n",
    "Upon further review, this may be indication that this feature is not the traditional airport codes but weather stations!  If that is the case, this feature would have limited analytical value (for now)."
   ]
  },
  {
   "cell_type": "code",
   "execution_count": 71,
   "id": "1e40435e",
   "metadata": {},
   "outputs": [
    {
     "name": "stdout",
     "output_type": "stream",
     "text": [
      "There are 0 incidents with LAX as its airport code.\n"
     ]
    }
   ],
   "source": [
    "lax_count = data[data['Airport_Code']=='LAX'].shape[0]\n",
    "print(f'There are {lax_count} incidents with LAX as its airport code.')"
   ]
  },
  {
   "cell_type": "markdown",
   "id": "72a3d3ce",
   "metadata": {},
   "source": [
    "#### Street Type"
   ]
  },
  {
   "cell_type": "code",
   "execution_count": null,
   "id": "8a84e369",
   "metadata": {},
   "outputs": [
    {
     "data": {
      "text/plain": [
       "109772"
      ]
     },
     "execution_count": 64,
     "metadata": {},
     "output_type": "execute_result"
    }
   ],
   "source": [
    "unclean = data['Street'].str.startswith(' ').sum() + data['Street'].str.endswith(' ').sum()\n",
    "unclean"
   ]
  },
  {
   "cell_type": "markdown",
   "id": "a5429e7b",
   "metadata": {},
   "source": [
    "We need to make sure we clean up the street name."
   ]
  },
  {
   "cell_type": "code",
   "execution_count": 78,
   "id": "4e7301c0",
   "metadata": {},
   "outputs": [],
   "source": [
    "streets = data['Street'].str.strip()"
   ]
  },
  {
   "cell_type": "code",
   "execution_count": 79,
   "id": "bb6fdde4",
   "metadata": {},
   "outputs": [
    {
     "data": {
      "text/plain": [
       "0"
      ]
     },
     "execution_count": 79,
     "metadata": {},
     "output_type": "execute_result"
    }
   ],
   "source": [
    "unclean = streets.str.startswith(' ').sum() + streets.str.endswith(' ').sum()\n",
    "unclean"
   ]
  },
  {
   "cell_type": "code",
   "execution_count": 80,
   "id": "fe0b5584",
   "metadata": {},
   "outputs": [
    {
     "data": {
      "text/plain": [
       "Street\n",
       "I-95 N     0.010\n",
       "I-95 S     0.010\n",
       "I-5 N      0.009\n",
       "I-10 E     0.007\n",
       "I-10 W     0.007\n",
       "I-5 S      0.007\n",
       "I-80 W     0.005\n",
       "I-80 E     0.005\n",
       "I-405 N    0.004\n",
       "I-75 N     0.004\n",
       "I-75 S     0.004\n",
       "I-90 E     0.003\n",
       "I-15 N     0.003\n",
       "I-94 W     0.003\n",
       "I-90 W     0.003\n",
       "I-95       0.003\n",
       "US-101 N   0.003\n",
       "I-94 E     0.003\n",
       "I-70 E     0.003\n",
       "I-15 S     0.002\n",
       "I-40 W     0.002\n",
       "I-35 N     0.002\n",
       "I-84 E     0.002\n",
       "I-70 W     0.002\n",
       "I-405 S    0.002\n",
       "Name: proportion, dtype: float64"
      ]
     },
     "execution_count": 80,
     "metadata": {},
     "output_type": "execute_result"
    }
   ],
   "source": [
    "streets.value_counts(dropna=False,normalize=True).sort_values(ascending=False).head(25)"
   ]
  },
  {
   "cell_type": "markdown",
   "id": "567ee884",
   "metadata": {},
   "source": [
    "Not surprising.  We may want to use this information in feature engineering below."
   ]
  },
  {
   "cell_type": "markdown",
   "id": "c3e6123d",
   "metadata": {},
   "source": [
    "Need to figure out if there is a consistent syntax for street address."
   ]
  },
  {
   "cell_type": "code",
   "execution_count": 84,
   "id": "afb30898",
   "metadata": {},
   "outputs": [
    {
     "name": "stdout",
     "output_type": "stream",
     "text": [
      "There are roughly 142633 incidents which occured on a federal roads:  17736 on a numbered highways and 124897 interstates.\n"
     ]
    }
   ],
   "source": [
    "highways = streets.str.startswith('US').sum()+ streets.str.startswith('United States').sum()\n",
    "\n",
    "interstates = streets.str.startswith('I-').sum() + streets.str.startswith('Interstate').sum()\n",
    "\n",
    "fed_roads = highways + interstates\n",
    "\n",
    "msg = f'There are roughly {fed_roads} incidents which occured on a federal roads:  '\n",
    "msg += f'{highways} on a numbered highways and {interstates} interstates.'\n",
    "\n",
    "print(msg)"
   ]
  },
  {
   "cell_type": "markdown",
   "id": "8319aa28",
   "metadata": {},
   "source": [
    "Resources on Road Types & Naming Syntax:\n",
    "__[Google](https://www.google.com/search?q=us+highways+and+interstates&client=safari&sca_esv=a2d3658fd380a756&rls=en&ei=t65JaN2uMMKh5NoPo6mVkQo&oq=US+highways+vs%C2%A0&gs_lp=Egxnd3Mtd2l6LXNlcnAaAhgCIhBVUyBoaWdod2F5cyB2c8KgKgIIADILEAAYgAQYkQIYigUyBxAAGIAEGAoyBRAAGIAEMgYQABgWGB4yBhAAGBYYHjIGEAAYFhgeMgsQABiABBiGAxiKBTILEAAYgAQYhgMYigUyCxAAGIAEGIYDGIoFMggQABiABBiiBEiDTFDVDFjWP3AFeAGQAQCYAXOgAdcKqgEEMTYuMbgBAcgBAPgBAZgCFqACgwzCAgoQABiwAxjWBBhHwgIKEAAYgAQYQxiKBcICERAuGIAEGLEDGNEDGIMBGMcBwgILEAAYgAQYsQMYgwHCAgUQLhiABMICDhAuGIAEGLEDGIMBGNQCwgILEAAYgAQYsQMYiwPCAggQABiABBiLA8ICCBAAGIAEGLEDwgIKEC4YgAQYQxiKBcICERAAGIAEGJECGLEDGIMBGIoFwgIEEAAYA8ICBRAhGKABmAMAiAYBkAYIkgcEMjEuMaAHl26yBwQxNi4xuAfmC8IHBjItMTYuNsgHhwE&sclient=gws-wiz-serp)__ on the difference between US numbered highways and US interstate highway system\n",
    "\n",
    "https://99percentinvisible.org/article/beyond-streets-avenues-simple-visual-guide-different-types-roads/\n"
   ]
  },
  {
   "cell_type": "code",
   "execution_count": null,
   "id": "cd54a7d8",
   "metadata": {},
   "outputs": [
    {
     "data": {
      "text/plain": [
       "Street\n",
       "Pearl Harbor Memorial Highway   0.015\n",
       " Highway 101                    0.010\n",
       "State Highway 1                 0.010\n",
       " Highway 20                     0.008\n",
       "Pacific Highway 1 S             0.008\n",
       "                                 ... \n",
       " NC Highway 73                  0.000\n",
       "S US Highway 421                0.000\n",
       " NC Highway 24 50               0.000\n",
       "NY Highway 66                   0.000\n",
       " Highway 5 N                    0.000\n",
       "Name: proportion, Length: 3224, dtype: float64"
      ]
     },
     "execution_count": 63,
     "metadata": {},
     "output_type": "execute_result"
    }
   ],
   "source": [
    "highways = streets[streets.str.contains('Highway',na=False)]\n",
    "highways.value_counts(dropna=False,normalize=True).sort_values(ascending=False)"
   ]
  },
  {
   "cell_type": "code",
   "execution_count": 85,
   "id": "2f78f634",
   "metadata": {},
   "outputs": [
    {
     "name": "stdout",
     "output_type": "stream",
     "text": [
      "1054\n"
     ]
    },
    {
     "data": {
      "text/plain": [
       "Street\n",
       "Route 9               0.106\n",
       "Route 6               0.058\n",
       "Route 22              0.054\n",
       "Route 146             0.033\n",
       "Route 82              0.026\n",
       "                       ... \n",
       "Route 153             0.001\n",
       "Route 422 Hwy E       0.001\n",
       "Route 169             0.001\n",
       "Route 18 Northbound   0.001\n",
       "Route 62              0.001\n",
       "Name: proportion, Length: 201, dtype: float64"
      ]
     },
     "execution_count": 85,
     "metadata": {},
     "output_type": "execute_result"
    }
   ],
   "source": [
    "routes = streets[streets.str.startswith('Rt',na=False) | streets.str.startswith('Route',na=False)]\n",
    "print(routes.shape[0])\n",
    "routes.value_counts(dropna=False,normalize=True).sort_values(ascending=False)\n"
   ]
  },
  {
   "cell_type": "code",
   "execution_count": 83,
   "id": "85b606b2",
   "metadata": {},
   "outputs": [
    {
     "data": {
      "text/plain": [
       "1054"
      ]
     },
     "execution_count": 83,
     "metadata": {},
     "output_type": "execute_result"
    }
   ],
   "source": [
    "routes = streets.str.startswith('Route').sum() + streets.str.startswith('Rt').sum()\n",
    "routes"
   ]
  },
  {
   "cell_type": "markdown",
   "id": "1e8c72e0",
   "metadata": {},
   "source": [
    "### Weather"
   ]
  },
  {
   "cell_type": "code",
   "execution_count": null,
   "id": "0710e905",
   "metadata": {},
   "outputs": [],
   "source": [
    "weather_factors = ['Temperature(F)','Wind_Chill(F)',\n",
    "                   'Humidity(%)','Pressure(in)',\n",
    "                   'Visibility(mi)','Wind_Speed(mph)',\n",
    "                   'Precipitation(in)']\n",
    "\n",
    "data[weather_factors].describe()"
   ]
  },
  {
   "cell_type": "code",
   "execution_count": null,
   "id": "a4bd10f0",
   "metadata": {},
   "outputs": [],
   "source": [
    "weather_descriptions = data['Weather_Condition'].unique()\n",
    "print(f'There are {weather_descriptions.shape[0]} ways that the weather is described in this dataset: \\n')\n",
    "print(weather_descriptions)"
   ]
  },
  {
   "cell_type": "code",
   "execution_count": null,
   "id": "02d0f624",
   "metadata": {},
   "outputs": [],
   "source": [
    "weather_desc_counts = data['Weather_Condition'].value_counts(dropna=False,normalize=True)\n",
    "weather_desc_counts.sort_values(ascending=False).head(25).plot()"
   ]
  },
  {
   "cell_type": "markdown",
   "id": "bdd46edd",
   "metadata": {},
   "source": [
    "This weather condition feature is too granular to be of any analytical value.  We need to consider consolidating this feature or ignore it all together.  May be of interest to consider how these categories relate to the numeric weather features. "
   ]
  },
  {
   "cell_type": "markdown",
   "id": "5e9630b4",
   "metadata": {},
   "source": [
    "### Night/Day Features\n",
    "\n",
    "There appears to be multiple indicators for day/night that need to be explored.  According to __[Google](https://www.google.com/search?q=different+types+of+twilight&rlz=1C5OZZY_enUS1127US1127&oq=different+types+of+twilight&gs_lcrp=EgZjaHJvbWUyCQgAEEUYORiABDIICAEQABgWGB4yCAgCEAAYFhgeMggIAxAAGBYYHjIICAQQABgWGB4yDQgFEAAYhgMYgAQYigUyDQgGEAAYhgMYgAQYigUyDQgHEAAYhgMYgAQYigUyDQgIEAAYhgMYgAQYigUyCggJEAAYgAQYogTSAQg0NjU3ajFqN6gCALACAA&sourceid=chrome&ie=UTF-8)__, Nautical, Astronomical and Civil all have precise definitions--based on usage--that do not, to me, inform as to how their distinctions contribute to understanding accident patterns.  And as you can see below, there is no clear pattern in how they differ from one another in classifying day vs night.\n",
    "\n",
    "Ultimately, I think dropping all of them except for Sunrise_Sunset is for the best.  "
   ]
  },
  {
   "cell_type": "code",
   "execution_count": 41,
   "id": "bdb2dd50",
   "metadata": {},
   "outputs": [
    {
     "name": "stdout",
     "output_type": "stream",
     "text": [
      "Astronomical_Twilight     Day  Night\n",
      "Nautical_Twilight                   \n",
      "Day                    392469    397\n",
      "Night                   19773  85878\n",
      "--------------------------------------------------\n",
      "Civil_Twilight        Day   Night\n",
      "Nautical_Twilight                \n",
      "Day                368274   24592\n",
      "Night                   0  105651\n",
      "--------------------------------------------------\n",
      "Sunrise_Sunset        Day   Night\n",
      "Nautical_Twilight                \n",
      "Day                344967   47899\n",
      "Night                   0  105651\n"
     ]
    }
   ],
   "source": [
    "print(pd.crosstab(data['Nautical_Twilight'],data['Astronomical_Twilight']))\n",
    "print('-'*50)\n",
    "print(pd.crosstab(data['Nautical_Twilight'],data['Civil_Twilight']))\n",
    "print('-'*50)\n",
    "print(pd.crosstab(data['Nautical_Twilight'],data['Sunrise_Sunset']))"
   ]
  },
  {
   "cell_type": "code",
   "execution_count": 42,
   "id": "3dc28b3b",
   "metadata": {},
   "outputs": [
    {
     "name": "stdout",
     "output_type": "stream",
     "text": [
      "Civil_Twilight            Day  Night\n",
      "Astronomical_Twilight               \n",
      "Day                    367907  44335\n",
      "Night                     367  85908\n",
      "--------------------------------------------------\n",
      "Sunrise_Sunset            Day  Night\n",
      "Astronomical_Twilight               \n",
      "Day                    344618  67624\n",
      "Night                     349  85926\n"
     ]
    }
   ],
   "source": [
    "print(pd.crosstab(data['Astronomical_Twilight'],data['Civil_Twilight']))\n",
    "print('-'*50)\n",
    "print(pd.crosstab(data['Astronomical_Twilight'],data['Sunrise_Sunset']))"
   ]
  },
  {
   "cell_type": "code",
   "execution_count": 43,
   "id": "8e6d75e4",
   "metadata": {},
   "outputs": [
    {
     "name": "stdout",
     "output_type": "stream",
     "text": [
      "Sunrise_Sunset     Day   Night\n",
      "Civil_Twilight                \n",
      "Day             344962   23312\n",
      "Night                5  130238\n"
     ]
    }
   ],
   "source": [
    "print(pd.crosstab(data['Civil_Twilight'],data['Sunrise_Sunset']))"
   ]
  },
  {
   "cell_type": "markdown",
   "id": "abffbbee",
   "metadata": {},
   "source": [
    "### Infrastructure\n",
    "Twelve binary features indicating the existance of a traffic design or a PoI."
   ]
  },
  {
   "cell_type": "code",
   "execution_count": 44,
   "id": "db0982c8",
   "metadata": {},
   "outputs": [],
   "source": [
    "infrastructures = ['Amenity','Bump','Crossing','Give_Way',\n",
    "                   'Junction','No_Exit','Railway','Roundabout',\n",
    "                   'Station','Stop','Traffic_Calming','Traffic_Signal',\n",
    "                   'Turning_Loop'\n",
    "                   ]"
   ]
  },
  {
   "cell_type": "code",
   "execution_count": 54,
   "id": "76bae1b7",
   "metadata": {},
   "outputs": [
    {
     "data": {
      "text/plain": [
       "Traffic_Signal     74035\n",
       "Crossing           56253\n",
       "Junction           37007\n",
       "Stop               14063\n",
       "Station            12998\n",
       "Amenity             6191\n",
       "Railway             4320\n",
       "Give_Way            2362\n",
       "No_Exit             1245\n",
       "Traffic_Calming      466\n",
       "Bump                 211\n",
       "Roundabout            13\n",
       "Turning_Loop           0\n",
       "dtype: int64"
      ]
     },
     "execution_count": 54,
     "metadata": {},
     "output_type": "execute_result"
    }
   ],
   "source": [
    "data[infrastructures].sum().sort_values(ascending=False)"
   ]
  },
  {
   "cell_type": "code",
   "execution_count": 53,
   "id": "44ca2434",
   "metadata": {},
   "outputs": [
    {
     "data": {
      "text/plain": [
       "0    350909\n",
       "1    100252\n",
       "2     39314\n",
       "3      8023\n",
       "4      1312\n",
       "5       174\n",
       "6        15\n",
       "7         1\n",
       "Name: count, dtype: int64"
      ]
     },
     "execution_count": 53,
     "metadata": {},
     "output_type": "execute_result"
    }
   ],
   "source": [
    "data[infrastructures].sum(axis=1).value_counts()"
   ]
  },
  {
   "cell_type": "code",
   "execution_count": null,
   "id": "832707fa",
   "metadata": {},
   "outputs": [
    {
     "data": {
      "text/plain": [
       "<Axes: >"
      ]
     },
     "execution_count": 48,
     "metadata": {},
     "output_type": "execute_result"
    },
    {
     "data": {
      "image/png": "[encoded data removed]",
      "text/plain": [
       "<Figure size 800x550 with 2 Axes>"
      ]
     },
     "metadata": {},
     "output_type": "display_data"
    }
   ],
   "source": [
    "sns.heatmap(data[infrastructures].corr(),vmin=-1,vmax=1,cmap='coolwarm');"
   ]
  },
  {
   "cell_type": "markdown",
   "id": "7249add0",
   "metadata": {},
   "source": [
    "# 3-Data Processing"
   ]
  },
  {
   "cell_type": "markdown",
   "id": "dc2fedb7",
   "metadata": {},
   "source": [
    "Start with a brand new dataset"
   ]
  },
  {
   "cell_type": "code",
   "execution_count": null,
   "id": "0494fe00",
   "metadata": {},
   "outputs": [],
   "source": [
    "del data\n",
    "if _SPARK_:\n",
    "    spark.stop()\n",
    "else:\n",
    "    pass"
   ]
  },
  {
   "cell_type": "code",
   "execution_count": null,
   "id": "b714ee29",
   "metadata": {},
   "outputs": [],
   "source": [
    "if _SPARK_:\n",
    "    spark = SparkSession.builder.appName(\"Accident Data Project\").getOrCreate()\n",
    "    data_clean = spark.read.csv('US_Accidents_March23.csv',header=True,inferSchema=True)\n",
    "else:\n",
    "    if _LITE_SWITCH_:\n",
    "        data_clean = pd.read_csv('US_Accidents_March23_sampled_500k.csv')\n",
    "    else:\n",
    "        data_clean = pd.read_csv('US_Accidents_March23.csv')\n",
    "    "
   ]
  },
  {
   "cell_type": "markdown",
   "id": "89230b62",
   "metadata": {},
   "source": [
    "## Drop Unnecessary Columns"
   ]
  },
  {
   "cell_type": "code",
   "execution_count": null,
   "id": "665861eb",
   "metadata": {},
   "outputs": [],
   "source": [
    "bad_features = ['Country','Civil_Twilight','Nautical_Twilight','Astronomical_Twilight','Source']"
   ]
  },
  {
   "cell_type": "code",
   "execution_count": null,
   "id": "d69cf7f9",
   "metadata": {},
   "outputs": [],
   "source": [
    "data_clean = data_clean.drop(bad_features,axis=1)"
   ]
  },
  {
   "cell_type": "markdown",
   "id": "4c36d28d",
   "metadata": {},
   "source": [
    "## Missing Data"
   ]
  },
  {
   "cell_type": "markdown",
   "id": "eab8d702",
   "metadata": {},
   "source": [
    "### Ending Longitude/Latitude"
   ]
  },
  {
   "cell_type": "code",
   "execution_count": null,
   "id": "bd2b252b",
   "metadata": {},
   "outputs": [],
   "source": []
  },
  {
   "cell_type": "markdown",
   "id": "63bdeae6",
   "metadata": {},
   "source": [
    "### Weather"
   ]
  },
  {
   "cell_type": "code",
   "execution_count": null,
   "id": "c718f5d9",
   "metadata": {},
   "outputs": [],
   "source": []
  },
  {
   "cell_type": "markdown",
   "id": "5bfca981",
   "metadata": {},
   "source": [
    "### Description"
   ]
  },
  {
   "cell_type": "code",
   "execution_count": null,
   "id": "2da8e32b",
   "metadata": {},
   "outputs": [],
   "source": []
  },
  {
   "cell_type": "markdown",
   "id": "cebe6c85",
   "metadata": {},
   "source": [
    "### Address"
   ]
  },
  {
   "cell_type": "code",
   "execution_count": null,
   "id": "319c3b2b",
   "metadata": {},
   "outputs": [],
   "source": []
  },
  {
   "cell_type": "markdown",
   "id": "6b637d91",
   "metadata": {},
   "source": [
    "## Outliers"
   ]
  },
  {
   "cell_type": "code",
   "execution_count": null,
   "id": "ace502f8",
   "metadata": {},
   "outputs": [],
   "source": []
  },
  {
   "cell_type": "markdown",
   "id": "fdfbf851",
   "metadata": {},
   "source": [
    "## Engineer Features"
   ]
  },
  {
   "cell_type": "markdown",
   "id": "b151a623",
   "metadata": {},
   "source": [
    "### <a id='datetimes'> Converting dates </a>"
   ]
  },
  {
   "cell_type": "code",
   "execution_count": null,
   "id": "2ccd8255",
   "metadata": {},
   "outputs": [],
   "source": [
    "if _SPARK_:\n",
    "    pass\n",
    "else:\n",
    "    data_clean['Start'] = pd.to_datetime(data_clean['Start_Time'],format='mixed')\n",
    "    data_clean['End'] = pd.to_datetime(data_clean['End_Time'],format='mixed')"
   ]
  },
  {
   "cell_type": "markdown",
   "id": "bdb6f5b6",
   "metadata": {},
   "source": [
    "### Partition the time data"
   ]
  },
  {
   "cell_type": "code",
   "execution_count": null,
   "id": "2a55419d",
   "metadata": {},
   "outputs": [],
   "source": [
    "if _SPARK_:\n",
    "    pass\n",
    "else:\n",
    "    data_clean['Month'] = data_clean['Start'].dt.month\n",
    "    data_clean['Year'] = data_clean['Start'].dt.year\n",
    "    data_clean['DayofYear'] = data_clean['Start'].dt.dayofyear\n",
    "    data_clean['DayofMonth'] = data_clean['Start'].dt.day\n",
    "    data_clean['DayofWeek'] = data_clean['Start'].dt.day_of_week\n",
    "    data_clean['Quarter'] = data_clean['Start'].dt.quarter\n",
    "    data_clean['Hour'] = data_clean['Start'].dt.hour\n",
    "    data_clean['Date'] = data_clean['Start'].dt.date"
   ]
  },
  {
   "cell_type": "code",
   "execution_count": null,
   "id": "a74c8a6b",
   "metadata": {},
   "outputs": [],
   "source": [
    "data_clean['Year'].value_counts(normalize=True).sort_index()"
   ]
  },
  {
   "cell_type": "markdown",
   "id": "0e2a3a55",
   "metadata": {},
   "source": [
    "Concern that the two bookend years ('16 & '23) have such low proportion of the data.  "
   ]
  },
  {
   "cell_type": "code",
   "execution_count": null,
   "id": "e19cd05e",
   "metadata": {},
   "outputs": [],
   "source": [
    "data_clean['Month'].value_counts(normalize=True).sort_index()"
   ]
  },
  {
   "cell_type": "markdown",
   "id": "5fa03784",
   "metadata": {},
   "source": [
    "Nothing concerning here."
   ]
  },
  {
   "cell_type": "code",
   "execution_count": null,
   "id": "8d8c0dd1",
   "metadata": {},
   "outputs": [],
   "source": [
    "data_clean['Quarter'].value_counts(normalize=True)"
   ]
  },
  {
   "cell_type": "code",
   "execution_count": null,
   "id": "c655ce84",
   "metadata": {},
   "outputs": [],
   "source": [
    "data_clean['DayofWeek'].value_counts(normalize=True).sort_index()"
   ]
  },
  {
   "cell_type": "code",
   "execution_count": null,
   "id": "eba6f1c5",
   "metadata": {},
   "outputs": [],
   "source": [
    "data_clean['Hour'].value_counts(normalize=True).sort_index()"
   ]
  },
  {
   "cell_type": "markdown",
   "id": "649734d3",
   "metadata": {},
   "source": [
    "### Weekend Indicator"
   ]
  },
  {
   "cell_type": "code",
   "execution_count": null,
   "id": "ffa58c7e",
   "metadata": {},
   "outputs": [],
   "source": [
    "data_clean['Weekend'] = ((data_clean['DayofWeek'] == 0) | (data_clean['DayofWeek'] == 6))"
   ]
  },
  {
   "cell_type": "code",
   "execution_count": null,
   "id": "53024d7a",
   "metadata": {},
   "outputs": [],
   "source": [
    "print(f'There are {data_clean['Weekend'].sum()} observations which occured over the weekend.')\n",
    "data_clean.groupby('Weekend')['Severity'].mean()"
   ]
  },
  {
   "cell_type": "markdown",
   "id": "6184fd77",
   "metadata": {},
   "source": [
    "### Holidays Indicator\n",
    "\n",
    "Per __[Google](https://www.google.com/search?client=safari&rls=en&q=holidays+with+most+traffic&ie=UTF-8&oe=UTF-8)__, there are a number of holidays in the US with the highest amount of traffic.  (I subbed NYE in for XMas.)"
   ]
  },
  {
   "cell_type": "code",
   "execution_count": null,
   "id": "f8c7719b",
   "metadata": {},
   "outputs": [],
   "source": [
    "thanksgivings = [get_thanksgiving_date(y) for y in range(2016,2024)]\n",
    "memorials = [calculate_memorial_day(y) for y in range(2016,2024)]\n",
    "labors = [get_labor_day(y) for y in range(2016,2024)]"
   ]
  },
  {
   "cell_type": "code",
   "execution_count": null,
   "id": "0cb8ff09",
   "metadata": {},
   "outputs": [],
   "source": [
    "july_4 = ((data_clean['Month'] == 7) & (data_clean['DayofMonth'] == 4))\n",
    "thanksgiving = data_clean['Date'].apply(lambda d:d in thanksgivings)\n",
    "memorial = data_clean['Date'].apply(lambda d:d in memorials)\n",
    "labor = data_clean['Date'].apply(lambda d:d in labors)\n",
    "nye = ((data_clean['Month'] == 12) & (data_clean['DayofMonth'] == 31))"
   ]
  },
  {
   "cell_type": "code",
   "execution_count": null,
   "id": "f6459853",
   "metadata": {},
   "outputs": [],
   "source": [
    "holidays = (july_4 | thanksgiving | memorial | labor | nye)\n",
    "data_clean['Holiday'] = holidays"
   ]
  },
  {
   "cell_type": "code",
   "execution_count": null,
   "id": "b6f42fbf",
   "metadata": {},
   "outputs": [],
   "source": [
    "info = f'''{holidays.sum()} incidents occured on a prime holiday.'''\n",
    "\n",
    "print(info)"
   ]
  },
  {
   "cell_type": "markdown",
   "id": "535a2208",
   "metadata": {},
   "source": [
    "### Rush Hour Indicator\n",
    "\n",
    "__[Per Google:  ](https://www.google.com/search?client=safari&rls=en&q=rush+hour+typically&ie=UTF-8&oe=UTF-8)__ The morning rush hour begins around 6a, peaking between 7a & 9a, and eases off by 10a.  While afternoon/evening rush hour begins around 3p, peaking between 4p and 6p, and eases off by 7p."
   ]
  },
  {
   "cell_type": "code",
   "execution_count": null,
   "id": "bc79df0e",
   "metadata": {},
   "outputs": [],
   "source": [
    "data_clean['Morning_Rush'] = ((6 > data_clean['DayofWeek']) & (data_clean['DayofWeek'] > 0) & (data_clean['Start'].dt.hour >= 6) & (10 >= data_clean['Start'].dt.hour))"
   ]
  },
  {
   "cell_type": "code",
   "execution_count": null,
   "id": "85901f61",
   "metadata": {},
   "outputs": [],
   "source": [
    "print(f'Total of {data_clean['Morning_Rush'].sum()} incidents during the morning rush hour')"
   ]
  },
  {
   "cell_type": "code",
   "execution_count": null,
   "id": "e83cea16",
   "metadata": {},
   "outputs": [],
   "source": [
    "data_clean['Evening_Rush'] = ((6 > data_clean['DayofWeek']) & (data_clean['DayofWeek'] > 0) & (data_clean['Start'].dt.hour >= 15) & (19 >= data_clean['Start'].dt.hour))"
   ]
  },
  {
   "cell_type": "code",
   "execution_count": null,
   "id": "cc94315b",
   "metadata": {},
   "outputs": [],
   "source": [
    "print(f'Total of {data_clean['Evening_Rush'].sum()} incidents during the evening rush hour')"
   ]
  },
  {
   "cell_type": "markdown",
   "id": "5a08b0d5",
   "metadata": {},
   "source": [
    "## Crosstables"
   ]
  },
  {
   "cell_type": "code",
   "execution_count": null,
   "id": "92387aba",
   "metadata": {},
   "outputs": [],
   "source": []
  },
  {
   "cell_type": "code",
   "execution_count": null,
   "id": "5bfaecea",
   "metadata": {},
   "outputs": [],
   "source": [
    "accdidents_year"
   ]
  },
  {
   "cell_type": "code",
   "execution_count": null,
   "id": "bf47daa2",
   "metadata": {},
   "outputs": [],
   "source": [
    "\n",
    "accidents_calendar"
   ]
  },
  {
   "cell_type": "markdown",
   "id": "a5b58ef2",
   "metadata": {},
   "source": [
    "Spatial-Based Data"
   ]
  },
  {
   "cell_type": "code",
   "execution_count": null,
   "id": "50450ea4",
   "metadata": {},
   "outputs": [],
   "source": [
    "data_clean.State.value_counts(normalize=True).sort_values(ascending=False)"
   ]
  },
  {
   "cell_type": "code",
   "execution_count": null,
   "id": "186e518f",
   "metadata": {},
   "outputs": [],
   "source": [
    "data_clean['Street'].value_counts(dropna=False).sort_values(ascending=False).head(50)"
   ]
  },
  {
   "cell_type": "markdown",
   "id": "2f472d8e",
   "metadata": {},
   "source": [
    "### Weather Consolidation"
   ]
  },
  {
   "cell_type": "code",
   "execution_count": null,
   "id": "c46af007",
   "metadata": {},
   "outputs": [],
   "source": []
  },
  {
   "cell_type": "markdown",
   "id": "cf12b6b5",
   "metadata": {},
   "source": [
    "### Nature of Incident"
   ]
  },
  {
   "cell_type": "code",
   "execution_count": null,
   "id": "0087c9da",
   "metadata": {},
   "outputs": [],
   "source": [
    "data_clean['Time_of_Impact(hr)'] = (data_clean['End'] - data_clean['Start']).dt.seconds/360"
   ]
  },
  {
   "cell_type": "code",
   "execution_count": null,
   "id": "cbd5b1b5",
   "metadata": {},
   "outputs": [],
   "source": [
    "data_clean['Time_of_Impact(hr)'].describe()"
   ]
  },
  {
   "cell_type": "code",
   "execution_count": null,
   "id": "2c1c83dc",
   "metadata": {},
   "outputs": [],
   "source": [
    "sns.histplot(data_clean['Time_of_Impact(hr)'])"
   ]
  },
  {
   "cell_type": "markdown",
   "id": "4662a124",
   "metadata": {},
   "source": [
    "## Saveout Data"
   ]
  },
  {
   "cell_type": "code",
   "execution_count": null,
   "id": "07d79e29",
   "metadata": {},
   "outputs": [],
   "source": [
    "if _LITE_SWITCH_:\n",
    "    data_clean.to_csv('AccidentData_Sampled_Clean.csv')\n",
    "else:\n",
    "    data_clean.to_csv('AccidentData_Clean.csv')"
   ]
  },
  {
   "cell_type": "code",
   "execution_count": null,
   "id": "aab88036",
   "metadata": {},
   "outputs": [],
   "source": [
    "del data_clean\n",
    "if _SPARK_:\n",
    "    spark.stop()\n",
    "else:\n",
    "    pass"
   ]
  },
  {
   "cell_type": "markdown",
   "id": "f4fc96c2",
   "metadata": {},
   "source": [
    "# 4-Full EDA"
   ]
  },
  {
   "cell_type": "code",
   "execution_count": null,
   "id": "343aa5fd",
   "metadata": {},
   "outputs": [],
   "source": [
    "if _SPARK_:\n",
    "    spark = SparkSession.builder.appName(\"Accident Data Project\").getOrCreate()\n",
    "    data = spark.read.csv('AccidentData_Clean.csv',header=True,inferSchema=True)\n",
    "else:\n",
    "    if _LITE_SWITCH_:\n",
    "        data = pd.read_csv('AccidentData_Sampled_Clean.csv')\n",
    "    else:\n",
    "        data = pd.read_csv('US_Accidents_March23.csv')\n",
    "    "
   ]
  },
  {
   "cell_type": "markdown",
   "id": "de9ce133",
   "metadata": {},
   "source": [
    "## Nature of Incident Variables"
   ]
  },
  {
   "cell_type": "code",
   "execution_count": null,
   "id": "eb0c6987",
   "metadata": {},
   "outputs": [],
   "source": [
    "data.groupby('Severity')[['Distance(mi)','Time_of_Impact(hr)']].describe().T"
   ]
  },
  {
   "cell_type": "code",
   "execution_count": null,
   "id": "b0c01dd1",
   "metadata": {},
   "outputs": [],
   "source": [
    "if _LITE_SWITCH_:\n",
    "    sns.histplot(data['Severity'])\n",
    "else:\n",
    "    pass"
   ]
  },
  {
   "cell_type": "code",
   "execution_count": null,
   "id": "1e624260",
   "metadata": {},
   "outputs": [],
   "source": [
    "palette = {1:'red',2:'blue',3:'green',4:'black'}\n",
    "sns.pairplot(data[['Severity','Distance(mi)','Time_of_Impact(hr)']],hue='Severity',palette=palette);"
   ]
  },
  {
   "cell_type": "code",
   "execution_count": null,
   "id": "2f0ba96e",
   "metadata": {},
   "outputs": [],
   "source": []
  },
  {
   "cell_type": "markdown",
   "id": "531183ad",
   "metadata": {},
   "source": [
    "## Feature Variables"
   ]
  },
  {
   "cell_type": "markdown",
   "id": "b1b7261f",
   "metadata": {},
   "source": [
    "### Relationships"
   ]
  },
  {
   "cell_type": "code",
   "execution_count": null,
   "id": "7f01ba67",
   "metadata": {},
   "outputs": [],
   "source": [
    "if _SPARK_:\n",
    "    corr_data = data.select(_NUMERICS_)\n",
    "    col_names = corr_data.columns\n",
    "    features = corr_data.rdd.map(lambda row: row[0:]) \n",
    "    corrs = Statistics.corr(features, method=\"pearson\")\n",
    "else:\n",
    "    corrs = data[_NUMERICS_].corr()\n",
    "    print(corrs)\n",
    "   "
   ]
  },
  {
   "cell_type": "code",
   "execution_count": null,
   "id": "54696f8e",
   "metadata": {},
   "outputs": [],
   "source": [
    "sns.heatmap(corrs,vmin=-1,vmax=1,cmap='coolwarm');"
   ]
  },
  {
   "cell_type": "markdown",
   "id": "b953cd29",
   "metadata": {},
   "source": [
    "### Against Target Variable"
   ]
  },
  {
   "cell_type": "code",
   "execution_count": null,
   "id": "400023b8",
   "metadata": {},
   "outputs": [],
   "source": []
  },
  {
   "cell_type": "markdown",
   "id": "d0fcdeb7",
   "metadata": {},
   "source": [
    "## Date"
   ]
  },
  {
   "cell_type": "code",
   "execution_count": null,
   "id": "ef015a98",
   "metadata": {},
   "outputs": [],
   "source": [
    "if _SPARK_:\n",
    "    accdidents_year = data.stat.crosstab('Year','Severity')\n",
    "else:\n",
    "    accdidents_year = pd.crosstab(data_clean['Year'],data_clean['Severity'])\n",
    "\n",
    "    accdidents_year['Total']=accdidents_year.sum(axis=1)\n",
    "    accdidents_year['Average']=accdidents_year.apply(lambda r:sum(i*r[i] for i in range(1,5))/r['Total'],axis=1)\n",
    "    accidents_calendar = pd.pivot_table(data_clean,columns='Year',index='Month',values='Severity')"
   ]
  },
  {
   "cell_type": "code",
   "execution_count": null,
   "id": "351794ac",
   "metadata": {},
   "outputs": [],
   "source": [
    "display(accdidents_year)\n",
    "print('*'*75)\n",
    "display(accidents_calendar)"
   ]
  },
  {
   "cell_type": "markdown",
   "id": "ac0cbcf4",
   "metadata": {},
   "source": [
    "### Infrastructure"
   ]
  },
  {
   "cell_type": "code",
   "execution_count": null,
   "id": "ee0153bc",
   "metadata": {},
   "outputs": [],
   "source": []
  },
  {
   "cell_type": "markdown",
   "id": "36aab92a",
   "metadata": {},
   "source": [
    "### Weather Conditions"
   ]
  },
  {
   "cell_type": "code",
   "execution_count": null,
   "id": "351ee0d8",
   "metadata": {},
   "outputs": [],
   "source": [
    "weather_descriptions = data.Weather_Condition.unique()\n",
    "print(f'There are {weather_descriptions.shape[0]} ways that the weather is described in this dataset: \\n')\n",
    "print(weather_descriptions)"
   ]
  },
  {
   "cell_type": "code",
   "execution_count": null,
   "id": "f74c0694",
   "metadata": {},
   "outputs": [],
   "source": [
    "description_counts = data.Weather_Condition.value_counts(dropna=False,normalize=True)\n",
    "description_counts.sort_values(ascending=False)"
   ]
  },
  {
   "cell_type": "markdown",
   "id": "33a17ee9",
   "metadata": {},
   "source": [
    "#### Exploration of Weather Condition Consolidation"
   ]
  },
  {
   "cell_type": "code",
   "execution_count": null,
   "id": "a43adee1",
   "metadata": {},
   "outputs": [],
   "source": [
    "weather_factors = ['Temperature(F)','Wind_Chill(F)','Humidity(%)',\n",
    "                   'Pressure(in)','Visibility(mi)',\n",
    "                   'Wind_Speed(mph)','Precipitation(in)']"
   ]
  },
  {
   "cell_type": "code",
   "execution_count": null,
   "id": "bc3ff6e3",
   "metadata": {},
   "outputs": [],
   "source": [
    "X = data[weather_factors].dropna()\n",
    "scaler = StandardScaler() \n",
    "X_std =scaler.fit_transform(X)"
   ]
  },
  {
   "cell_type": "code",
   "execution_count": null,
   "id": "42f79db9",
   "metadata": {},
   "outputs": [],
   "source": [
    "pca = PCA()\n",
    "pca.fit(X_std);"
   ]
  },
  {
   "cell_type": "code",
   "execution_count": null,
   "id": "80d0bfc9",
   "metadata": {},
   "outputs": [],
   "source": [
    "cumulative_var = np.cumsum(pca.explained_variance_ratio_)\n",
    "# Create a cumulative variance plot\n",
    "plt.figure(figsize=(10, 6))\n",
    "cum_var_plot = plt.plot(range(1, len(cumulative_var) + 1), cumulative_var, \n",
    "         'o-', linewidth=2, color='green')\n",
    "# Add lines for 90% and 95% thresholds\n",
    "plt.axhline(y=0.9, color='r', linestyle='--', label='90% threshold')\n",
    "plt.axhline(y=0.95, color='g', linestyle='--', label='95% threshold')\n",
    "plt.title('Cumulative Variance Explained')\n",
    "plt.xlabel('Number of Components')\n",
    "plt.ylabel('Cumulative Variance Explained')\n",
    "plt.legend()\n",
    "plt.grid(True)\n",
    "plt.show()"
   ]
  },
  {
   "cell_type": "code",
   "execution_count": null,
   "id": "f69b07c3",
   "metadata": {},
   "outputs": [],
   "source": [
    "target_variance = 0.95\n",
    "n_components_variance = np.argmax(cumulative_var >= target_variance) + 1\n",
    "print(f'We choose to include the first {n_components_variance} components.')"
   ]
  },
  {
   "cell_type": "code",
   "execution_count": null,
   "id": "c3cd2b60",
   "metadata": {},
   "outputs": [],
   "source": [
    "pca = PCA(n_components=n_components_variance)\n",
    "pca.fit(X_std);\n",
    "# Transform the standardized data to get principal components\n",
    "X_pca = pca.transform(X_std)\n",
    "\n",
    "# Create a DataFrame with the principal components\n",
    "pca_df = pd.DataFrame(\n",
    "    data=X_pca,\n",
    "    columns=[f'PC{i+1}' for i in range(X_pca.shape[1])]\n",
    ")\n",
    "pca_df"
   ]
  },
  {
   "cell_type": "code",
   "execution_count": null,
   "id": "1b00e1e2",
   "metadata": {},
   "outputs": [],
   "source": [
    "# Create an easy to view DF of the loadings.\n",
    "loadings = pd.DataFrame(\n",
    "    pca.components_.T,\n",
    "    columns=[f'PC{i+1}' for i in range(n_components_variance)],\n",
    "    index=weather_factors\n",
    ")\n",
    "loadings"
   ]
  },
  {
   "cell_type": "code",
   "execution_count": null,
   "id": "0e3fe0bc",
   "metadata": {},
   "outputs": [],
   "source": [
    "# Visualize the loadings for the first two PCs\n",
    "plt.figure(figsize=(12, 8))\n",
    "for i, feature in enumerate(weather_factors):\n",
    "    plt.arrow(0, 0, loadings.iloc[i, 0], loadings.iloc[i, 1], head_width=0.05, head_length=0.05)\n",
    "    plt.text(loadings.iloc[i, 0]*1.1, loadings.iloc[i, 1]*1.1, feature, fontsize=12)\n",
    "\n",
    "# Add a unit circle for reference\n",
    "circle = plt.Circle((0, 0), 1, fill=False, linestyle='--')\n",
    "plt.gca().add_patch(circle)\n",
    "\n",
    "plt.grid(True)\n",
    "plt.axhline(y=0, color='k', linestyle='-', alpha=0.3)\n",
    "plt.axvline(x=0, color='k', linestyle='-', alpha=0.3)\n",
    "plt.xlim(-1.1, 1.1)\n",
    "plt.ylim(-1.1, 1.1)\n",
    "plt.title('PCA Loading Plot (PC1 vs PC2)')\n",
    "plt.xlabel(f'PC1 ({pca.explained_variance_ratio_[0]:.2%} variance explained)')\n",
    "plt.ylabel(f'PC2 ({pca.explained_variance_ratio_[1]:.2%} variance explained)')\n",
    "plt.tight_layout()\n",
    "plt.show()"
   ]
  },
  {
   "cell_type": "code",
   "execution_count": null,
   "id": "ee891e37",
   "metadata": {},
   "outputs": [],
   "source": [
    "X = data[weather_factors+['Weather_Condition']].dropna()[weather_factors]\n",
    "scaler = StandardScaler() \n",
    "X_std =scaler.fit_transform(X)"
   ]
  },
  {
   "cell_type": "code",
   "execution_count": null,
   "id": "a15e8eaf",
   "metadata": {},
   "outputs": [],
   "source": [
    "# Write your code here\n",
    "km = KMeans(random_state=42)\n",
    "visualizer = KElbowVisualizer(km,k=(5,50))\n",
    "visualizer.fit(X_std)\n",
    "visualizer.show();"
   ]
  },
  {
   "cell_type": "markdown",
   "id": "6d4ba79f",
   "metadata": {},
   "source": [
    "Recall, the heavily-skewed distribution of weather descripitions.  "
   ]
  },
  {
   "cell_type": "code",
   "execution_count": null,
   "id": "1b1c651f",
   "metadata": {},
   "outputs": [],
   "source": [
    "km = KMeans(random_state=42,n_clusters=visualizer.elbow_value_)\n",
    "km.fit(X_std)"
   ]
  },
  {
   "cell_type": "code",
   "execution_count": null,
   "id": "eba94033",
   "metadata": {},
   "outputs": [],
   "source": [
    "centroids = pd.DataFrame(scaler.inverse_transform(km.cluster_centers_),columns=weather_factors)\n",
    "centroids"
   ]
  },
  {
   "cell_type": "code",
   "execution_count": null,
   "id": "c184a051",
   "metadata": {},
   "outputs": [],
   "source": [
    "pd.Series(km.labels_).value_counts(normalize=True).sort_values(ascending=False)"
   ]
  },
  {
   "cell_type": "code",
   "execution_count": null,
   "id": "7fb92d96",
   "metadata": {},
   "outputs": [],
   "source": [
    "described_obsv = pd.DataFrame(data[weather_factors+['Weather_Condition']].dropna()['Weather_Condition'])\n",
    "described_obsv['Cluster'] = km.labels_\n",
    "described_obsv['Severity'] = data['Severity']\n",
    "described_obsv['Distance(mi)'] = data['Distance(mi)']\n",
    "described_obsv"
   ]
  },
  {
   "cell_type": "code",
   "execution_count": null,
   "id": "778ee98a",
   "metadata": {},
   "outputs": [],
   "source": [
    "cluster_v_descr = pd.crosstab(described_obsv['Cluster'],described_obsv['Weather_Condition'])\n",
    "cluster_v_descr"
   ]
  },
  {
   "cell_type": "code",
   "execution_count": null,
   "id": "c29e3df5",
   "metadata": {},
   "outputs": [],
   "source": [
    "cluster_v_sever = pd.crosstab(described_obsv['Cluster'],described_obsv['Severity'])\n",
    "cluster_v_sever['Average'] = cluster_v_sever.apply(lambda r:sum(r[c]*c for c in range(1,5))/sum(r),axis=1)\n",
    "cluster_v_sever"
   ]
  },
  {
   "cell_type": "markdown",
   "id": "c2367ee5",
   "metadata": {},
   "source": [
    "# 5-Statistical Analysis\n",
    "Chi-Squared and ANOVA Tests for various features "
   ]
  },
  {
   "cell_type": "markdown",
   "id": "cf82f8df",
   "metadata": {},
   "source": [
    "## Severity as An Input Feature for Distance and Time of Impact"
   ]
  },
  {
   "cell_type": "code",
   "execution_count": null,
   "id": "e5f04588",
   "metadata": {},
   "outputs": [],
   "source": [
    "model_weather = ols(\"Q('Distance(mi)') ~ C(Severity)\", data=data).fit()\n",
    "anova_table_weather = sm.stats.anova_lm(model_weather, typ=2)\n",
    "print(\"\\nANOVA for Weather Category:\\n\", anova_table_weather)\n",
    "p_weather = anova_table_weather['PR(>F)'].iloc[0]\n",
    "print(f\"P-value for Weather Category: {p_weather}\")"
   ]
  },
  {
   "cell_type": "code",
   "execution_count": null,
   "id": "bacea6f8",
   "metadata": {},
   "outputs": [],
   "source": [
    "model_weather = ols(\"Q('Time_of_Impact(hr)') ~ C(Severity)\", data=data).fit()\n",
    "anova_table_weather = sm.stats.anova_lm(model_weather, typ=2)\n",
    "print(\"\\nANOVA for Weather Category:\\n\", anova_table_weather)\n",
    "p_weather = anova_table_weather['PR(>F)'].iloc[0]\n",
    "print(f\"P-value for Weather Category: {p_weather}\")"
   ]
  },
  {
   "cell_type": "markdown",
   "id": "7e749fc4",
   "metadata": {},
   "source": [
    "## Weather Category\n",
    "* Null Hypothesis (H0): There is no significant difference in accident severity across weather categories.\n",
    "\n",
    "* Alternative Hypothesis (H1): There is a significant difference in accident severity across weather categories."
   ]
  },
  {
   "cell_type": "markdown",
   "id": "54d5bf55",
   "metadata": {},
   "source": [
    "### Time-Related"
   ]
  },
  {
   "cell_type": "markdown",
   "id": "df1ca1f9",
   "metadata": {},
   "source": [
    "### YoY Difference?"
   ]
  },
  {
   "cell_type": "code",
   "execution_count": null,
   "id": "25b6d3ad",
   "metadata": {},
   "outputs": [],
   "source": [
    "reports,stats = test_results('Year',data)"
   ]
  },
  {
   "cell_type": "code",
   "execution_count": null,
   "id": "6e6400ec",
   "metadata": {},
   "outputs": [],
   "source": [
    "data.groupby('Year')[['Severity','Time_of_Impact(hr)','Distance(mi)']].mean()"
   ]
  },
  {
   "cell_type": "markdown",
   "id": "83aa2614",
   "metadata": {},
   "source": [
    "### Quarterly Difference?"
   ]
  },
  {
   "cell_type": "code",
   "execution_count": null,
   "id": "2b3dcb9b",
   "metadata": {},
   "outputs": [],
   "source": [
    "reports,stats = test_results('Quarter',data)"
   ]
  },
  {
   "cell_type": "code",
   "execution_count": null,
   "id": "4017b46c",
   "metadata": {},
   "outputs": [],
   "source": [
    "data.groupby('Year')[['Severity','Time_of_Impact(hr)','Distance(mi)']].mean()"
   ]
  },
  {
   "cell_type": "markdown",
   "id": "ebec7b4b",
   "metadata": {},
   "source": [
    "### Time of Day?\n",
    "Hour of incident; During rush hours; & Night vs Day "
   ]
  },
  {
   "cell_type": "code",
   "execution_count": null,
   "id": "98d472bf",
   "metadata": {},
   "outputs": [],
   "source": [
    "reports,stats = test_results('Hour',data)\n",
    "data.groupby('Hour')[['Severity','Time_of_Impact(hr)','Distance(mi)']].mean()"
   ]
  },
  {
   "cell_type": "code",
   "execution_count": null,
   "id": "49445144",
   "metadata": {},
   "outputs": [],
   "source": [
    "reports,stats = test_results('Evening_Rush',data)\n",
    "data.groupby('Evening_Rush')[['Severity','Time_of_Impact(hr)','Distance(mi)']].mean()"
   ]
  },
  {
   "cell_type": "code",
   "execution_count": null,
   "id": "b21e632d",
   "metadata": {},
   "outputs": [],
   "source": [
    "reports,stats = test_results('Morning_Rush',data)\n",
    "data.groupby('Morning_Rush')[['Severity','Time_of_Impact(hr)','Distance(mi)']].mean()"
   ]
  },
  {
   "cell_type": "code",
   "execution_count": null,
   "id": "de054fa9",
   "metadata": {},
   "outputs": [],
   "source": [
    "reports,stats = test_results('Sunrise_Sunset',data)\n",
    "data.groupby('Sunrise_Sunset')[['Severity','Time_of_Impact(hr)','Distance(mi)']].mean()"
   ]
  },
  {
   "cell_type": "markdown",
   "id": "bf5c0092",
   "metadata": {},
   "source": [
    "### Day of Week, Weekend/Workday & Holiday"
   ]
  },
  {
   "cell_type": "code",
   "execution_count": null,
   "id": "70c25300",
   "metadata": {},
   "outputs": [],
   "source": [
    "reports,stats = test_results('DayofWeek',data)\n",
    "data.groupby('DayofWeek')[['Severity','Time_of_Impact(hr)','Distance(mi)']].mean()"
   ]
  },
  {
   "cell_type": "code",
   "execution_count": null,
   "id": "46853289",
   "metadata": {},
   "outputs": [],
   "source": [
    "reports,stats = test_results('Weekend',data)\n",
    "data.groupby('Weekend')[['Severity','Time_of_Impact(hr)','Distance(mi)']].mean()"
   ]
  },
  {
   "cell_type": "code",
   "execution_count": null,
   "id": "8d85cb4a",
   "metadata": {},
   "outputs": [],
   "source": [
    "reports,stats = test_results('Holiday',data)\n",
    "data.groupby('Holiday')[['Severity','Time_of_Impact(hr)','Distance(mi)']].mean()"
   ]
  },
  {
   "cell_type": "markdown",
   "id": "7987468c",
   "metadata": {},
   "source": [
    "## Location Related"
   ]
  },
  {
   "cell_type": "markdown",
   "id": "512b3159",
   "metadata": {},
   "source": [
    "### By State"
   ]
  },
  {
   "cell_type": "code",
   "execution_count": null,
   "id": "ae86b188",
   "metadata": {},
   "outputs": [],
   "source": [
    "reports,stats = test_results('State',data)\n",
    "data.groupby('State')[['Severity','Time_of_Impact(hr)','Distance(mi)']].mean()"
   ]
  },
  {
   "cell_type": "markdown",
   "id": "2958ab1d",
   "metadata": {},
   "source": [
    "### Infrastructure"
   ]
  },
  {
   "cell_type": "code",
   "execution_count": null,
   "id": "ca81b027",
   "metadata": {},
   "outputs": [],
   "source": [
    "infrastructures = ['Amenity','Bump','Crossing','Give_Way',\n",
    "                   'Junction','No_Exit','Railway','Roundabout',\n",
    "                   'Station','Stop','Traffic_Calming','Traffic_Signal',\n",
    "                   'Turning_Loop'\n",
    "                   ]"
   ]
  },
  {
   "cell_type": "code",
   "execution_count": null,
   "id": "18abfe88",
   "metadata": {},
   "outputs": [],
   "source": [
    "for structure in infrastructures:\n",
    "    reports,stats = test_results(structure,data,visuals=False)\n",
    "    display(data.groupby(structure)[['Severity','Time_of_Impact(hr)','Distance(mi)']].mean())\n",
    "    print('-'*75)"
   ]
  },
  {
   "cell_type": "markdown",
   "id": "d6b57849",
   "metadata": {},
   "source": [
    "# 6-Advanced Analysis"
   ]
  },
  {
   "cell_type": "code",
   "execution_count": null,
   "id": "0a3668c6",
   "metadata": {},
   "outputs": [],
   "source": []
  },
  {
   "cell_type": "markdown",
   "id": "1c99fd9a",
   "metadata": {},
   "source": [
    "# 7-Insights & Conclusions"
   ]
  },
  {
   "cell_type": "markdown",
   "id": "51e3dbdb",
   "metadata": {},
   "source": [
    "## Basic Insights"
   ]
  },
  {
   "cell_type": "markdown",
   "id": "1ac636b3",
   "metadata": {},
   "source": [
    "### Annual Distinctions\n",
    "\n",
    "Number of Accidents; Distribution of Severities; Length of Impact"
   ]
  },
  {
   "cell_type": "code",
   "execution_count": null,
   "id": "b511d0bd",
   "metadata": {},
   "outputs": [],
   "source": []
  },
  {
   "cell_type": "markdown",
   "id": "22d40560",
   "metadata": {},
   "source": [
    "### Temporal & Spatial Considerations\n",
    "\n",
    "How do accident counts relate to different times of the day and for different region types (urban vs rural)?"
   ]
  },
  {
   "cell_type": "code",
   "execution_count": null,
   "id": "473dea22",
   "metadata": {},
   "outputs": [],
   "source": []
  },
  {
   "cell_type": "markdown",
   "id": "830391ae",
   "metadata": {},
   "source": [
    "### Weather Considerations\n",
    "Does certain weather conditions produce more severe incidents?  "
   ]
  },
  {
   "cell_type": "code",
   "execution_count": null,
   "id": "14909e92",
   "metadata": {},
   "outputs": [],
   "source": []
  },
  {
   "cell_type": "markdown",
   "id": "a00b3086",
   "metadata": {},
   "source": [
    "## Severity Prediction"
   ]
  },
  {
   "cell_type": "code",
   "execution_count": null,
   "id": "e5c7e582",
   "metadata": {},
   "outputs": [],
   "source": []
  },
  {
   "cell_type": "markdown",
   "id": "5eff2466",
   "metadata": {},
   "source": [
    "## Advanced (Wish List) Analysis"
   ]
  },
  {
   "cell_type": "markdown",
   "id": "4161a87b",
   "metadata": {},
   "source": [
    "### Unusual Weather \n",
    "\n",
    "Does driving in unexpected weather--based on area, time of year and/or both--create a higher likelihood of an accident."
   ]
  },
  {
   "cell_type": "code",
   "execution_count": null,
   "id": "0e186ab0",
   "metadata": {},
   "outputs": [],
   "source": []
  },
  {
   "cell_type": "markdown",
   "id": "0d0343fb",
   "metadata": {},
   "source": [
    "### Famous Highways"
   ]
  },
  {
   "cell_type": "code",
   "execution_count": null,
   "id": "b1ac08d2",
   "metadata": {},
   "outputs": [],
   "source": []
  },
  {
   "cell_type": "markdown",
   "id": "40f7b787",
   "metadata": {},
   "source": [
    "## Highway's Near Urban Areas\n",
    "\n",
    "For cross-state"
   ]
  },
  {
   "cell_type": "code",
   "execution_count": null,
   "id": "8d9a29e5",
   "metadata": {},
   "outputs": [],
   "source": []
  },
  {
   "cell_type": "markdown",
   "id": "2e130a9d",
   "metadata": {},
   "source": [
    "### Naturual Language\n",
    "\n",
    "Examination of the description feature."
   ]
  },
  {
   "cell_type": "code",
   "execution_count": null,
   "id": "4cc9eb56",
   "metadata": {},
   "outputs": [],
   "source": []
  },
  {
   "cell_type": "markdown",
   "id": "5c11d1dc",
   "metadata": {},
   "source": [
    "### Safety Infrastructure\n",
    "Does certain road infrastructure projects help reduce the number of incidents?"
   ]
  },
  {
   "cell_type": "code",
   "execution_count": null,
   "id": "c65af31e",
   "metadata": {},
   "outputs": [],
   "source": []
  },
  {
   "cell_type": "markdown",
   "id": "d7adc83b",
   "metadata": {},
   "source": [
    "## New Traffic Pattern\n",
    "\n",
    "Does the existence of a new traffic pattern in the area increase the likelihood of an accident?"
   ]
  },
  {
   "cell_type": "code",
   "execution_count": null,
   "id": "6e122f67",
   "metadata": {},
   "outputs": [],
   "source": []
  },
  {
   "cell_type": "markdown",
   "id": "68316f14",
   "metadata": {},
   "source": [
    "## Recent Accident Indicator\n",
    "\n",
    "Does the presence of one accident, predict another."
   ]
  },
  {
   "cell_type": "code",
   "execution_count": null,
   "id": "f2548875",
   "metadata": {},
   "outputs": [],
   "source": []
  }
 ],
 "metadata": {
  "kernelspec": {
   "display_name": "base",
   "language": "python",
   "name": "python3"
  },
  "language_info": {
   "codemirror_mode": {
    "name": "ipython",
    "version": 3
   },
   "file_extension": ".py",
   "mimetype": "text/x-python",
   "name": "python",
   "nbconvert_exporter": "python",
   "pygments_lexer": "ipython3",
   "version": "3.12.7"
  }
 },
 "nbformat": 4,
 "nbformat_minor": 5
}
