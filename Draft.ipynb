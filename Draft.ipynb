{
 "cells": [
  {
   "cell_type": "markdown",
   "id": "af6e13aa",
   "metadata": {},
   "source": [
    "# Project Introduction"
   ]
  },
  {
   "cell_type": "markdown",
   "id": "f28a6e29",
   "metadata": {},
   "source": [
    "__[Department of Transportation's Responsibilities](https://www.google.com/search?client=safari&rls=en&q=department+of+transportation+responsibilities&ie=UTF-8&oe=UTF-8)__\n",
    "\n",
    "Through this dataset, I have identified the three following patterns:\n",
    "1. IDEA 1 w/ LOCAL LINK\n",
    "2. IDEA 2 w/ LOCAL LINK\n",
    "3. IDEA 3 w/ LOCAL LINK"
   ]
  },
  {
   "cell_type": "markdown",
   "id": "3d8c8b96",
   "metadata": {},
   "source": [
    "## Resources:\n",
    "\n",
    "- __[Kaggle-Full](https://www.kaggle.com/datasets/sobhanmoosavi/us-accidents/data)__\n",
    "\n",
    "- __[Kaggle-Sampled](https://drive.google.com/file/d/1U3u8QYzLjnEaSurtZfSAS_oh9AT2Mn8X/edit)__\n",
    "\n",
    "- __[Bing API](https://learn.microsoft.com/en-us/bingmaps/rest-services/traffic/get-traffic-incidents#supported-http-methods)__\n",
    "\n",
    "- __[MQuest API](https://developer.mapquest.com/documentation/api/traffic/incidents/get.html)__\n",
    "\n",
    "- __['A Countrywide Traffic Accident Dataset'](https://arxiv.org/pdf/1906.05409)__\n",
    "\n",
    "- __['Accident Risk Prediction based on Heterogenous Sparse Data: New Dataset & Insights](https://arxiv.org/pdf/1909.09638)__"
   ]
  },
  {
   "cell_type": "markdown",
   "id": "62454dd5",
   "metadata": {},
   "source": [
    "# 1-Setup Environment"
   ]
  },
  {
   "cell_type": "markdown",
   "id": "ac1c0833",
   "metadata": {},
   "source": [
    "## Libraries"
   ]
  },
  {
   "cell_type": "code",
   "execution_count": 1,
   "id": "a57cd187",
   "metadata": {},
   "outputs": [],
   "source": [
    "#Utilities\n",
    "import warnings\n",
    "\n",
    "# Data Basics\n",
    "import pandas as pd\n",
    "import numpy as np\n",
    "import missingno as msgno\n",
    "\n",
    "#Time Data\n",
    "from datetime import date, timedelta\n",
    "\n",
    "\n",
    "#PySpark\n",
    "from pyspark.sql import SparkSession\n",
    "from pyspark.mllib.stat import Statistics\n",
    "import pyspark.sql.functions as F\n",
    "\n",
    "#Visuals\n",
    "import matplotlib.pyplot as plt\n",
    "import seaborn as sns\n",
    "\n",
    "\n",
    "# Statistical Analysis\n",
    "from scipy.stats import zscore, f_oneway, chi2_contingency, chisquare\n",
    "import statsmodels.api as sm\n",
    "from statsmodels.formula.api import ols\n",
    "from sklearn.decomposition import PCA\n",
    "from sklearn.cluster import KMeans\n",
    "from sklearn.metrics import silhouette_score\n",
    "from yellowbrick.cluster import KElbowVisualizer, SilhouetteVisualizer\n",
    "from sklearn.preprocessing import StandardScaler, OneHotEncoder\n",
    "\n",
    "# Spatial Tools\n",
    "import geopy\n",
    "import geopy.distance\n",
    "\n",
    "# Text Tools\n",
    "import re\n",
    "from wordcloud import WordCloud\n",
    "\n",
    "from nltk.tokenize import word_tokenize, sent_tokenize\n",
    "from nltk.corpus import stopwords, wordnet\n",
    "from nltk.probability import FreqDist\n",
    "from nltk.stem import PorterStemmer, WordNetLemmatizer\n",
    "from nltk.util import ngrams"
   ]
  },
  {
   "cell_type": "code",
   "execution_count": 2,
   "id": "cc661b12",
   "metadata": {},
   "outputs": [],
   "source": [
    "#api = geopy.Nominatim(user_agent='Capstone_Project_1')\n",
    "#(a,b) = data[data['Street'].str.startswith('I-',na=False)].iloc[0][['Start_Lat','Start_Lng']]\n",
    "#lat_long = f'{a},{b}'\n",
    "#local = api.reverse(lat_long)\n",
    "#local.address"
   ]
  },
  {
   "cell_type": "markdown",
   "id": "e5e3276e",
   "metadata": {},
   "source": [
    "## Info on New Libraries\n",
    "For improved analysis, these libraries were included, but not covered in the material:\n",
    "\n",
    "- __[Geopy:  ](https://geopy.readthedocs.io/en/stable/)__\n",
    "\n",
    "- MissingNo:  \n",
    "    * __[Library](https://github.com/ResidentMario/missingno)__\n",
    "    \n",
    "    * __[Tutorial](https://www.geeksforgeeks.org/python-visualize-missing-values-nan-values-using-missingno-library/)__"
   ]
  },
  {
   "cell_type": "markdown",
   "id": "9f26743b",
   "metadata": {},
   "source": [
    "## Settings"
   ]
  },
  {
   "cell_type": "code",
   "execution_count": 3,
   "id": "f9caeba6",
   "metadata": {},
   "outputs": [],
   "source": [
    "pd.set_option('display.max_columns', None)\n",
    "pd.set_option('display.float_format', lambda x: '%.3f' % x)\n",
    "pd.set_option('display.width', 500)\n",
    "_LITE_SWITCH_ = True\n",
    "_SPARK_ = False"
   ]
  },
  {
   "cell_type": "markdown",
   "id": "fbd5bb42",
   "metadata": {},
   "source": [
    "## Custom Functions"
   ]
  },
  {
   "cell_type": "code",
   "execution_count": 4,
   "id": "190743bc",
   "metadata": {},
   "outputs": [],
   "source": [
    "# For High-level data exploration\n",
    "def count_outliers(df_col,cap=3):\n",
    "    zs = zscore(df_col)\n",
    "    return df_col[zs > cap].shape[0]"
   ]
  },
  {
   "cell_type": "code",
   "execution_count": 5,
   "id": "0f0bc4be",
   "metadata": {},
   "outputs": [],
   "source": [
    "# For Identify Unusual Weather Pattern(s)\n",
    "def unusual_weather(observation):\n",
    "    flag = False\n",
    "    return flag"
   ]
  },
  {
   "cell_type": "code",
   "execution_count": 6,
   "id": "fa2098b9",
   "metadata": {},
   "outputs": [],
   "source": [
    "def dist(pt_0,pt_1):\n",
    "    return geopy.distance.distance(pt_0,pt_1).miles"
   ]
  },
  {
   "cell_type": "code",
   "execution_count": null,
   "id": "373f6059",
   "metadata": {},
   "outputs": [],
   "source": [
    "def highway_indicator(eventA):\n",
    "    pass"
   ]
  },
  {
   "cell_type": "code",
   "execution_count": 8,
   "id": "617e13cd",
   "metadata": {},
   "outputs": [],
   "source": [
    "def same_road(eventA,eventB):\n",
    "    indicator = False\n",
    "    road_identifiers = ['Street','City','State','Zipcode']\n",
    "    indicator = all(eventA[id]==eventB[id] for id in road_identifiers)\n",
    "    return indicator"
   ]
  },
  {
   "cell_type": "code",
   "execution_count": 9,
   "id": "bd9e695f",
   "metadata": {},
   "outputs": [],
   "source": [
    "# For indicating whether two events are close in space and, optionally, time.\n",
    "def proximity_indicator(eventA,eventB,space_band=15,time_band=0):\n",
    "    flag = False\n",
    "    distance = dist(eventA[['longitude','latitude']],eventB[['longitude','latitude']])\n",
    "    if (time_band > 0):\n",
    "        time_lapse = abs(eventA['time']-eventB['time'])\n",
    "        flag = bool((space_band > distance) and (time_band > time_lapse))\n",
    "    else:\n",
    "        flag = bool(space_band > distance)\n",
    "    return flag"
   ]
  },
  {
   "cell_type": "code",
   "execution_count": null,
   "id": "5793112c",
   "metadata": {},
   "outputs": [],
   "source": [
    "def test_category(feature_name):\n",
    "    # Time of Impact--ANOVA\n",
    "    model_time = ols(f\"Q('Time_of_Impact(hr)') ~ C({feature_name})\", data=data_clean).fit()\n",
    "    anova_table_time = sm.stats.anova_lm(model_weather, typ=2)\n",
    "    # Distance of Impact--ANOVA\n",
    "    model_distance = ols(f\"Q('Distance(mi)') ~ C({feature_name})\", data=data_clean).fit()\n",
    "    anova_table_distance = sm.stats.anova_lm(model_weather, typ=2)\n",
    "    # Severity Distribution--ANOVA\n",
    "    contingency_table = pd.crosstab(data_clean['Weather_Condition'], data_clean['Severity'])\n",
    "    chi_results = chi2_contingency(contingency_table)\n",
    "    return anova_table_time, anova_table_distance, chi_results"
   ]
  },
  {
   "cell_type": "code",
   "execution_count": null,
   "id": "1bcccad1",
   "metadata": {},
   "outputs": [],
   "source": [
    "# Holiday Indicators\n",
    "# Given by Google:\n",
    "def calculate_memorial_day(year):\n",
    "    # Get the last day of May\n",
    "    last_day_of_may = date(year, 5, 31)\n",
    "\n",
    "    # Get the weekday of the last day of May (0=Monday, 6=Sunday)\n",
    "    weekday = last_day_of_may.weekday()\n",
    "\n",
    "    # Calculate the offset to get to the last Monday\n",
    "    offset = (weekday - 0) % 7\n",
    "\n",
    "    # Calculate Memorial Day\n",
    "    memorial_day = last_day_of_may - timedelta(days=offset)\n",
    "\n",
    "    return memorial_day\n",
    "\n",
    "# Given by Google:\n",
    "def get_thanksgiving_date(year):\n",
    "    # Get the first day of November\n",
    "    first_november = date(year, 11, 1)\n",
    "    \n",
    "    # Calculate the day of the week for the first of November (0 = Monday, 6 = Sunday)\n",
    "    first_day_weekday = first_november.weekday()\n",
    "    \n",
    "    # Calculate the number of days to add to get to the first Thursday\n",
    "    days_to_first_thursday = (3 - first_day_weekday) % 7\n",
    "    \n",
    "    # Calculate the date of the first Thursday of November\n",
    "    first_thursday = first_november + timedelta(days=days_to_first_thursday)\n",
    "    \n",
    "    # Add 3 weeks (21 days) to get to the fourth Thursday (Thanksgiving)\n",
    "    thanksgiving_date = first_thursday + timedelta(days=21)\n",
    "    \n",
    "    return thanksgiving_date\n",
    "\n",
    "def get_labor_day(year):\n",
    "    first = date(year,9,1)\n",
    "    d = first\n",
    "    while d.weekday() > 0:\n",
    "       d = d + timedelta(days=1)\n",
    "    return d"
   ]
  },
  {
   "cell_type": "markdown",
   "id": "54ad15e6",
   "metadata": {},
   "source": [
    "## Load Dataset"
   ]
  },
  {
   "cell_type": "code",
   "execution_count": null,
   "id": "d09a8e27",
   "metadata": {},
   "outputs": [],
   "source": [
    "if _SPARK_:\n",
    "    spark = SparkSession.builder.appName(\"Accident Data Project\").getOrCreate()\n",
    "    data = spark.read.csv('US_Accidents_March23.csv',header=True,inferSchema=True)\n",
    "else:\n",
    "    if _LITE_SWITCH_:\n",
    "        data = pd.read_csv('US_Accidents_March23_sampled_500k.csv')\n",
    "    else:\n",
    "        data = pd.read_csv('US_Accidents_March23.csv')\n",
    "    "
   ]
  },
  {
   "cell_type": "markdown",
   "id": "dda9e963",
   "metadata": {},
   "source": [
    "# 2-Initial EDA"
   ]
  },
  {
   "cell_type": "markdown",
   "id": "ce0ade77",
   "metadata": {},
   "source": [
    "## Schema & Feature Basics"
   ]
  },
  {
   "cell_type": "code",
   "execution_count": null,
   "id": "f7d47143",
   "metadata": {},
   "outputs": [],
   "source": [
    "if _SPARK_:\n",
    "    data.printSchema()\n",
    "    print(\"Features: \",len(data.columns))\n",
    "    print(\"Entries:  \",data.count())\n",
    "else:\n",
    "    data.info()"
   ]
  },
  {
   "cell_type": "code",
   "execution_count": null,
   "id": "555ca1d5",
   "metadata": {},
   "outputs": [],
   "source": [
    "if _SPARK_:\n",
    "    data.show(5,vertical=False)\n",
    "else:\n",
    "    data.head(5)"
   ]
  },
  {
   "cell_type": "code",
   "execution_count": null,
   "id": "b2589ce0",
   "metadata": {},
   "outputs": [],
   "source": [
    "if _SPARK_:\n",
    "    data.describe().show()\n",
    "else:\n",
    "    pass\n",
    "    "
   ]
  },
  {
   "cell_type": "markdown",
   "id": "23f78f1c",
   "metadata": {},
   "source": [
    "Very large dataset with over 7.7 million observations.  (I also chose to do some initial analysis ont he kaggle-provided sampled dataset which contains only 500k observations.)  So we will have to handle with care either by using Spark or through other tricks.\n",
    "\n",
    "\n",
    "Notes on Features: Dimensionally much more managable with just 45 features.\n",
    "- 'Severity' would appear to be the primary variable of interest; 'Description' might be interesting to experiment with.\n",
    "    * Upon further research, there is a 'Distance(mi)' feature that reflects the mileage of road that was impacted.\n",
    "    * Furthermore, we can calculate the duration of impact by calculating the delta between 'Start_Time' & 'End_Time'\n",
    "\n",
    "- 'Description' feature might be an interesting avenue to explore.  However, I suspect that it is collected/generated after the fact so there wouldn't be much predictive value.\n",
    "\n",
    "- A number of location features\n",
    "    * 'Start_Lat'/'Start_Lng' are easy enough to interpret but not sure what is meant by 'End_Lat' and 'End_Lng'\n",
    "    * Similar question for 'Distance(mi)'\n",
    "    * Street and City might not be useful features since they are not informative without further context.  \n",
    "\n",
    "- Identifiers in ID and Source\n",
    "\n",
    "- We have three time features ('Weather_Timestamp', 'Start_Time' and 'End_Time').\n",
    "    * They need to be [converted to datetimes](#datetimes).  Right now they are just strings.\n",
    "    * There may be an issue with inconsistent formatting.\n",
    "    * It may be interesting to use these values to engineer some features like time of day, season, weekday/weekend, etc.\n",
    "    * However, the information contained in 'Weather_Timestamp' is unclear.\n",
    "\n",
    "- There are 9 (not including 'Weather_Timestamp') features on the weather.\n",
    "    * Visability is probably the most relevant of these but 'Weather_Condition' might be a fine substitute/summary.\n",
    "\n",
    "-There are 5 binary features indicating whether or not it was light or dark out at the time of the incident.\n",
    "\n",
    "- Next are 10 binary features which seem to provide some information about the road infrastructure at the location of the accident.  \n"
   ]
  },
  {
   "cell_type": "code",
   "execution_count": null,
   "id": "5e387875",
   "metadata": {},
   "outputs": [],
   "source": [
    "_TARGET_ = ['Severity']\n",
    "_NUMERICS_ = ['Distance(mi)','Temperature(F)',\n",
    "              'Wind_Chill(F)','Humidity(%)','Pressure(in)',\n",
    "              'Visibility(mi)','Wind_Speed(mph)','Precipitation(in)']"
   ]
  },
  {
   "cell_type": "markdown",
   "id": "964276f4",
   "metadata": {},
   "source": [
    "## Missing Values"
   ]
  },
  {
   "cell_type": "code",
   "execution_count": null,
   "id": "97f0f749",
   "metadata": {},
   "outputs": [],
   "source": [
    "if _SPARK_:\n",
    "    missing = data.select(*[F.sum(F.isnull(F.col(c)).cast(\"int\")).alias(c) for c in data.columns])\n",
    "    print(missing.show(vertical=True))\n",
    "else:\n",
    "    print(data.isna().sum().sort_values(ascending=False))"
   ]
  },
  {
   "cell_type": "markdown",
   "id": "35c92170",
   "metadata": {},
   "source": [
    "There is a lot of missing data. \n",
    "\n",
    "- Most notably, the 'End_Lat'/'End_Lng'.  Will have to confirm but it would appear that observations missing one are also missing the other.  \n",
    "- There aren't any missing values for 'Severity' as well as basic location data (gps + state/county).\n",
    "- Only five observations are missing 'Description' which may prove convenient.\n"
   ]
  },
  {
   "cell_type": "code",
   "execution_count": null,
   "id": "c6612280",
   "metadata": {},
   "outputs": [],
   "source": [
    "msgno.heatmap(data)"
   ]
  },
  {
   "cell_type": "markdown",
   "id": "1d45b362",
   "metadata": {},
   "source": [
    "Good to know:\n",
    "* Confirmed that Latitude/Longitude Data are strictly missing together.\n",
    "\n",
    "* Weather data seems to be missing together in general but not perfectly missing and not a uniform relationship (Precipitation and Wind Direction for example).\n",
    "\n",
    "* The day/night variables are strictly missing together.  "
   ]
  },
  {
   "cell_type": "markdown",
   "id": "7db39547",
   "metadata": {},
   "source": [
    "## Duplicates\n",
    "\n",
    "There are no duplicates to deal with:"
   ]
  },
  {
   "cell_type": "code",
   "execution_count": null,
   "id": "3a0914db",
   "metadata": {},
   "outputs": [],
   "source": [
    "if _SPARK_:\n",
    "    duplicates = int(data.count() - data.dropDuplicates().count())\n",
    "    duplicates.show()\n",
    "else:\n",
    "    print(data.duplicated().sum())"
   ]
  },
  {
   "cell_type": "markdown",
   "id": "f5f9347b",
   "metadata": {},
   "source": [
    "## Outliers"
   ]
  },
  {
   "cell_type": "code",
   "execution_count": null,
   "id": "28788e99",
   "metadata": {},
   "outputs": [],
   "source": [
    "if _SPARK_:\n",
    "    pass\n",
    "else:\n",
    "    print(pd.DataFrame({c:{z:count_outliers(data[c],z) for z in [3,5,10,15,20]} for c in _NUMERICS_}).T)"
   ]
  },
  {
   "cell_type": "markdown",
   "id": "cbb844d4",
   "metadata": {},
   "source": [
    "The distance feature may have some outlier issues.  However, this may be a function of the feature's nature as almost all incidents will not impact a large swath of the road. "
   ]
  },
  {
   "cell_type": "markdown",
   "id": "dac519b8",
   "metadata": {},
   "source": [
    "## High-Level Features"
   ]
  },
  {
   "cell_type": "markdown",
   "id": "66250376",
   "metadata": {},
   "source": [
    "### Nature of Accident"
   ]
  },
  {
   "cell_type": "code",
   "execution_count": null,
   "id": "d8567d79",
   "metadata": {},
   "outputs": [],
   "source": [
    "data['Severity'].value_counts()"
   ]
  },
  {
   "cell_type": "code",
   "execution_count": null,
   "id": "f4374a42",
   "metadata": {},
   "outputs": [],
   "source": [
    "data['Distance(mi)'].value_counts(bins=25).sort_index(ascending=True)"
   ]
  },
  {
   "cell_type": "code",
   "execution_count": null,
   "id": "9d859519",
   "metadata": {},
   "outputs": [],
   "source": [
    "(data['Distance(mi)']==0).sum()/data.shape[0]"
   ]
  },
  {
   "cell_type": "code",
   "execution_count": null,
   "id": "209e6116",
   "metadata": {},
   "outputs": [],
   "source": [
    "data[data['Distance(mi)']==0].groupby('Severity').count()"
   ]
  },
  {
   "cell_type": "code",
   "execution_count": null,
   "id": "b66b34d1",
   "metadata": {},
   "outputs": [],
   "source": [
    "sns.histplot(data[data['Distance(mi)'] > 0]['Distance(mi)']);"
   ]
  },
  {
   "cell_type": "markdown",
   "id": "1a8a76eb",
   "metadata": {},
   "source": [
    "Interesting that we have distances less than 0.  And as expected, the bulk of the data is near or at 0.  "
   ]
  },
  {
   "cell_type": "markdown",
   "id": "6f2fb79a",
   "metadata": {},
   "source": [
    "### Time Features"
   ]
  },
  {
   "cell_type": "markdown",
   "id": "5eb17e0b",
   "metadata": {},
   "source": [
    "It is required to set the 'format' parameter to \"mixed\".  (Too many observations to understand why / explore observations setting off the error.)"
   ]
  },
  {
   "cell_type": "code",
   "execution_count": null,
   "id": "418cc97f",
   "metadata": {},
   "outputs": [],
   "source": [
    "start = pd.to_datetime(data['Start_Time'],format='mixed')\n",
    "end = pd.to_datetime(data['Start_Time'],format='mixed')\n",
    "time_change = end - start"
   ]
  },
  {
   "cell_type": "code",
   "execution_count": null,
   "id": "af5c2b14",
   "metadata": {},
   "outputs": [],
   "source": [
    "time_change.value_counts(bins=25).sort_index(ascending=True)"
   ]
  },
  {
   "cell_type": "markdown",
   "id": "668865e4",
   "metadata": {},
   "source": [
    "### Address Features"
   ]
  },
  {
   "cell_type": "code",
   "execution_count": null,
   "id": "1ce3641d",
   "metadata": {},
   "outputs": [],
   "source": [
    "data['Country'].value_counts()"
   ]
  },
  {
   "cell_type": "markdown",
   "id": "b47fe0ba",
   "metadata": {},
   "source": [
    "We can cut this 'Country' feature entirely from the data going forward."
   ]
  },
  {
   "cell_type": "code",
   "execution_count": null,
   "id": "ea87d227",
   "metadata": {},
   "outputs": [],
   "source": [
    "data['State'].value_counts(dropna=False,normalize=True)"
   ]
  },
  {
   "cell_type": "markdown",
   "id": "723370de",
   "metadata": {},
   "source": [
    "California seems very high even adjusting for population and area size."
   ]
  },
  {
   "cell_type": "code",
   "execution_count": null,
   "id": "8d4dc911",
   "metadata": {},
   "outputs": [],
   "source": [
    "data['Zipcode'].value_counts(dropna=False,normalize=True).sort_values(ascending=False)"
   ]
  },
  {
   "cell_type": "code",
   "execution_count": null,
   "id": "6819c46e",
   "metadata": {},
   "outputs": [],
   "source": [
    "data['Airport_Code'].value_counts(dropna=False,normalize=True).sort_values(ascending=False)"
   ]
  },
  {
   "cell_type": "code",
   "execution_count": null,
   "id": "fe0b5584",
   "metadata": {},
   "outputs": [],
   "source": [
    "data['Street'].value_counts(dropna=False).sort_values(ascending=False).head(25)"
   ]
  },
  {
   "cell_type": "markdown",
   "id": "1e8c72e0",
   "metadata": {},
   "source": [
    "### Weather"
   ]
  },
  {
   "cell_type": "code",
   "execution_count": null,
   "id": "a4bd10f0",
   "metadata": {},
   "outputs": [],
   "source": [
    "data['Weather_Condition'].unique()"
   ]
  },
  {
   "cell_type": "code",
   "execution_count": null,
   "id": "02d0f624",
   "metadata": {},
   "outputs": [],
   "source": [
    "data['Weather_Condition'].value_counts(dropna=False,normalize=True).sort_values(ascending=False).head(25)"
   ]
  },
  {
   "cell_type": "code",
   "execution_count": null,
   "id": "438a8e23",
   "metadata": {},
   "outputs": [],
   "source": [
    "_WeatherData_ = ['Temperature(F)','Wind_Chill(F)',\n",
    "                 'Humidity(%)','Pressure(in)','Visibility(mi)',\n",
    "                 'Wind_Direction','Wind_Speed(mph)','Precipitation(in)',\n",
    "                 ]"
   ]
  },
  {
   "cell_type": "markdown",
   "id": "5e9630b4",
   "metadata": {},
   "source": [
    "### Night/Day Features\n",
    "\n",
    "There appears to be multiple indicators for day/night that need to be explored.  According to __[Google](https://www.google.com/search?q=different+types+of+twilight&rlz=1C5OZZY_enUS1127US1127&oq=different+types+of+twilight&gs_lcrp=EgZjaHJvbWUyCQgAEEUYORiABDIICAEQABgWGB4yCAgCEAAYFhgeMggIAxAAGBYYHjIICAQQABgWGB4yDQgFEAAYhgMYgAQYigUyDQgGEAAYhgMYgAQYigUyDQgHEAAYhgMYgAQYigUyDQgIEAAYhgMYgAQYigUyCggJEAAYgAQYogTSAQg0NjU3ajFqN6gCALACAA&sourceid=chrome&ie=UTF-8)__, "
   ]
  },
  {
   "cell_type": "code",
   "execution_count": null,
   "id": "bdb2dd50",
   "metadata": {},
   "outputs": [],
   "source": [
    "print(pd.crosstab(data['Nautical_Twilight'],data['Astronomical_Twilight']))\n",
    "print('-'*50)\n",
    "print(pd.crosstab(data['Nautical_Twilight'],data['Civil_Twilight']))\n",
    "print('-'*50)\n",
    "print(pd.crosstab(data['Nautical_Twilight'],data['Sunrise_Sunset']))"
   ]
  },
  {
   "cell_type": "code",
   "execution_count": null,
   "id": "3dc28b3b",
   "metadata": {},
   "outputs": [],
   "source": [
    "print(pd.crosstab(data['Astronomical_Twilight'],data['Civil_Twilight']))\n",
    "print('-'*50)\n",
    "print(pd.crosstab(data['Astronomical_Twilight'],data['Sunrise_Sunset']))"
   ]
  },
  {
   "cell_type": "code",
   "execution_count": null,
   "id": "8e6d75e4",
   "metadata": {},
   "outputs": [],
   "source": [
    "print(pd.crosstab(data['Civil_Twilight'],data['Sunrise_Sunset']))"
   ]
  },
  {
   "cell_type": "markdown",
   "id": "abffbbee",
   "metadata": {},
   "source": [
    "### Infrastructure"
   ]
  },
  {
   "cell_type": "code",
   "execution_count": null,
   "id": "76bae1b7",
   "metadata": {},
   "outputs": [],
   "source": []
  },
  {
   "cell_type": "markdown",
   "id": "7249add0",
   "metadata": {},
   "source": [
    "# 3-Data Processing"
   ]
  },
  {
   "cell_type": "markdown",
   "id": "dc2fedb7",
   "metadata": {},
   "source": [
    "Start with a brand new dataset"
   ]
  },
  {
   "cell_type": "code",
   "execution_count": null,
   "id": "0494fe00",
   "metadata": {},
   "outputs": [],
   "source": [
    "del data\n",
    "if _SPARK_:\n",
    "    spark.stop()\n",
    "else:\n",
    "    pass"
   ]
  },
  {
   "cell_type": "code",
   "execution_count": null,
   "id": "b714ee29",
   "metadata": {},
   "outputs": [],
   "source": [
    "if _SPARK_:\n",
    "    spark = SparkSession.builder.appName(\"Accident Data Project\").getOrCreate()\n",
    "    data_clean = spark.read.csv('US_Accidents_March23.csv',header=True,inferSchema=True)\n",
    "else:\n",
    "    if _LITE_SWITCH_:\n",
    "        data_clean = pd.read_csv('US_Accidents_March23_sampled_500k.csv')\n",
    "    else:\n",
    "        data_clean = pd.read_csv('US_Accidents_March23.csv')\n",
    "    "
   ]
  },
  {
   "cell_type": "markdown",
   "id": "4c36d28d",
   "metadata": {},
   "source": [
    "## Missing Data"
   ]
  },
  {
   "cell_type": "code",
   "execution_count": null,
   "id": "c718f5d9",
   "metadata": {},
   "outputs": [],
   "source": []
  },
  {
   "cell_type": "markdown",
   "id": "6b637d91",
   "metadata": {},
   "source": [
    "## Outliers"
   ]
  },
  {
   "cell_type": "code",
   "execution_count": null,
   "id": "ace502f8",
   "metadata": {},
   "outputs": [],
   "source": []
  },
  {
   "cell_type": "markdown",
   "id": "fdfbf851",
   "metadata": {},
   "source": [
    "## Engineer Features"
   ]
  },
  {
   "cell_type": "markdown",
   "id": "b151a623",
   "metadata": {},
   "source": [
    "### <a id='datetimes'> Converting dates </a>"
   ]
  },
  {
   "cell_type": "code",
   "execution_count": null,
   "id": "2ccd8255",
   "metadata": {},
   "outputs": [],
   "source": [
    "if _SPARK_:\n",
    "    pass\n",
    "else:\n",
    "    data_clean['Start'] = pd.to_datetime(data_clean['Start_Time'],format='mixed')\n",
    "    data_clean['End'] = pd.to_datetime(data_clean['End_Time'],format='mixed')"
   ]
  },
  {
   "cell_type": "markdown",
   "id": "bdb6f5b6",
   "metadata": {},
   "source": [
    "### Partition the time data"
   ]
  },
  {
   "cell_type": "code",
   "execution_count": null,
   "id": "2a55419d",
   "metadata": {},
   "outputs": [],
   "source": [
    "if _SPARK_:\n",
    "    pass\n",
    "else:\n",
    "    data_clean['Month'] = data_clean['Start'].dt.month\n",
    "    data_clean['Year'] = data_clean['Start'].dt.year\n",
    "    data_clean['DayofMonth'] = data_clean['Start'].dt.day\n",
    "    data_clean['DayofWeek'] = data_clean['Start'].dt.day_of_week\n",
    "    data_clean['Quarter'] = data_clean['Start'].dt.quarter\n",
    "    data_clean['Hour'] = data_clean['Start'].dt.hour\n",
    "    data_clean['Date'] = data_clean.apply(lambda r: date(r['Year'],r['Month'],r['Day']),axis=1)"
   ]
  },
  {
   "cell_type": "code",
   "execution_count": null,
   "id": "a74c8a6b",
   "metadata": {},
   "outputs": [],
   "source": [
    "data_clean['Year'].value_counts(normalize=True).sort_index()"
   ]
  },
  {
   "cell_type": "markdown",
   "id": "0e2a3a55",
   "metadata": {},
   "source": [
    "Concern that the two bookend years ('16 & '23) have such low proportion of the data.  "
   ]
  },
  {
   "cell_type": "code",
   "execution_count": null,
   "id": "e19cd05e",
   "metadata": {},
   "outputs": [],
   "source": [
    "data_clean['Month'].value_counts(normalize=True).sort_index()"
   ]
  },
  {
   "cell_type": "markdown",
   "id": "5fa03784",
   "metadata": {},
   "source": [
    "Nothing concerning here."
   ]
  },
  {
   "cell_type": "code",
   "execution_count": null,
   "id": "8d8c0dd1",
   "metadata": {},
   "outputs": [],
   "source": [
    "data_clean['Quarter'].value_counts(normalize=True)"
   ]
  },
  {
   "cell_type": "code",
   "execution_count": null,
   "id": "c655ce84",
   "metadata": {},
   "outputs": [],
   "source": [
    "data_clean['DayofWeek'].value_counts(normalize=True).sort_index()"
   ]
  },
  {
   "cell_type": "code",
   "execution_count": null,
   "id": "eba6f1c5",
   "metadata": {},
   "outputs": [],
   "source": [
    "data_clean['Hour'].value_counts(normalize=True).sort_index()"
   ]
  },
  {
   "cell_type": "markdown",
   "id": "649734d3",
   "metadata": {},
   "source": [
    "### Weekend Indicator"
   ]
  },
  {
   "cell_type": "code",
   "execution_count": null,
   "id": "ffa58c7e",
   "metadata": {},
   "outputs": [],
   "source": [
    "data_clean['Weekend'] = ((data_clean['DayofWeek'] == 0) | (data_clean['DayofWeek'] == 6))"
   ]
  },
  {
   "cell_type": "code",
   "execution_count": null,
   "id": "53024d7a",
   "metadata": {},
   "outputs": [],
   "source": [
    "print(f'There are {data_clean['Weekend'].sum()} observations which occured over the weekend.')\n",
    "data_clean.groupby('Weekend')['Severity'].mean()"
   ]
  },
  {
   "cell_type": "markdown",
   "id": "6184fd77",
   "metadata": {},
   "source": [
    "### Holidays Indicator\n",
    "\n",
    "Per __[Google](https://www.google.com/search?client=safari&rls=en&q=holidays+with+most+traffic&ie=UTF-8&oe=UTF-8)__, there are a number of holidays in the US with the highest amount of traffic.  (I subbed NYE in for XMas.)"
   ]
  },
  {
   "cell_type": "code",
   "execution_count": null,
   "id": "f8c7719b",
   "metadata": {},
   "outputs": [],
   "source": [
    "thanksgivings = [get_thanksgiving_date(y) for y in range(2016,2024)]\n",
    "memorials = [calculate_memorial_day(y) for y in range(2016,2024)]\n",
    "labors = [get_labor_day(y) for y in range(2016,2024)]"
   ]
  },
  {
   "cell_type": "code",
   "execution_count": null,
   "id": "0cb8ff09",
   "metadata": {},
   "outputs": [],
   "source": [
    "july_4 = ((data_clean['Month'] == 7) & (data_clean['DayofMonth'] == 4))\n",
    "thanksgiving = data_clean['Date'].apply(lambda d:d in thanksgivings)\n",
    "memorial = data_clean['Date'].apply(lambda d:d in memorials)\n",
    "labor = data_clean['Date'].apply(lambda d:d in labors)\n",
    "nye = ((data_clean['Month'] == 12) & (data_clean['DayofMonth'] == 31))"
   ]
  },
  {
   "cell_type": "code",
   "execution_count": null,
   "id": "f6459853",
   "metadata": {},
   "outputs": [],
   "source": [
    "holidays = (july_4 | thanksgiving | memorial | labor | nye)\n",
    "data_clean['Holiday'] = holidays"
   ]
  },
  {
   "cell_type": "code",
   "execution_count": null,
   "id": "b6f42fbf",
   "metadata": {},
   "outputs": [],
   "source": [
    "info = f'''{holidays.sum()} incidents occured on a prime holiday.'''\n",
    "\n",
    "print(info)"
   ]
  },
  {
   "cell_type": "markdown",
   "id": "535a2208",
   "metadata": {},
   "source": [
    "### Rush Hour Indicator\n",
    "\n",
    "__[Per Google:  ](https://www.google.com/search?client=safari&rls=en&q=rush+hour+typically&ie=UTF-8&oe=UTF-8)__ The morning rush hour begins around 6a, peaking between 7a & 9a, and eases off by 10a.  While afternoon/evening rush hour begins around 3p, peaking between 4p and 6p, and eases off by 7p."
   ]
  },
  {
   "cell_type": "code",
   "execution_count": null,
   "id": "bc79df0e",
   "metadata": {},
   "outputs": [],
   "source": [
    "data_clean['Morning_Rush'] = ((6 > data_clean['DayofWeek']) & (data_clean['DayofWeek'] > 0) & (data_clean['Start'].dt.hour >= 6) & (10 >= data_clean['Start'].dt.hour))"
   ]
  },
  {
   "cell_type": "code",
   "execution_count": null,
   "id": "85901f61",
   "metadata": {},
   "outputs": [],
   "source": [
    "print(f'Total of {data_clean['Morning_Rush'].sum()} incidents during the morning rush hour')"
   ]
  },
  {
   "cell_type": "code",
   "execution_count": null,
   "id": "e83cea16",
   "metadata": {},
   "outputs": [],
   "source": [
    "data_clean['Evening_Rush'] = ((6 > data_clean['DayofWeek']) & (data_clean['DayofWeek'] > 0) & (data_clean['Start'].dt.hour >= 15) & (19 >= data_clean['Start'].dt.hour))"
   ]
  },
  {
   "cell_type": "code",
   "execution_count": null,
   "id": "cc94315b",
   "metadata": {},
   "outputs": [],
   "source": [
    "print(f'Total of {data_clean['Evening_Rush'].sum()} incidents during the evening rush hour')"
   ]
  },
  {
   "cell_type": "code",
   "execution_count": null,
   "id": "92387aba",
   "metadata": {},
   "outputs": [],
   "source": [
    "if _SPARK_:\n",
    "    accdidents_year = data.stat.crosstab('Year','Severity')\n",
    "else:\n",
    "    accdidents_year = pd.crosstab(data_clean['Year'],data_clean['Severity'])\n",
    "\n",
    "    accdidents_year['Total']=accdidents_year.sum(axis=1)\n",
    "    accdidents_year['Average']=accdidents_year.apply(lambda r:sum(i*r[i] for i in range(1,5))/r['Total'],axis=1)"
   ]
  },
  {
   "cell_type": "code",
   "execution_count": null,
   "id": "5bfaecea",
   "metadata": {},
   "outputs": [],
   "source": [
    "accdidents_year"
   ]
  },
  {
   "cell_type": "code",
   "execution_count": null,
   "id": "bf47daa2",
   "metadata": {},
   "outputs": [],
   "source": [
    "accidents_calendar = pd.pivot_table(data_clean,columns='Year',index='Month',values='Severity')"
   ]
  },
  {
   "cell_type": "code",
   "execution_count": null,
   "id": "b90baf34",
   "metadata": {},
   "outputs": [],
   "source": [
    "accidents_calendar"
   ]
  },
  {
   "cell_type": "markdown",
   "id": "a5b58ef2",
   "metadata": {},
   "source": [
    "Spatial-Based Data"
   ]
  },
  {
   "cell_type": "code",
   "execution_count": null,
   "id": "50450ea4",
   "metadata": {},
   "outputs": [],
   "source": [
    "data_clean.State.value_counts(normalize=True)"
   ]
  },
  {
   "cell_type": "code",
   "execution_count": null,
   "id": "186e518f",
   "metadata": {},
   "outputs": [],
   "source": [
    "data_clean['Street'].value_counts(dropna=False).sort_values(ascending=False).head(50)"
   ]
  },
  {
   "cell_type": "code",
   "execution_count": null,
   "id": "a1378f77",
   "metadata": {},
   "outputs": [],
   "source": [
    "data_clean[\"Street\"].str.startswith('US').sum()"
   ]
  },
  {
   "cell_type": "code",
   "execution_count": null,
   "id": "30fafbf7",
   "metadata": {},
   "outputs": [],
   "source": [
    "data_clean[\"Street\"].str.startswith('United').sum()"
   ]
  },
  {
   "cell_type": "code",
   "execution_count": null,
   "id": "0ecd642c",
   "metadata": {},
   "outputs": [],
   "source": [
    "data_clean[\"Street\"].str.startswith('I-').sum()"
   ]
  },
  {
   "cell_type": "code",
   "execution_count": null,
   "id": "9e62025b",
   "metadata": {},
   "outputs": [],
   "source": [
    "data_clean[\"Street\"].str.startswith('Interstate').sum()"
   ]
  },
  {
   "cell_type": "code",
   "execution_count": null,
   "id": "68d7de13",
   "metadata": {},
   "outputs": [],
   "source": [
    "data_clean[\"Street\"].str.startswith('Route').sum()"
   ]
  },
  {
   "cell_type": "code",
   "execution_count": null,
   "id": "6af56153",
   "metadata": {},
   "outputs": [],
   "source": [
    "data_clean[\"Street\"].str.startswith('Rt').sum()"
   ]
  },
  {
   "cell_type": "code",
   "execution_count": null,
   "id": "249a5a0c",
   "metadata": {},
   "outputs": [],
   "source": []
  },
  {
   "cell_type": "markdown",
   "id": "2f472d8e",
   "metadata": {},
   "source": [
    "### Weather Consolidation"
   ]
  },
  {
   "cell_type": "code",
   "execution_count": null,
   "id": "c46af007",
   "metadata": {},
   "outputs": [],
   "source": []
  },
  {
   "cell_type": "markdown",
   "id": "cf12b6b5",
   "metadata": {},
   "source": [
    "### Nature of Incident"
   ]
  },
  {
   "cell_type": "code",
   "execution_count": null,
   "id": "0087c9da",
   "metadata": {},
   "outputs": [],
   "source": [
    "data_clean['Time_of_Impact(hr)'] = (data_clean['End'] - data_clean['Start']).dt.seconds/360"
   ]
  },
  {
   "cell_type": "code",
   "execution_count": null,
   "id": "2c1c83dc",
   "metadata": {},
   "outputs": [],
   "source": [
    "sns.histplot(data_clean['Time_of_Impact(hr)'])"
   ]
  },
  {
   "cell_type": "markdown",
   "id": "4662a124",
   "metadata": {},
   "source": [
    "## Saveout Data"
   ]
  },
  {
   "cell_type": "code",
   "execution_count": null,
   "id": "07d79e29",
   "metadata": {},
   "outputs": [],
   "source": [
    "if _LITE_SWITCH_:\n",
    "    data_clean.to_csv('AccidentData_Sampled_Clean.csv')\n",
    "else:\n",
    "    data_clean.to_csv('AccidentData_Clean.csv')"
   ]
  },
  {
   "cell_type": "markdown",
   "id": "f4fc96c2",
   "metadata": {},
   "source": [
    "# 4-Full EDA"
   ]
  },
  {
   "cell_type": "code",
   "execution_count": null,
   "id": "343aa5fd",
   "metadata": {},
   "outputs": [],
   "source": []
  },
  {
   "cell_type": "markdown",
   "id": "de9ce133",
   "metadata": {},
   "source": [
    "## Nature of Incident Variables"
   ]
  },
  {
   "cell_type": "code",
   "execution_count": null,
   "id": "eb0c6987",
   "metadata": {},
   "outputs": [],
   "source": [
    "data_clean.groupby('Severity')[['Distance(mi)','Time_of_Impact(hr)']].describe().T"
   ]
  },
  {
   "cell_type": "code",
   "execution_count": null,
   "id": "b0c01dd1",
   "metadata": {},
   "outputs": [],
   "source": [
    "if _LITE_SWITCH_:\n",
    "    sns.histplot(data_clean['Severity'])\n",
    "else:\n",
    "    pass"
   ]
  },
  {
   "cell_type": "code",
   "execution_count": null,
   "id": "1e624260",
   "metadata": {},
   "outputs": [],
   "source": [
    "palette = {1:'red',2:'blue',3:'green',4:'black'}\n",
    "sns.pairplot(data_clean[['Severity','Distance(mi)','Time_of_Impact(hr)']],hue='Severity',palette=palette);"
   ]
  },
  {
   "cell_type": "markdown",
   "id": "531183ad",
   "metadata": {},
   "source": [
    "## Feature Variables"
   ]
  },
  {
   "cell_type": "markdown",
   "id": "b1b7261f",
   "metadata": {},
   "source": [
    "### Relationships"
   ]
  },
  {
   "cell_type": "code",
   "execution_count": null,
   "id": "7f01ba67",
   "metadata": {},
   "outputs": [],
   "source": [
    "if _SPARK_:\n",
    "    corr_data = data_clean.select(_NUMERICS_)\n",
    "    col_names = corr_data.columns\n",
    "    features = corr_data.rdd.map(lambda row: row[0:]) \n",
    "    corrs = Statistics.corr(features, method=\"pearson\")\n",
    "else:\n",
    "    corrs = data_clean[_NUMERICS_].corr()\n",
    "    print(corrs)\n",
    "   "
   ]
  },
  {
   "cell_type": "code",
   "execution_count": null,
   "id": "54696f8e",
   "metadata": {},
   "outputs": [],
   "source": [
    "sns.heatmap(corrs,vmin=-1,vmax=1,cmap='coolwarm')"
   ]
  },
  {
   "cell_type": "markdown",
   "id": "b953cd29",
   "metadata": {},
   "source": [
    "### Against Target Variable"
   ]
  },
  {
   "cell_type": "code",
   "execution_count": null,
   "id": "400023b8",
   "metadata": {},
   "outputs": [],
   "source": []
  },
  {
   "cell_type": "markdown",
   "id": "ac0cbcf4",
   "metadata": {},
   "source": [
    "### Infrastructure"
   ]
  },
  {
   "cell_type": "code",
   "execution_count": null,
   "id": "ee0153bc",
   "metadata": {},
   "outputs": [],
   "source": []
  },
  {
   "cell_type": "markdown",
   "id": "36aab92a",
   "metadata": {},
   "source": [
    "### Weather Conditions"
   ]
  },
  {
   "cell_type": "code",
   "execution_count": null,
   "id": "a43adee1",
   "metadata": {},
   "outputs": [],
   "source": [
    "conditions = ['Temperature(F)','Wind_Chill(F)','Humidity(%)',\n",
    "              'Pressure(in)','Visibility(mi)',\n",
    "              'Wind_Speed(mph)','Precipitation(in)'\n",
    "              ]"
   ]
  },
  {
   "cell_type": "code",
   "execution_count": null,
   "id": "bc3ff6e3",
   "metadata": {},
   "outputs": [],
   "source": [
    "X = data_clean[conditions].dropna()\n",
    "X_std = StandardScaler().fit_transform(X)"
   ]
  },
  {
   "cell_type": "code",
   "execution_count": null,
   "id": "42f79db9",
   "metadata": {},
   "outputs": [],
   "source": [
    "pca = PCA()\n",
    "pca.fit(X_std);"
   ]
  },
  {
   "cell_type": "code",
   "execution_count": null,
   "id": "80d0bfc9",
   "metadata": {},
   "outputs": [],
   "source": [
    "cumulative_var = np.cumsum(pca.explained_variance_ratio_)\n",
    "# Create a cumulative variance plot\n",
    "plt.figure(figsize=(10, 6))\n",
    "cum_var_plot = plt.plot(range(1, len(cumulative_var) + 1), cumulative_var, \n",
    "         'o-', linewidth=2, color='green')\n",
    "# Add lines for 90% and 95% thresholds\n",
    "plt.axhline(y=0.9, color='r', linestyle='--', label='90% threshold')\n",
    "plt.axhline(y=0.95, color='g', linestyle='--', label='95% threshold')\n",
    "plt.title('Cumulative Variance Explained')\n",
    "plt.xlabel('Number of Components')\n",
    "plt.ylabel('Cumulative Variance Explained')\n",
    "plt.legend()\n",
    "plt.grid(True)\n",
    "plt.show()"
   ]
  },
  {
   "cell_type": "code",
   "execution_count": null,
   "id": "f69b07c3",
   "metadata": {},
   "outputs": [],
   "source": [
    "target_variance = 0.95\n",
    "n_components_variance = np.argmax(cumulative_var >= target_variance) + 1\n",
    "print(f'We choose to include the first {n_components_variance} components.')"
   ]
  },
  {
   "cell_type": "code",
   "execution_count": null,
   "id": "c3cd2b60",
   "metadata": {},
   "outputs": [],
   "source": [
    "pca = PCA(n_components=n_components_variance)\n",
    "pca.fit(X_std);\n",
    "# Transform the standardized data to get principal components\n",
    "X_pca = pca.transform(X_std)\n",
    "\n",
    "# Create a DataFrame with the principal components\n",
    "pca_df = pd.DataFrame(\n",
    "    data=X_pca,\n",
    "    columns=[f'PC{i+1}' for i in range(X_pca.shape[1])]\n",
    ")\n",
    "pca_df"
   ]
  },
  {
   "cell_type": "code",
   "execution_count": null,
   "id": "1b00e1e2",
   "metadata": {},
   "outputs": [],
   "source": [
    "# Create an easy to view DF of the loadings.\n",
    "loadings = pd.DataFrame(\n",
    "    pca.components_.T,\n",
    "    columns=[f'PC{i+1}' for i in range(n_components_variance)],\n",
    "    index=conditions\n",
    ")\n",
    "loadings"
   ]
  },
  {
   "cell_type": "code",
   "execution_count": null,
   "id": "0e3fe0bc",
   "metadata": {},
   "outputs": [],
   "source": [
    "# Visualize the loadings for the first two PCs\n",
    "plt.figure(figsize=(12, 8))\n",
    "for i, feature in enumerate(conditions):\n",
    "    plt.arrow(0, 0, loadings.iloc[i, 0], loadings.iloc[i, 1], head_width=0.05, head_length=0.05)\n",
    "    plt.text(loadings.iloc[i, 0]*1.1, loadings.iloc[i, 1]*1.1, feature, fontsize=12)\n",
    "\n",
    "# Add a unit circle for reference\n",
    "circle = plt.Circle((0, 0), 1, fill=False, linestyle='--')\n",
    "plt.gca().add_patch(circle)\n",
    "\n",
    "plt.grid(True)\n",
    "plt.axhline(y=0, color='k', linestyle='-', alpha=0.3)\n",
    "plt.axvline(x=0, color='k', linestyle='-', alpha=0.3)\n",
    "plt.xlim(-1.1, 1.1)\n",
    "plt.ylim(-1.1, 1.1)\n",
    "plt.title('PCA Loading Plot (PC1 vs PC2)')\n",
    "plt.xlabel(f'PC1 ({pca.explained_variance_ratio_[0]:.2%} variance explained)')\n",
    "plt.ylabel(f'PC2 ({pca.explained_variance_ratio_[1]:.2%} variance explained)')\n",
    "plt.tight_layout()\n",
    "plt.show()"
   ]
  },
  {
   "cell_type": "code",
   "execution_count": null,
   "id": "ba112a75",
   "metadata": {},
   "outputs": [],
   "source": []
  },
  {
   "cell_type": "code",
   "execution_count": null,
   "id": "ee891e37",
   "metadata": {},
   "outputs": [],
   "source": [
    "X = data_clean[conditions].dropna()\n",
    "X_std = StandardScaler().fit_transform(X)"
   ]
  },
  {
   "cell_type": "code",
   "execution_count": null,
   "id": "a15e8eaf",
   "metadata": {},
   "outputs": [],
   "source": [
    "# Write your code here\n",
    "km = KMeans(random_state=42)\n",
    "visualizer = KElbowVisualizer(km,k=(5,50))\n",
    "visualizer.fit(X_std)\n",
    "visualizer.show();"
   ]
  },
  {
   "cell_type": "code",
   "execution_count": null,
   "id": "6d4ba79f",
   "metadata": {},
   "outputs": [],
   "source": []
  },
  {
   "cell_type": "markdown",
   "id": "c2367ee5",
   "metadata": {},
   "source": [
    "# 5-Statistical Analysis\n",
    "Chi-Squared and ANOVA Tests for various features "
   ]
  },
  {
   "cell_type": "markdown",
   "id": "cf82f8df",
   "metadata": {},
   "source": [
    "## Severity as An Input Feature for Distance and Time of Impact"
   ]
  },
  {
   "cell_type": "code",
   "execution_count": null,
   "id": "e5f04588",
   "metadata": {},
   "outputs": [],
   "source": [
    "model_weather = ols(\"Q('Distance(mi)') ~ C(Severity)\", data=data_clean).fit()\n",
    "anova_table_weather = sm.stats.anova_lm(model_weather, typ=2)\n",
    "print(\"\\nANOVA for Weather Category:\\n\", anova_table_weather)\n",
    "p_weather = anova_table_weather['PR(>F)'].iloc[0]\n",
    "print(f\"P-value for Weather Category: {p_weather}\")"
   ]
  },
  {
   "cell_type": "code",
   "execution_count": null,
   "id": "bacea6f8",
   "metadata": {},
   "outputs": [],
   "source": [
    "model_weather = ols(\"Q('Time_of_Impact(hr)') ~ C(Severity)\", data=data_clean).fit()\n",
    "anova_table_weather = sm.stats.anova_lm(model_weather, typ=2)\n",
    "print(\"\\nANOVA for Weather Category:\\n\", anova_table_weather)\n",
    "p_weather = anova_table_weather['PR(>F)'].iloc[0]\n",
    "print(f\"P-value for Weather Category: {p_weather}\")"
   ]
  },
  {
   "cell_type": "markdown",
   "id": "7e749fc4",
   "metadata": {},
   "source": [
    "## Weather Category\n",
    "* Null Hypothesis (H0): There is no significant difference in accident severity across weather categories.\n",
    "\n",
    "* Alternative Hypothesis (H1): There is a significant difference in accident severity across weather categories."
   ]
  },
  {
   "cell_type": "code",
   "execution_count": null,
   "id": "25b6d3ad",
   "metadata": {},
   "outputs": [],
   "source": [
    "def test_category(feature_name):\n",
    "    # Time of Impact--ANOVA\n",
    "    model_time = ols(f\"Q('Time_of_Impact(hr)') ~ C({feature_name})\", data=data_clean).fit()\n",
    "    anova_table_time = sm.stats.anova_lm(model_weather, typ=2)\n",
    "    # Distance of Impact--ANOVA\n",
    "    model_distance = ols(f\"Q('Distance(mi)') ~ C({feature_name})\", data=data_clean).fit()\n",
    "    anova_table_distance = sm.stats.anova_lm(model_weather, typ=2)\n",
    "    # Severity Distribution--ANOVA\n",
    "    contingency_table = pd.crosstab(data_clean['Weather_Condition'], data_clean['Severity'])\n",
    "    chi_results = chi2_contingency(contingency_table)\n",
    "    return anova_table_time, anova_table_distance, chi_results"
   ]
  },
  {
   "cell_type": "code",
   "execution_count": null,
   "id": "eb05ff8a",
   "metadata": {},
   "outputs": [],
   "source": [
    "model_weather = ols(\"Q('Time_of_Impact(hr)') ~ C(Weather_Condition)\", data=data_clean).fit()\n",
    "anova_table_weather = sm.stats.anova_lm(model_weather, typ=2)\n",
    "print(\"\\nANOVA for Weather Category:\\n\", anova_table_weather)\n",
    "p_weather = anova_table_weather['PR(>F)'].iloc[0]\n",
    "print(f\"P-value for Weather Category: {p_weather}\")"
   ]
  },
  {
   "cell_type": "code",
   "execution_count": null,
   "id": "c62f0798",
   "metadata": {},
   "outputs": [],
   "source": [
    "model_weather = ols(\"Q('Distance(mi)') ~ C(Weather_Condition)\", data=data_clean).fit()\n",
    "anova_table_weather = sm.stats.anova_lm(model_weather, typ=2)\n",
    "print(\"\\nANOVA for Weather Category:\\n\", anova_table_weather)\n",
    "p_weather = anova_table_weather['PR(>F)'].iloc[0]\n",
    "print(f\"P-value for Weather Category: {p_weather}\")"
   ]
  },
  {
   "cell_type": "code",
   "execution_count": null,
   "id": "d2d4be09",
   "metadata": {},
   "outputs": [],
   "source": [
    "# Create a contingency table of two categorical variables\n",
    "contingency_table = pd.crosstab(data_clean['Weather_Condition'], data_clean['Severity'])\n",
    "# Perform the Chi-squared test\n",
    "chi2, p, dof, expected = chi2_contingency(contingency_table)\n",
    "print(f\"Chi-squared statistic: {chi2}\")\n",
    "print(f\"P-value: {p}\")\n",
    "print(f\"Degrees of freedom: {dof}\")\n",
    "#print(\"Expected frequencies table:\")\n",
    "#print(expected)"
   ]
  },
  {
   "cell_type": "markdown",
   "id": "d6b57849",
   "metadata": {},
   "source": [
    "## Advanced Analysis"
   ]
  },
  {
   "cell_type": "code",
   "execution_count": null,
   "id": "0a3668c6",
   "metadata": {},
   "outputs": [],
   "source": []
  },
  {
   "cell_type": "markdown",
   "id": "1c99fd9a",
   "metadata": {},
   "source": [
    "# 6-Insights & Conclusions"
   ]
  },
  {
   "cell_type": "markdown",
   "id": "1ac636b3",
   "metadata": {},
   "source": [
    "## Annual Distinctions\n",
    "\n",
    "Number of Accidents; Distribution of Severities; Length of Impact"
   ]
  },
  {
   "cell_type": "code",
   "execution_count": null,
   "id": "b511d0bd",
   "metadata": {},
   "outputs": [],
   "source": []
  },
  {
   "cell_type": "code",
   "execution_count": null,
   "id": "becea5a2",
   "metadata": {},
   "outputs": [],
   "source": []
  },
  {
   "cell_type": "markdown",
   "id": "22d40560",
   "metadata": {},
   "source": [
    "## Temporal & Spatial Considerations\n",
    "\n",
    "How do accident counts relate to different times of the day and for different region types (urban vs rural)?"
   ]
  },
  {
   "cell_type": "code",
   "execution_count": null,
   "id": "473dea22",
   "metadata": {},
   "outputs": [],
   "source": []
  },
  {
   "cell_type": "markdown",
   "id": "830391ae",
   "metadata": {},
   "source": [
    "## Weather Considerations\n",
    "Does certain weather conditions produce more severe incidents?  "
   ]
  },
  {
   "cell_type": "code",
   "execution_count": null,
   "id": "14909e92",
   "metadata": {},
   "outputs": [],
   "source": []
  },
  {
   "cell_type": "markdown",
   "id": "a00b3086",
   "metadata": {},
   "source": [
    "## Severity Prediction"
   ]
  },
  {
   "cell_type": "code",
   "execution_count": null,
   "id": "e5c7e582",
   "metadata": {},
   "outputs": [],
   "source": []
  },
  {
   "cell_type": "markdown",
   "id": "4161a87b",
   "metadata": {},
   "source": [
    "## Unusual Weather \n",
    "\n",
    "Does driving in unexpected weather--based on area, time of year and/or both--create a higher likelihood of an accident."
   ]
  },
  {
   "cell_type": "code",
   "execution_count": null,
   "id": "0e186ab0",
   "metadata": {},
   "outputs": [],
   "source": []
  },
  {
   "cell_type": "markdown",
   "id": "0d0343fb",
   "metadata": {},
   "source": [
    "## Famous Highways"
   ]
  },
  {
   "cell_type": "code",
   "execution_count": null,
   "id": "b1ac08d2",
   "metadata": {},
   "outputs": [],
   "source": []
  },
  {
   "cell_type": "markdown",
   "id": "40f7b787",
   "metadata": {},
   "source": [
    "## Highway's Near Urban Areas\n",
    "\n",
    "For cross-state"
   ]
  },
  {
   "cell_type": "code",
   "execution_count": null,
   "id": "8d9a29e5",
   "metadata": {},
   "outputs": [],
   "source": []
  },
  {
   "cell_type": "markdown",
   "id": "2e130a9d",
   "metadata": {},
   "source": [
    "## Naturual Language\n",
    "\n",
    "Examination of the description feature."
   ]
  },
  {
   "cell_type": "code",
   "execution_count": null,
   "id": "4cc9eb56",
   "metadata": {},
   "outputs": [],
   "source": []
  },
  {
   "cell_type": "markdown",
   "id": "5c11d1dc",
   "metadata": {},
   "source": [
    "## Safety Infrastructure\n",
    "Does certain road infrastructure projects help reduce the number of incidents?"
   ]
  },
  {
   "cell_type": "code",
   "execution_count": null,
   "id": "c65af31e",
   "metadata": {},
   "outputs": [],
   "source": []
  },
  {
   "cell_type": "markdown",
   "id": "d7adc83b",
   "metadata": {},
   "source": [
    "## New Traffic Pattern\n",
    "\n",
    "Does the existence of a new traffic pattern in the area increase the likelihood of an accident?"
   ]
  },
  {
   "cell_type": "code",
   "execution_count": null,
   "id": "6e122f67",
   "metadata": {},
   "outputs": [],
   "source": []
  },
  {
   "cell_type": "markdown",
   "id": "68316f14",
   "metadata": {},
   "source": [
    "## Recent Accident Indicator\n",
    "\n",
    "Does the presence of one accident, predict another."
   ]
  },
  {
   "cell_type": "code",
   "execution_count": null,
   "id": "f2548875",
   "metadata": {},
   "outputs": [],
   "source": []
  }
 ],
 "metadata": {
  "kernelspec": {
   "display_name": "base",
   "language": "python",
   "name": "python3"
  },
  "language_info": {
   "codemirror_mode": {
    "name": "ipython",
    "version": 3
   },
   "file_extension": ".py",
   "mimetype": "text/x-python",
   "name": "python",
   "nbconvert_exporter": "python",
   "pygments_lexer": "ipython3",
   "version": "3.12.7"
  }
 },
 "nbformat": 4,
 "nbformat_minor": 5
}
