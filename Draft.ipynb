{
 "cells": [
  {
   "cell_type": "markdown",
   "id": "af6e13aa",
   "metadata": {},
   "source": [
    "# Project Introduction"
   ]
  },
  {
   "cell_type": "markdown",
   "id": "f28a6e29",
   "metadata": {},
   "source": [
    "Through this dataset, I have identified the three following patterns:\n",
    "1. IDEA 1 w/ LOCAL LINK\n",
    "2. IDEA 2 w/ LOCAL LINK\n",
    "3. IDEA 3 w/ LOCAL LINK"
   ]
  },
  {
   "cell_type": "markdown",
   "id": "3d8c8b96",
   "metadata": {},
   "source": [
    "## Resources:\n",
    "\n",
    "- __[Kaggle-Full](https://www.kaggle.com/datasets/sobhanmoosavi/us-accidents/data)__\n",
    "\n",
    "- __[Kaggle-Sampled](https://drive.google.com/file/d/1U3u8QYzLjnEaSurtZfSAS_oh9AT2Mn8X/edit)__\n",
    "\n",
    "- __['A Countrywide Traffic Accident Dataset'](https://arxiv.org/pdf/1906.05409)__\n",
    "\n",
    "- __['Accident Risk Prediction based on Heterogenous Sparse Data: New Dataset & Insights](https://arxiv.org/pdf/1909.09638)__"
   ]
  },
  {
   "cell_type": "markdown",
   "id": "62454dd5",
   "metadata": {},
   "source": [
    "# 1-Setup Environment"
   ]
  },
  {
   "cell_type": "markdown",
   "id": "ac1c0833",
   "metadata": {},
   "source": [
    "## Libraries"
   ]
  },
  {
   "cell_type": "code",
   "execution_count": 1,
   "id": "a57cd187",
   "metadata": {},
   "outputs": [],
   "source": [
    "#Utilities\n",
    "import warnings\n",
    "\n",
    "# Data Basics\n",
    "import pandas as pd\n",
    "import numpy as np\n",
    "from pyspark.sql import SparkSession\n",
    "\n",
    "#Visuals\n",
    "import matplotlib.pyplot as plt\n",
    "import seaborn as sns\n",
    "\n",
    "\n",
    "# Statistical Analysis\n",
    "from scipy.stats import zscore\n",
    "\n",
    "# Spatial Tools\n",
    "import geopy.distance\n",
    "\n",
    "# Text Tools\n",
    "import re\n",
    "from wordcloud import WordCloud\n",
    "\n",
    "from nltk.tokenize import word_tokenize, sent_tokenize\n",
    "from nltk.corpus import stopwords, wordnet\n",
    "from nltk.probability import FreqDist\n",
    "from nltk.stem import PorterStemmer, WordNetLemmatizer\n",
    "from nltk.util import ngrams"
   ]
  },
  {
   "cell_type": "markdown",
   "id": "e5e3276e",
   "metadata": {},
   "source": [
    "## Info on New Libraries\n",
    "For improved analysis, these libraries were included, but not covered in the material:\n",
    "\n",
    "-\n",
    "-"
   ]
  },
  {
   "cell_type": "markdown",
   "id": "9f26743b",
   "metadata": {},
   "source": [
    "## Settings"
   ]
  },
  {
   "cell_type": "code",
   "execution_count": 2,
   "id": "f9caeba6",
   "metadata": {},
   "outputs": [],
   "source": [
    "pd.set_option('display.max_columns', None)\n",
    "pd.set_option('display.float_format', lambda x: '%.3f' % x)\n",
    "pd.set_option('display.width', 500)\n",
    "_LITE_SWITCH_ = True"
   ]
  },
  {
   "cell_type": "markdown",
   "id": "fbd5bb42",
   "metadata": {},
   "source": [
    "## Custom Functions"
   ]
  },
  {
   "cell_type": "code",
   "execution_count": 3,
   "id": "190743bc",
   "metadata": {},
   "outputs": [],
   "source": [
    "# For High-level data exploration\n",
    "def count_outliers(df_col,cap=3):\n",
    "    zs = zscore(df_col)\n",
    "    return df_col[zs > cap].shape[0]"
   ]
  },
  {
   "cell_type": "code",
   "execution_count": 4,
   "id": "0f0bc4be",
   "metadata": {},
   "outputs": [],
   "source": [
    "# For Identify Unusual Weather Pattern(s)\n",
    "def unusual_weather(observation):\n",
    "    flag = False\n",
    "    return flag"
   ]
  },
  {
   "cell_type": "code",
   "execution_count": 5,
   "id": "fa2098b9",
   "metadata": {},
   "outputs": [],
   "source": [
    "def dist(pt_0,pt_1):\n",
    "    return geopy.distance.geodesic(pt_0,pt_1)"
   ]
  },
  {
   "cell_type": "code",
   "execution_count": 6,
   "id": "bd9e695f",
   "metadata": {},
   "outputs": [],
   "source": [
    "# For indicating whether two events are close in space and, optionally, time.\n",
    "def proximity_indicator(eventA,eventB,space_band=15,time_band=0):\n",
    "    flag = False\n",
    "    distance = dist(eventA[['longitude','latitude']],eventB[['longitude','latitude']])\n",
    "    if (time_band > 0):\n",
    "        time_lapse = abs(eventA['time']-eventB['time'])\n",
    "        flag = bool((space_band > distance) and (time_band > time_lapse))\n",
    "    else:\n",
    "        flag = bool(space_band > distance)\n",
    "    return flag"
   ]
  },
  {
   "cell_type": "markdown",
   "id": "54ad15e6",
   "metadata": {},
   "source": [
    "## Load Dataset"
   ]
  },
  {
   "cell_type": "code",
   "execution_count": 7,
   "id": "d09a8e27",
   "metadata": {},
   "outputs": [],
   "source": [
    "if _LITE_SWITCH_:\n",
    "    data = pd.read_csv('US_Accidents_March23_sampled_500k.csv')\n",
    "else:\n",
    "    data = pd.read_csv('US_Accidents_March23.csv')"
   ]
  },
  {
   "cell_type": "markdown",
   "id": "dda9e963",
   "metadata": {},
   "source": [
    "# 2-Initial EDA"
   ]
  },
  {
   "cell_type": "markdown",
   "id": "ce0ade77",
   "metadata": {},
   "source": [
    "## Schema"
   ]
  },
  {
   "cell_type": "code",
   "execution_count": 8,
   "id": "f7d47143",
   "metadata": {},
   "outputs": [
    {
     "name": "stdout",
     "output_type": "stream",
     "text": [
      "<class 'pandas.core.frame.DataFrame'>\n",
      "RangeIndex: 500000 entries, 0 to 499999\n",
      "Data columns (total 46 columns):\n",
      " #   Column                 Non-Null Count   Dtype  \n",
      "---  ------                 --------------   -----  \n",
      " 0   ID                     500000 non-null  object \n",
      " 1   Source                 500000 non-null  object \n",
      " 2   Severity               500000 non-null  int64  \n",
      " 3   Start_Time             500000 non-null  object \n",
      " 4   End_Time               500000 non-null  object \n",
      " 5   Start_Lat              500000 non-null  float64\n",
      " 6   Start_Lng              500000 non-null  float64\n",
      " 7   End_Lat                279623 non-null  float64\n",
      " 8   End_Lng                279623 non-null  float64\n",
      " 9   Distance(mi)           500000 non-null  float64\n",
      " 10  Description            499999 non-null  object \n",
      " 11  Street                 499309 non-null  object \n",
      " 12  City                   499981 non-null  object \n",
      " 13  County                 500000 non-null  object \n",
      " 14  State                  500000 non-null  object \n",
      " 15  Zipcode                499884 non-null  object \n",
      " 16  Country                500000 non-null  object \n",
      " 17  Timezone               499493 non-null  object \n",
      " 18  Airport_Code           498554 non-null  object \n",
      " 19  Weather_Timestamp      492326 non-null  object \n",
      " 20  Temperature(F)         489534 non-null  float64\n",
      " 21  Wind_Chill(F)          370983 non-null  float64\n",
      " 22  Humidity(%)            488870 non-null  float64\n",
      " 23  Pressure(in)           491072 non-null  float64\n",
      " 24  Visibility(mi)         488709 non-null  float64\n",
      " 25  Wind_Direction         488803 non-null  object \n",
      " 26  Wind_Speed(mph)        463013 non-null  float64\n",
      " 27  Precipitation(in)      357384 non-null  float64\n",
      " 28  Weather_Condition      488899 non-null  object \n",
      " 29  Amenity                500000 non-null  bool   \n",
      " 30  Bump                   500000 non-null  bool   \n",
      " 31  Crossing               500000 non-null  bool   \n",
      " 32  Give_Way               500000 non-null  bool   \n",
      " 33  Junction               500000 non-null  bool   \n",
      " 34  No_Exit                500000 non-null  bool   \n",
      " 35  Railway                500000 non-null  bool   \n",
      " 36  Roundabout             500000 non-null  bool   \n",
      " 37  Station                500000 non-null  bool   \n",
      " 38  Stop                   500000 non-null  bool   \n",
      " 39  Traffic_Calming        500000 non-null  bool   \n",
      " 40  Traffic_Signal         500000 non-null  bool   \n",
      " 41  Turning_Loop           500000 non-null  bool   \n",
      " 42  Sunrise_Sunset         498517 non-null  object \n",
      " 43  Civil_Twilight         498517 non-null  object \n",
      " 44  Nautical_Twilight      498517 non-null  object \n",
      " 45  Astronomical_Twilight  498517 non-null  object \n",
      "dtypes: bool(13), float64(12), int64(1), object(20)\n",
      "memory usage: 132.1+ MB\n"
     ]
    }
   ],
   "source": [
    "if _LITE_SWITCH_:\n",
    "    data.info()\n",
    "else:\n",
    "    pass"
   ]
  },
  {
   "cell_type": "markdown",
   "id": "b7978e90",
   "metadata": {},
   "source": [
    "Very large dataset with over 7.7 million observations.  That is going to be an issue to consider.  (There is a smaller dataset available on Kaggle, https://drive.google.com/file/d/1U3u8QYzLjnEaSurtZfSAS_oh9AT2Mn8X/edit).\n",
    "\n",
    "Dimensionally much more managable with just 45 features."
   ]
  },
  {
   "cell_type": "code",
   "execution_count": 9,
   "id": "555ca1d5",
   "metadata": {},
   "outputs": [
    {
     "data": {
      "text/html": [
       "<div>\n",
       "<style scoped>\n",
       "    .dataframe tbody tr th:only-of-type {\n",
       "        vertical-align: middle;\n",
       "    }\n",
       "\n",
       "    .dataframe tbody tr th {\n",
       "        vertical-align: top;\n",
       "    }\n",
       "\n",
       "    .dataframe thead th {\n",
       "        text-align: right;\n",
       "    }\n",
       "</style>\n",
       "<table border=\"1\" class=\"dataframe\">\n",
       "  <thead>\n",
       "    <tr style=\"text-align: right;\">\n",
       "      <th></th>\n",
       "      <th>ID</th>\n",
       "      <th>Source</th>\n",
       "      <th>Severity</th>\n",
       "      <th>Start_Time</th>\n",
       "      <th>End_Time</th>\n",
       "      <th>Start_Lat</th>\n",
       "      <th>Start_Lng</th>\n",
       "      <th>End_Lat</th>\n",
       "      <th>End_Lng</th>\n",
       "      <th>Distance(mi)</th>\n",
       "      <th>Description</th>\n",
       "      <th>Street</th>\n",
       "      <th>City</th>\n",
       "      <th>County</th>\n",
       "      <th>State</th>\n",
       "      <th>Zipcode</th>\n",
       "      <th>Country</th>\n",
       "      <th>Timezone</th>\n",
       "      <th>Airport_Code</th>\n",
       "      <th>Weather_Timestamp</th>\n",
       "      <th>Temperature(F)</th>\n",
       "      <th>Wind_Chill(F)</th>\n",
       "      <th>Humidity(%)</th>\n",
       "      <th>Pressure(in)</th>\n",
       "      <th>Visibility(mi)</th>\n",
       "      <th>Wind_Direction</th>\n",
       "      <th>Wind_Speed(mph)</th>\n",
       "      <th>Precipitation(in)</th>\n",
       "      <th>Weather_Condition</th>\n",
       "      <th>Amenity</th>\n",
       "      <th>Bump</th>\n",
       "      <th>Crossing</th>\n",
       "      <th>Give_Way</th>\n",
       "      <th>Junction</th>\n",
       "      <th>No_Exit</th>\n",
       "      <th>Railway</th>\n",
       "      <th>Roundabout</th>\n",
       "      <th>Station</th>\n",
       "      <th>Stop</th>\n",
       "      <th>Traffic_Calming</th>\n",
       "      <th>Traffic_Signal</th>\n",
       "      <th>Turning_Loop</th>\n",
       "      <th>Sunrise_Sunset</th>\n",
       "      <th>Civil_Twilight</th>\n",
       "      <th>Nautical_Twilight</th>\n",
       "      <th>Astronomical_Twilight</th>\n",
       "    </tr>\n",
       "  </thead>\n",
       "  <tbody>\n",
       "    <tr>\n",
       "      <th>0</th>\n",
       "      <td>A-2047758</td>\n",
       "      <td>Source2</td>\n",
       "      <td>2</td>\n",
       "      <td>2019-06-12 10:10:56</td>\n",
       "      <td>2019-06-12 10:55:58</td>\n",
       "      <td>30.641</td>\n",
       "      <td>-91.153</td>\n",
       "      <td>NaN</td>\n",
       "      <td>NaN</td>\n",
       "      <td>0.000</td>\n",
       "      <td>Accident on LA-19 Baker-Zachary Hwy at Lower Z...</td>\n",
       "      <td>Highway 19</td>\n",
       "      <td>Zachary</td>\n",
       "      <td>East Baton Rouge</td>\n",
       "      <td>LA</td>\n",
       "      <td>70791-4610</td>\n",
       "      <td>US</td>\n",
       "      <td>US/Central</td>\n",
       "      <td>KBTR</td>\n",
       "      <td>2019-06-12 09:53:00</td>\n",
       "      <td>77.000</td>\n",
       "      <td>77.000</td>\n",
       "      <td>62.000</td>\n",
       "      <td>29.920</td>\n",
       "      <td>10.000</td>\n",
       "      <td>NW</td>\n",
       "      <td>5.000</td>\n",
       "      <td>0.000</td>\n",
       "      <td>Fair</td>\n",
       "      <td>False</td>\n",
       "      <td>False</td>\n",
       "      <td>False</td>\n",
       "      <td>False</td>\n",
       "      <td>False</td>\n",
       "      <td>False</td>\n",
       "      <td>False</td>\n",
       "      <td>False</td>\n",
       "      <td>False</td>\n",
       "      <td>False</td>\n",
       "      <td>False</td>\n",
       "      <td>True</td>\n",
       "      <td>False</td>\n",
       "      <td>Day</td>\n",
       "      <td>Day</td>\n",
       "      <td>Day</td>\n",
       "      <td>Day</td>\n",
       "    </tr>\n",
       "    <tr>\n",
       "      <th>1</th>\n",
       "      <td>A-4694324</td>\n",
       "      <td>Source1</td>\n",
       "      <td>2</td>\n",
       "      <td>2022-12-03 23:37:14.000000000</td>\n",
       "      <td>2022-12-04 01:56:53.000000000</td>\n",
       "      <td>38.991</td>\n",
       "      <td>-77.399</td>\n",
       "      <td>38.990</td>\n",
       "      <td>-77.398</td>\n",
       "      <td>0.056</td>\n",
       "      <td>Incident on FOREST RIDGE DR near PEPPERIDGE PL...</td>\n",
       "      <td>Forest Ridge Dr</td>\n",
       "      <td>Sterling</td>\n",
       "      <td>Loudoun</td>\n",
       "      <td>VA</td>\n",
       "      <td>20164-2813</td>\n",
       "      <td>US</td>\n",
       "      <td>US/Eastern</td>\n",
       "      <td>KIAD</td>\n",
       "      <td>2022-12-03 23:52:00</td>\n",
       "      <td>45.000</td>\n",
       "      <td>43.000</td>\n",
       "      <td>48.000</td>\n",
       "      <td>29.910</td>\n",
       "      <td>10.000</td>\n",
       "      <td>W</td>\n",
       "      <td>5.000</td>\n",
       "      <td>0.000</td>\n",
       "      <td>Fair</td>\n",
       "      <td>False</td>\n",
       "      <td>False</td>\n",
       "      <td>False</td>\n",
       "      <td>False</td>\n",
       "      <td>False</td>\n",
       "      <td>False</td>\n",
       "      <td>False</td>\n",
       "      <td>False</td>\n",
       "      <td>False</td>\n",
       "      <td>False</td>\n",
       "      <td>False</td>\n",
       "      <td>False</td>\n",
       "      <td>False</td>\n",
       "      <td>Night</td>\n",
       "      <td>Night</td>\n",
       "      <td>Night</td>\n",
       "      <td>Night</td>\n",
       "    </tr>\n",
       "    <tr>\n",
       "      <th>2</th>\n",
       "      <td>A-5006183</td>\n",
       "      <td>Source1</td>\n",
       "      <td>2</td>\n",
       "      <td>2022-08-20 13:13:00.000000000</td>\n",
       "      <td>2022-08-20 15:22:45.000000000</td>\n",
       "      <td>34.661</td>\n",
       "      <td>-120.493</td>\n",
       "      <td>34.661</td>\n",
       "      <td>-120.492</td>\n",
       "      <td>0.022</td>\n",
       "      <td>Accident on W Central Ave from Floradale Ave t...</td>\n",
       "      <td>Floradale Ave</td>\n",
       "      <td>Lompoc</td>\n",
       "      <td>Santa Barbara</td>\n",
       "      <td>CA</td>\n",
       "      <td>93436</td>\n",
       "      <td>US</td>\n",
       "      <td>US/Pacific</td>\n",
       "      <td>KLPC</td>\n",
       "      <td>2022-08-20 12:56:00</td>\n",
       "      <td>68.000</td>\n",
       "      <td>68.000</td>\n",
       "      <td>73.000</td>\n",
       "      <td>29.790</td>\n",
       "      <td>10.000</td>\n",
       "      <td>W</td>\n",
       "      <td>13.000</td>\n",
       "      <td>0.000</td>\n",
       "      <td>Fair</td>\n",
       "      <td>False</td>\n",
       "      <td>False</td>\n",
       "      <td>False</td>\n",
       "      <td>False</td>\n",
       "      <td>False</td>\n",
       "      <td>False</td>\n",
       "      <td>False</td>\n",
       "      <td>False</td>\n",
       "      <td>False</td>\n",
       "      <td>False</td>\n",
       "      <td>False</td>\n",
       "      <td>True</td>\n",
       "      <td>False</td>\n",
       "      <td>Day</td>\n",
       "      <td>Day</td>\n",
       "      <td>Day</td>\n",
       "      <td>Day</td>\n",
       "    </tr>\n",
       "    <tr>\n",
       "      <th>3</th>\n",
       "      <td>A-4237356</td>\n",
       "      <td>Source1</td>\n",
       "      <td>2</td>\n",
       "      <td>2022-02-21 17:43:04</td>\n",
       "      <td>2022-02-21 19:43:23</td>\n",
       "      <td>43.681</td>\n",
       "      <td>-92.993</td>\n",
       "      <td>43.681</td>\n",
       "      <td>-92.972</td>\n",
       "      <td>1.054</td>\n",
       "      <td>Incident on I-90 EB near REST AREA Drive with ...</td>\n",
       "      <td>14th St NW</td>\n",
       "      <td>Austin</td>\n",
       "      <td>Mower</td>\n",
       "      <td>MN</td>\n",
       "      <td>55912</td>\n",
       "      <td>US</td>\n",
       "      <td>US/Central</td>\n",
       "      <td>KAUM</td>\n",
       "      <td>2022-02-21 17:35:00</td>\n",
       "      <td>27.000</td>\n",
       "      <td>15.000</td>\n",
       "      <td>86.000</td>\n",
       "      <td>28.490</td>\n",
       "      <td>10.000</td>\n",
       "      <td>ENE</td>\n",
       "      <td>15.000</td>\n",
       "      <td>0.000</td>\n",
       "      <td>Wintry Mix</td>\n",
       "      <td>False</td>\n",
       "      <td>False</td>\n",
       "      <td>False</td>\n",
       "      <td>False</td>\n",
       "      <td>False</td>\n",
       "      <td>False</td>\n",
       "      <td>False</td>\n",
       "      <td>False</td>\n",
       "      <td>False</td>\n",
       "      <td>False</td>\n",
       "      <td>False</td>\n",
       "      <td>False</td>\n",
       "      <td>False</td>\n",
       "      <td>Day</td>\n",
       "      <td>Day</td>\n",
       "      <td>Day</td>\n",
       "      <td>Day</td>\n",
       "    </tr>\n",
       "    <tr>\n",
       "      <th>4</th>\n",
       "      <td>A-6690583</td>\n",
       "      <td>Source1</td>\n",
       "      <td>2</td>\n",
       "      <td>2020-12-04 01:46:00</td>\n",
       "      <td>2020-12-04 04:13:09</td>\n",
       "      <td>35.395</td>\n",
       "      <td>-118.985</td>\n",
       "      <td>35.395</td>\n",
       "      <td>-118.986</td>\n",
       "      <td>0.046</td>\n",
       "      <td>RP ADV THEY LOCATED SUSP VEH OF 20002 - 726 CR...</td>\n",
       "      <td>River Blvd</td>\n",
       "      <td>Bakersfield</td>\n",
       "      <td>Kern</td>\n",
       "      <td>CA</td>\n",
       "      <td>93305-2649</td>\n",
       "      <td>US</td>\n",
       "      <td>US/Pacific</td>\n",
       "      <td>KBFL</td>\n",
       "      <td>2020-12-04 01:54:00</td>\n",
       "      <td>42.000</td>\n",
       "      <td>42.000</td>\n",
       "      <td>34.000</td>\n",
       "      <td>29.770</td>\n",
       "      <td>10.000</td>\n",
       "      <td>CALM</td>\n",
       "      <td>0.000</td>\n",
       "      <td>0.000</td>\n",
       "      <td>Fair</td>\n",
       "      <td>False</td>\n",
       "      <td>False</td>\n",
       "      <td>False</td>\n",
       "      <td>False</td>\n",
       "      <td>False</td>\n",
       "      <td>False</td>\n",
       "      <td>False</td>\n",
       "      <td>False</td>\n",
       "      <td>False</td>\n",
       "      <td>False</td>\n",
       "      <td>False</td>\n",
       "      <td>False</td>\n",
       "      <td>False</td>\n",
       "      <td>Night</td>\n",
       "      <td>Night</td>\n",
       "      <td>Night</td>\n",
       "      <td>Night</td>\n",
       "    </tr>\n",
       "  </tbody>\n",
       "</table>\n",
       "</div>"
      ],
      "text/plain": [
       "          ID   Source  Severity                     Start_Time                       End_Time  Start_Lat  Start_Lng  End_Lat  End_Lng  Distance(mi)                                        Description            Street         City            County State     Zipcode Country    Timezone Airport_Code    Weather_Timestamp  Temperature(F)  Wind_Chill(F)  Humidity(%)  Pressure(in)  Visibility(mi) Wind_Direction  Wind_Speed(mph)  Precipitation(in) Weather_Condition  Amenity   Bump  Crossing  \\\n",
       "0  A-2047758  Source2         2            2019-06-12 10:10:56            2019-06-12 10:55:58     30.641    -91.153      NaN      NaN         0.000  Accident on LA-19 Baker-Zachary Hwy at Lower Z...        Highway 19      Zachary  East Baton Rouge    LA  70791-4610      US  US/Central         KBTR  2019-06-12 09:53:00          77.000         77.000       62.000        29.920          10.000             NW            5.000              0.000              Fair    False  False     False   \n",
       "1  A-4694324  Source1         2  2022-12-03 23:37:14.000000000  2022-12-04 01:56:53.000000000     38.991    -77.399   38.990  -77.398         0.056  Incident on FOREST RIDGE DR near PEPPERIDGE PL...   Forest Ridge Dr     Sterling           Loudoun    VA  20164-2813      US  US/Eastern         KIAD  2022-12-03 23:52:00          45.000         43.000       48.000        29.910          10.000              W            5.000              0.000              Fair    False  False     False   \n",
       "2  A-5006183  Source1         2  2022-08-20 13:13:00.000000000  2022-08-20 15:22:45.000000000     34.661   -120.493   34.661 -120.492         0.022  Accident on W Central Ave from Floradale Ave t...     Floradale Ave       Lompoc     Santa Barbara    CA       93436      US  US/Pacific         KLPC  2022-08-20 12:56:00          68.000         68.000       73.000        29.790          10.000              W           13.000              0.000              Fair    False  False     False   \n",
       "3  A-4237356  Source1         2            2022-02-21 17:43:04            2022-02-21 19:43:23     43.681    -92.993   43.681  -92.972         1.054  Incident on I-90 EB near REST AREA Drive with ...        14th St NW       Austin             Mower    MN       55912      US  US/Central         KAUM  2022-02-21 17:35:00          27.000         15.000       86.000        28.490          10.000            ENE           15.000              0.000        Wintry Mix    False  False     False   \n",
       "4  A-6690583  Source1         2            2020-12-04 01:46:00            2020-12-04 04:13:09     35.395   -118.985   35.395 -118.986         0.046  RP ADV THEY LOCATED SUSP VEH OF 20002 - 726 CR...        River Blvd  Bakersfield              Kern    CA  93305-2649      US  US/Pacific         KBFL  2020-12-04 01:54:00          42.000         42.000       34.000        29.770          10.000           CALM            0.000              0.000              Fair    False  False     False   \n",
       "\n",
       "   Give_Way  Junction  No_Exit  Railway  Roundabout  Station   Stop  Traffic_Calming  Traffic_Signal  Turning_Loop Sunrise_Sunset Civil_Twilight Nautical_Twilight Astronomical_Twilight  \n",
       "0     False     False    False    False       False    False  False            False            True         False            Day            Day               Day                   Day  \n",
       "1     False     False    False    False       False    False  False            False           False         False          Night          Night             Night                 Night  \n",
       "2     False     False    False    False       False    False  False            False            True         False            Day            Day               Day                   Day  \n",
       "3     False     False    False    False       False    False  False            False           False         False            Day            Day               Day                   Day  \n",
       "4     False     False    False    False       False    False  False            False           False         False          Night          Night             Night                 Night  "
      ]
     },
     "execution_count": 9,
     "metadata": {},
     "output_type": "execute_result"
    }
   ],
   "source": [
    "data.head()"
   ]
  },
  {
   "cell_type": "markdown",
   "id": "23f78f1c",
   "metadata": {},
   "source": [
    "Notes on Features:\n",
    "- 'Severity' would appear to be the primary variable of interest; 'Description' might be interesting to experiment with.  \n",
    "- 'Description' feature might be an interesting avenue to explore.  \n",
    "- A number of location features\n",
    "    * 'Start_Lat'/'Start_Lng' are easy enough to interpret but not sure what is meant by 'End_Lat' and 'End_Lng'\n",
    "    * Similar question for 'Distance(mi)'\n",
    "    * Street and City might not be useful features since they are not informative without further context.  \n",
    "- Identifiers in ID and Source\n",
    "- We have three time features ('Weather_Timestamp', 'Start_Time' and 'End_Time').\n",
    "    * They need to be [converted to datetimes](#datetimes).  Right now they are just strings.\n",
    "    * There may be an issue with inconsistent formatting.\n",
    "    * It may be interesting to use these values to engineer some features like time of day, season, weekday/weekend, etc.\n",
    "    * However, the information contained in 'Weather_Timestamp' is unclear.\n",
    "- There are 9 (not including 'Weather_Timestamp') features on the weather.\n",
    "    * Visability is probably the most relevant of these but 'Weather_Condition' might be a fine substitute/summary.\n",
    "- Next are 10 binary features which seem to provide some information about the road infrastructure at the location of the accident.  \n"
   ]
  },
  {
   "cell_type": "code",
   "execution_count": null,
   "id": "5e387875",
   "metadata": {},
   "outputs": [],
   "source": [
    "_TARGET_ = ['Severity']\n",
    "_NUMERICS_ = ['Distance(mi)','Temperature(F)',\n",
    "              'Wind_Chill(F)','Humidity(%)','Pressure(in)',\n",
    "              'Visibility(mi)','Wind_Speed(mph)','Precipitation(in)']"
   ]
  },
  {
   "cell_type": "markdown",
   "id": "964276f4",
   "metadata": {},
   "source": [
    "## Missing Values"
   ]
  },
  {
   "cell_type": "code",
   "execution_count": 14,
   "id": "97f0f749",
   "metadata": {},
   "outputs": [
    {
     "data": {
      "text/plain": [
       "End_Lat                  3402762\n",
       "End_Lng                  3402762\n",
       "Precipitation(in)        2203586\n",
       "Wind_Chill(F)            1999019\n",
       "Wind_Speed(mph)           571233\n",
       "Visibility(mi)            177098\n",
       "Wind_Direction            175206\n",
       "Humidity(%)               174144\n",
       "Weather_Condition         173459\n",
       "Temperature(F)            163853\n",
       "Pressure(in)              140679\n",
       "Weather_Timestamp         120228\n",
       "Nautical_Twilight          23246\n",
       "Civil_Twilight             23246\n",
       "Sunrise_Sunset             23246\n",
       "Astronomical_Twilight      23246\n",
       "Airport_Code               22635\n",
       "Street                     10869\n",
       "Timezone                    7808\n",
       "Zipcode                     1915\n",
       "City                         253\n",
       "Description                    5\n",
       "Traffic_Signal                 0\n",
       "Roundabout                     0\n",
       "Station                        0\n",
       "Stop                           0\n",
       "Traffic_Calming                0\n",
       "Country                        0\n",
       "Turning_Loop                   0\n",
       "No_Exit                        0\n",
       "End_Time                       0\n",
       "Start_Time                     0\n",
       "Severity                       0\n",
       "Railway                        0\n",
       "Crossing                       0\n",
       "Junction                       0\n",
       "Give_Way                       0\n",
       "Bump                           0\n",
       "Amenity                        0\n",
       "Start_Lat                      0\n",
       "Start_Lng                      0\n",
       "Distance(mi)                   0\n",
       "Source                         0\n",
       "County                         0\n",
       "State                          0\n",
       "ID                             0\n",
       "dtype: int64"
      ]
     },
     "execution_count": 14,
     "metadata": {},
     "output_type": "execute_result"
    }
   ],
   "source": [
    "data.isna().sum().sort_values(ascending=False)"
   ]
  },
  {
   "cell_type": "markdown",
   "id": "35c92170",
   "metadata": {},
   "source": [
    "There is a lot of missing data. \n",
    "\n",
    "- Most notably, the 'End_Lat'/'End_Lng'.  Will have to confirm but it would appear that observations missing one are also missing the other.  \n",
    "- There aren't any missing values for 'Severity' as well as basic location data (gps + state/county).\n",
    "- Only five observations are missing 'Description' which may prove convenient.\n"
   ]
  },
  {
   "cell_type": "markdown",
   "id": "7db39547",
   "metadata": {},
   "source": [
    "## Duplicates\n",
    "\n",
    "There are no duplicates to deal with:"
   ]
  },
  {
   "cell_type": "code",
   "execution_count": 12,
   "id": "3a0914db",
   "metadata": {},
   "outputs": [
    {
     "data": {
      "text/plain": [
       "0"
      ]
     },
     "execution_count": 12,
     "metadata": {},
     "output_type": "execute_result"
    }
   ],
   "source": [
    "data.duplicated().sum()"
   ]
  },
  {
   "cell_type": "markdown",
   "id": "f5f9347b",
   "metadata": {},
   "source": [
    "## Outliers"
   ]
  },
  {
   "cell_type": "code",
   "execution_count": 16,
   "id": "28788e99",
   "metadata": {},
   "outputs": [
    {
     "name": "stdout",
     "output_type": "stream",
     "text": [
      "                      3     5    10   15   20\n",
      "Severity           13064     0    0    0    0\n",
      "Distance(mi)        7079  2660  632  248  114\n",
      "Temperature(F)         0     0    0    0    0\n",
      "Wind_Chill(F)          0     0    0    0    0\n",
      "Humidity(%)            0     0    0    0    0\n",
      "Pressure(in)           0     0    0    0    0\n",
      "Visibility(mi)         0     0    0    0    0\n",
      "Wind_Speed(mph)        0     0    0    0    0\n",
      "Precipitation(in)      0     0    0    0    0\n"
     ]
    }
   ],
   "source": [
    "if _LITE_SWITCH_:\n",
    "    print(pd.DataFrame({c:{z:count_outliers(data[c],z) for z in [3,5,10,15,20]} for c in _NUMERICS_}).T)"
   ]
  },
  {
   "cell_type": "markdown",
   "id": "cbb844d4",
   "metadata": {},
   "source": [
    "Dealing with 'Distance' outliers requires additional research about the feature itself."
   ]
  },
  {
   "cell_type": "markdown",
   "id": "66250376",
   "metadata": {},
   "source": [
    "## Severity"
   ]
  },
  {
   "cell_type": "code",
   "execution_count": 17,
   "id": "d8567d79",
   "metadata": {},
   "outputs": [
    {
     "data": {
      "text/plain": [
       "Severity\n",
       "2    398142\n",
       "3     84520\n",
       "4     13064\n",
       "1      4274\n",
       "Name: count, dtype: int64"
      ]
     },
     "execution_count": 17,
     "metadata": {},
     "output_type": "execute_result"
    }
   ],
   "source": [
    "data['Severity'].value_counts()"
   ]
  },
  {
   "cell_type": "markdown",
   "id": "7249add0",
   "metadata": {},
   "source": [
    "# 3-Data Processing"
   ]
  },
  {
   "cell_type": "code",
   "execution_count": 20,
   "id": "b714ee29",
   "metadata": {},
   "outputs": [],
   "source": [
    "data_clean = pd.DataFrame()"
   ]
  },
  {
   "cell_type": "code",
   "execution_count": 76,
   "id": "53bb4646",
   "metadata": {},
   "outputs": [],
   "source": [
    "data_clean[_NUMERICS_] = data[_NUMERICS_]"
   ]
  },
  {
   "cell_type": "markdown",
   "id": "b151a623",
   "metadata": {},
   "source": [
    "<a id='datetimes'> Converting dates </a>"
   ]
  },
  {
   "cell_type": "code",
   "execution_count": null,
   "id": "2ccd8255",
   "metadata": {},
   "outputs": [],
   "source": [
    "if _LITE_SWITCH_:\n",
    "    data_clean['Start'] = pd.to_datetime(data['Start_Time'],format='mixed')\n",
    "    data_clean['End'] = pd.to_datetime(data['End_Time'],format='mixed')\n",
    "else:\n",
    "    pass"
   ]
  },
  {
   "cell_type": "markdown",
   "id": "c64eda3a",
   "metadata": {},
   "source": [
    "## Engineer Features"
   ]
  },
  {
   "cell_type": "code",
   "execution_count": 73,
   "id": "fd6a8595",
   "metadata": {},
   "outputs": [],
   "source": [
    "timedelta_hrs = round((data_clean['End'] - data_clean['Start']).dt.seconds / 360)"
   ]
  },
  {
   "cell_type": "code",
   "execution_count": null,
   "id": "a177749a",
   "metadata": {},
   "outputs": [
    {
     "data": {
      "text/plain": [
       "<Axes: ylabel='Count'>"
      ]
     },
     "execution_count": 74,
     "metadata": {},
     "output_type": "execute_result"
    },
    {
     "data": {
      "image/png": "[encoded data removed]",
      "text/plain": [
       "<Figure size 640x480 with 1 Axes>"
      ]
     },
     "metadata": {},
     "output_type": "display_data"
    }
   ],
   "source": [
    "sns.histplot(timedelta_hrs);"
   ]
  },
  {
   "cell_type": "markdown",
   "id": "bdb6f5b6",
   "metadata": {},
   "source": [
    "### Partition the time data"
   ]
  },
  {
   "cell_type": "code",
   "execution_count": 41,
   "id": "2a55419d",
   "metadata": {},
   "outputs": [],
   "source": [
    "if _LITE_SWITCH_:\n",
    "    data_clean['Month'] = data_clean['Start'].dt.month\n",
    "    data_clean['Year'] = data_clean['Start'].dt.year\n",
    "    data_clean['Day'] = data_clean['Start'].dt.day\n",
    "    data_clean['DayofWeek'] = data_clean['Start'].dt.day_of_week\n",
    "    data_clean['Quarter'] = data_clean['Start'].dt.quarter\n",
    "    data_clean['Hour'] = data_clean['Start'].dt.hour\n",
    "else:\n",
    "    pass"
   ]
  },
  {
   "cell_type": "code",
   "execution_count": 40,
   "id": "a74c8a6b",
   "metadata": {},
   "outputs": [
    {
     "data": {
      "text/plain": [
       "Year\n",
       "2016   0.053\n",
       "2017   0.093\n",
       "2018   0.115\n",
       "2019   0.124\n",
       "2020   0.152\n",
       "2021   0.203\n",
       "2022   0.227\n",
       "2023   0.032\n",
       "Name: proportion, dtype: float64"
      ]
     },
     "execution_count": 40,
     "metadata": {},
     "output_type": "execute_result"
    }
   ],
   "source": [
    "data_clean['Year'].value_counts(normalize=True).sort_index()"
   ]
  },
  {
   "cell_type": "code",
   "execution_count": 39,
   "id": "e19cd05e",
   "metadata": {},
   "outputs": [
    {
     "data": {
      "text/plain": [
       "Month\n",
       "1    0.097\n",
       "2    0.086\n",
       "3    0.071\n",
       "4    0.077\n",
       "5    0.072\n",
       "6    0.073\n",
       "7    0.067\n",
       "8    0.077\n",
       "9    0.085\n",
       "10   0.088\n",
       "11   0.098\n",
       "12   0.109\n",
       "Name: proportion, dtype: float64"
      ]
     },
     "execution_count": 39,
     "metadata": {},
     "output_type": "execute_result"
    }
   ],
   "source": [
    "data_clean['Month'].value_counts(normalize=True).sort_index()"
   ]
  },
  {
   "cell_type": "code",
   "execution_count": null,
   "id": "8d8c0dd1",
   "metadata": {},
   "outputs": [
    {
     "data": {
      "text/plain": [
       "DayofWeek\n",
       "0   0.157\n",
       "1   0.166\n",
       "2   0.170\n",
       "3   0.170\n",
       "4   0.178\n",
       "5   0.087\n",
       "6   0.072\n",
       "Name: proportion, dtype: float64"
      ]
     },
     "execution_count": 36,
     "metadata": {},
     "output_type": "execute_result"
    }
   ],
   "source": [
    "data_clean['Quarter'].value_counts(normalize=True)"
   ]
  },
  {
   "cell_type": "code",
   "execution_count": 42,
   "id": "c655ce84",
   "metadata": {},
   "outputs": [
    {
     "data": {
      "text/plain": [
       "DayofWeek\n",
       "0   0.157\n",
       "1   0.166\n",
       "2   0.170\n",
       "3   0.170\n",
       "4   0.178\n",
       "5   0.087\n",
       "6   0.072\n",
       "Name: proportion, dtype: float64"
      ]
     },
     "execution_count": 42,
     "metadata": {},
     "output_type": "execute_result"
    }
   ],
   "source": [
    "data_clean['DayofWeek'].value_counts(normalize=True).sort_index()"
   ]
  },
  {
   "cell_type": "code",
   "execution_count": 43,
   "id": "eba6f1c5",
   "metadata": {},
   "outputs": [
    {
     "data": {
      "text/plain": [
       "Hour\n",
       "0    0.015\n",
       "1    0.013\n",
       "2    0.012\n",
       "3    0.011\n",
       "4    0.021\n",
       "5    0.030\n",
       "6    0.052\n",
       "7    0.076\n",
       "8    0.075\n",
       "9    0.047\n",
       "10   0.045\n",
       "11   0.046\n",
       "12   0.046\n",
       "13   0.051\n",
       "14   0.058\n",
       "15   0.068\n",
       "16   0.075\n",
       "17   0.074\n",
       "18   0.056\n",
       "19   0.038\n",
       "20   0.029\n",
       "21   0.025\n",
       "22   0.022\n",
       "23   0.016\n",
       "Name: proportion, dtype: float64"
      ]
     },
     "execution_count": 43,
     "metadata": {},
     "output_type": "execute_result"
    }
   ],
   "source": [
    "data_clean['Hour'].value_counts(normalize=True).sort_index()"
   ]
  },
  {
   "cell_type": "markdown",
   "id": "a5b58ef2",
   "metadata": {},
   "source": [
    "Spatial-Based Data"
   ]
  },
  {
   "cell_type": "code",
   "execution_count": null,
   "id": "50450ea4",
   "metadata": {},
   "outputs": [],
   "source": []
  },
  {
   "cell_type": "markdown",
   "id": "f4fc96c2",
   "metadata": {},
   "source": [
    "# 4-Full EDA"
   ]
  },
  {
   "cell_type": "code",
   "execution_count": null,
   "id": "343aa5fd",
   "metadata": {},
   "outputs": [],
   "source": []
  },
  {
   "cell_type": "markdown",
   "id": "de9ce133",
   "metadata": {},
   "source": [
    "## Target Variable"
   ]
  },
  {
   "cell_type": "code",
   "execution_count": null,
   "id": "e1302982",
   "metadata": {},
   "outputs": [
    {
     "name": "stdout",
     "output_type": "stream",
     "text": [
      "                               Start                            End      Month       Year        Day  Day of Week    Quarter  DayofWeek       Hour\n",
      "count                         500000                         500000 500000.000 500000.000 500000.000   500000.000 500000.000 500000.000 500000.000\n",
      "mean   2020-06-03 12:09:29.692724480  2020-06-03 19:11:26.484368384      6.703   2019.907     15.742        2.595      2.564      2.595     12.321\n",
      "min              2016-01-14 20:18:33            2016-02-08 06:37:08      1.000   2016.000      1.000        0.000      1.000      0.000      0.000\n",
      "25%    2018-11-23 06:47:16.249999872  2018-11-23 07:50:31.750000128      3.000   2018.000      8.000        1.000      1.000      1.000      8.000\n",
      "50%              2020-11-11 17:30:39     2020-11-11 22:44:21.500000      7.000   2020.000     16.000        3.000      3.000      3.000     13.000\n",
      "75%              2022-01-18 16:04:00  2022-01-19 08:01:51.750000128     10.000   2022.000     23.000        4.000      4.000      4.000     17.000\n",
      "max              2023-03-31 22:46:13            2023-03-31 23:58:00     12.000   2023.000     31.000        6.000      4.000      6.000     23.000\n",
      "std                              NaN                            NaN      3.640      1.914      8.674        1.805      1.159      1.805      5.471\n"
     ]
    }
   ],
   "source": [
    "if _LITE_SWITCH_:\n",
    "    print(data_clean[_NUMERICS_+_TARGET_].describe())\n",
    "else:\n",
    "    df.select(num_cols).describe().show()"
   ]
  },
  {
   "cell_type": "code",
   "execution_count": null,
   "id": "eb0c6987",
   "metadata": {},
   "outputs": [],
   "source": []
  },
  {
   "cell_type": "code",
   "execution_count": 44,
   "id": "b0c01dd1",
   "metadata": {},
   "outputs": [
    {
     "ename": "KeyError",
     "evalue": "'Severity'",
     "output_type": "error",
     "traceback": [
      "\u001b[0;31m---------------------------------------------------------------------------\u001b[0m",
      "\u001b[0;31mKeyError\u001b[0m                                  Traceback (most recent call last)",
      "File \u001b[0;32m/opt/anaconda3/lib/python3.12/site-packages/pandas/core/indexes/base.py:3805\u001b[0m, in \u001b[0;36mIndex.get_loc\u001b[0;34m(self, key)\u001b[0m\n\u001b[1;32m   3804\u001b[0m \u001b[38;5;28;01mtry\u001b[39;00m:\n\u001b[0;32m-> 3805\u001b[0m     \u001b[38;5;28;01mreturn\u001b[39;00m \u001b[38;5;28mself\u001b[39m\u001b[38;5;241m.\u001b[39m_engine\u001b[38;5;241m.\u001b[39mget_loc(casted_key)\n\u001b[1;32m   3806\u001b[0m \u001b[38;5;28;01mexcept\u001b[39;00m \u001b[38;5;167;01mKeyError\u001b[39;00m \u001b[38;5;28;01mas\u001b[39;00m err:\n",
      "File \u001b[0;32mindex.pyx:167\u001b[0m, in \u001b[0;36mpandas._libs.index.IndexEngine.get_loc\u001b[0;34m()\u001b[0m\n",
      "File \u001b[0;32mindex.pyx:196\u001b[0m, in \u001b[0;36mpandas._libs.index.IndexEngine.get_loc\u001b[0;34m()\u001b[0m\n",
      "File \u001b[0;32mpandas/_libs/hashtable_class_helper.pxi:7081\u001b[0m, in \u001b[0;36mpandas._libs.hashtable.PyObjectHashTable.get_item\u001b[0;34m()\u001b[0m\n",
      "File \u001b[0;32mpandas/_libs/hashtable_class_helper.pxi:7089\u001b[0m, in \u001b[0;36mpandas._libs.hashtable.PyObjectHashTable.get_item\u001b[0;34m()\u001b[0m\n",
      "\u001b[0;31mKeyError\u001b[0m: 'Severity'",
      "\nThe above exception was the direct cause of the following exception:\n",
      "\u001b[0;31mKeyError\u001b[0m                                  Traceback (most recent call last)",
      "Cell \u001b[0;32mIn[44], line 2\u001b[0m\n\u001b[1;32m      1\u001b[0m \u001b[38;5;28;01mif\u001b[39;00m _LITE_SWITCH_:\n\u001b[0;32m----> 2\u001b[0m     sns\u001b[38;5;241m.\u001b[39mhistplot(data_clean[\u001b[38;5;124m'\u001b[39m\u001b[38;5;124mSeverity\u001b[39m\u001b[38;5;124m'\u001b[39m])\n\u001b[1;32m      3\u001b[0m \u001b[38;5;28;01melse\u001b[39;00m:\n\u001b[1;32m      4\u001b[0m     \u001b[38;5;28;01mpass\u001b[39;00m\n",
      "File \u001b[0;32m/opt/anaconda3/lib/python3.12/site-packages/pandas/core/frame.py:4102\u001b[0m, in \u001b[0;36mDataFrame.__getitem__\u001b[0;34m(self, key)\u001b[0m\n\u001b[1;32m   4100\u001b[0m \u001b[38;5;28;01mif\u001b[39;00m \u001b[38;5;28mself\u001b[39m\u001b[38;5;241m.\u001b[39mcolumns\u001b[38;5;241m.\u001b[39mnlevels \u001b[38;5;241m>\u001b[39m \u001b[38;5;241m1\u001b[39m:\n\u001b[1;32m   4101\u001b[0m     \u001b[38;5;28;01mreturn\u001b[39;00m \u001b[38;5;28mself\u001b[39m\u001b[38;5;241m.\u001b[39m_getitem_multilevel(key)\n\u001b[0;32m-> 4102\u001b[0m indexer \u001b[38;5;241m=\u001b[39m \u001b[38;5;28mself\u001b[39m\u001b[38;5;241m.\u001b[39mcolumns\u001b[38;5;241m.\u001b[39mget_loc(key)\n\u001b[1;32m   4103\u001b[0m \u001b[38;5;28;01mif\u001b[39;00m is_integer(indexer):\n\u001b[1;32m   4104\u001b[0m     indexer \u001b[38;5;241m=\u001b[39m [indexer]\n",
      "File \u001b[0;32m/opt/anaconda3/lib/python3.12/site-packages/pandas/core/indexes/base.py:3812\u001b[0m, in \u001b[0;36mIndex.get_loc\u001b[0;34m(self, key)\u001b[0m\n\u001b[1;32m   3807\u001b[0m     \u001b[38;5;28;01mif\u001b[39;00m \u001b[38;5;28misinstance\u001b[39m(casted_key, \u001b[38;5;28mslice\u001b[39m) \u001b[38;5;129;01mor\u001b[39;00m (\n\u001b[1;32m   3808\u001b[0m         \u001b[38;5;28misinstance\u001b[39m(casted_key, abc\u001b[38;5;241m.\u001b[39mIterable)\n\u001b[1;32m   3809\u001b[0m         \u001b[38;5;129;01mand\u001b[39;00m \u001b[38;5;28many\u001b[39m(\u001b[38;5;28misinstance\u001b[39m(x, \u001b[38;5;28mslice\u001b[39m) \u001b[38;5;28;01mfor\u001b[39;00m x \u001b[38;5;129;01min\u001b[39;00m casted_key)\n\u001b[1;32m   3810\u001b[0m     ):\n\u001b[1;32m   3811\u001b[0m         \u001b[38;5;28;01mraise\u001b[39;00m InvalidIndexError(key)\n\u001b[0;32m-> 3812\u001b[0m     \u001b[38;5;28;01mraise\u001b[39;00m \u001b[38;5;167;01mKeyError\u001b[39;00m(key) \u001b[38;5;28;01mfrom\u001b[39;00m \u001b[38;5;21;01merr\u001b[39;00m\n\u001b[1;32m   3813\u001b[0m \u001b[38;5;28;01mexcept\u001b[39;00m \u001b[38;5;167;01mTypeError\u001b[39;00m:\n\u001b[1;32m   3814\u001b[0m     \u001b[38;5;66;03m# If we have a listlike key, _check_indexing_error will raise\u001b[39;00m\n\u001b[1;32m   3815\u001b[0m     \u001b[38;5;66;03m#  InvalidIndexError. Otherwise we fall through and re-raise\u001b[39;00m\n\u001b[1;32m   3816\u001b[0m     \u001b[38;5;66;03m#  the TypeError.\u001b[39;00m\n\u001b[1;32m   3817\u001b[0m     \u001b[38;5;28mself\u001b[39m\u001b[38;5;241m.\u001b[39m_check_indexing_error(key)\n",
      "\u001b[0;31mKeyError\u001b[0m: 'Severity'"
     ]
    }
   ],
   "source": [
    "if _LITE_SWITCH_:\n",
    "    sns.histplot(data_clean['Severity'])\n",
    "else:\n",
    "    pass"
   ]
  },
  {
   "cell_type": "markdown",
   "id": "531183ad",
   "metadata": {},
   "source": [
    "## Feature Variables"
   ]
  },
  {
   "cell_type": "markdown",
   "id": "105d7d63",
   "metadata": {},
   "source": []
  },
  {
   "cell_type": "code",
   "execution_count": null,
   "id": "cac8b3a3",
   "metadata": {},
   "outputs": [],
   "source": []
  },
  {
   "cell_type": "markdown",
   "id": "b1b7261f",
   "metadata": {},
   "source": [
    "### Inter-Relationship"
   ]
  },
  {
   "cell_type": "code",
   "execution_count": null,
   "id": "7f01ba67",
   "metadata": {},
   "outputs": [],
   "source": []
  },
  {
   "cell_type": "markdown",
   "id": "b953cd29",
   "metadata": {},
   "source": [
    "### Against Target Variable"
   ]
  },
  {
   "cell_type": "code",
   "execution_count": null,
   "id": "400023b8",
   "metadata": {},
   "outputs": [],
   "source": []
  },
  {
   "cell_type": "markdown",
   "id": "c2367ee5",
   "metadata": {},
   "source": [
    "# 5-Statistical Analysis"
   ]
  },
  {
   "cell_type": "markdown",
   "id": "ae49165c",
   "metadata": {},
   "source": [
    "## Basic"
   ]
  },
  {
   "cell_type": "code",
   "execution_count": null,
   "id": "d2d4be09",
   "metadata": {},
   "outputs": [],
   "source": []
  },
  {
   "cell_type": "markdown",
   "id": "4a4abe18",
   "metadata": {},
   "source": [
    "## Advanced"
   ]
  },
  {
   "cell_type": "code",
   "execution_count": null,
   "id": "16fe163d",
   "metadata": {},
   "outputs": [],
   "source": []
  },
  {
   "cell_type": "markdown",
   "id": "1c99fd9a",
   "metadata": {},
   "source": [
    "# 6-Insights & Conclusions"
   ]
  },
  {
   "cell_type": "markdown",
   "id": "1ac636b3",
   "metadata": {},
   "source": [
    "## Annual Distinctions"
   ]
  },
  {
   "cell_type": "code",
   "execution_count": null,
   "id": "becea5a2",
   "metadata": {},
   "outputs": [],
   "source": []
  },
  {
   "cell_type": "markdown",
   "id": "22d40560",
   "metadata": {},
   "source": [
    "## Temporal & Spatial Considerations\n",
    "\n",
    "How do accident counts relate to different times of the day and for different region types (urban vs rural)?"
   ]
  },
  {
   "cell_type": "code",
   "execution_count": null,
   "id": "473dea22",
   "metadata": {},
   "outputs": [],
   "source": []
  },
  {
   "cell_type": "markdown",
   "id": "a00b3086",
   "metadata": {},
   "source": [
    "## Severity Prediction"
   ]
  },
  {
   "cell_type": "code",
   "execution_count": null,
   "id": "e5c7e582",
   "metadata": {},
   "outputs": [],
   "source": []
  },
  {
   "cell_type": "markdown",
   "id": "4161a87b",
   "metadata": {},
   "source": [
    "## Unusual Weather \n",
    "\n",
    "Does driving in unexpected weather--based on area, time of year and/or both--create a higher likelihood of an accident."
   ]
  },
  {
   "cell_type": "code",
   "execution_count": null,
   "id": "0e186ab0",
   "metadata": {},
   "outputs": [],
   "source": []
  },
  {
   "cell_type": "markdown",
   "id": "0d0343fb",
   "metadata": {},
   "source": [
    "## Famous Highways"
   ]
  },
  {
   "cell_type": "code",
   "execution_count": null,
   "id": "b1ac08d2",
   "metadata": {},
   "outputs": [],
   "source": []
  },
  {
   "cell_type": "markdown",
   "id": "40f7b787",
   "metadata": {},
   "source": [
    "## Highway's Near Urban Areas\n",
    "\n",
    "For cross-state"
   ]
  },
  {
   "cell_type": "code",
   "execution_count": null,
   "id": "8d9a29e5",
   "metadata": {},
   "outputs": [],
   "source": []
  },
  {
   "cell_type": "markdown",
   "id": "2e130a9d",
   "metadata": {},
   "source": [
    "## Naturual Language\n",
    "\n",
    "Examination of the description feature."
   ]
  },
  {
   "cell_type": "code",
   "execution_count": null,
   "id": "4cc9eb56",
   "metadata": {},
   "outputs": [],
   "source": []
  },
  {
   "cell_type": "markdown",
   "id": "5c11d1dc",
   "metadata": {},
   "source": [
    "## Safety Infrastructure\n",
    "Does certain road infrastructure projects help reduce the number of incidents?"
   ]
  },
  {
   "cell_type": "code",
   "execution_count": null,
   "id": "c65af31e",
   "metadata": {},
   "outputs": [],
   "source": []
  },
  {
   "cell_type": "markdown",
   "id": "d7adc83b",
   "metadata": {},
   "source": [
    "## New Traffic Pattern\n",
    "\n",
    "Does the existence of a new traffic pattern in the area increase the likelihood of an accident?"
   ]
  },
  {
   "cell_type": "code",
   "execution_count": null,
   "id": "6e122f67",
   "metadata": {},
   "outputs": [],
   "source": []
  },
  {
   "cell_type": "markdown",
   "id": "68316f14",
   "metadata": {},
   "source": [
    "## Recent Accident Indicator\n",
    "\n",
    "Does the presence of one accident, predict another."
   ]
  },
  {
   "cell_type": "code",
   "execution_count": null,
   "id": "f2548875",
   "metadata": {},
   "outputs": [],
   "source": []
  }
 ],
 "metadata": {
  "kernelspec": {
   "display_name": "base",
   "language": "python",
   "name": "python3"
  },
  "language_info": {
   "codemirror_mode": {
    "name": "ipython",
    "version": 3
   },
   "file_extension": ".py",
   "mimetype": "text/x-python",
   "name": "python",
   "nbconvert_exporter": "python",
   "pygments_lexer": "ipython3",
   "version": "3.12.7"
  }
 },
 "nbformat": 4,
 "nbformat_minor": 5
}
