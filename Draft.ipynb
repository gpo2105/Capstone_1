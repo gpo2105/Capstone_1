{
 "cells": [
  {
   "cell_type": "markdown",
   "id": "af6e13aa",
   "metadata": {},
   "source": [
    "# Project Introduction"
   ]
  },
  {
   "cell_type": "markdown",
   "id": "f28a6e29",
   "metadata": {},
   "source": [
    "__[Department of Transportation's Responsibilities](https://www.google.com/search?client=safari&rls=en&q=department+of+transportation+responsibilities&ie=UTF-8&oe=UTF-8)__\n",
    "\n",
    "Through this dataset, I have identified the three following patterns:\n",
    "1. IDEA 1 w/ LOCAL LINK\n",
    "2. IDEA 2 w/ LOCAL LINK\n",
    "3. IDEA 3 w/ LOCAL LINK"
   ]
  },
  {
   "cell_type": "markdown",
   "id": "3d8c8b96",
   "metadata": {},
   "source": [
    "## Resources:\n",
    "\n",
    "- __[Kaggle-Full](https://www.kaggle.com/datasets/sobhanmoosavi/us-accidents/data)__\n",
    "\n",
    "- __[Kaggle-Sampled](https://drive.google.com/file/d/1U3u8QYzLjnEaSurtZfSAS_oh9AT2Mn8X/edit)__\n",
    "\n",
    "- __[Bing API](https://learn.microsoft.com/en-us/bingmaps/rest-services/traffic/get-traffic-incidents#supported-http-methods)__\n",
    "\n",
    "- __[MQuest API](https://developer.mapquest.com/documentation/api/traffic/incidents/get.html)__\n",
    "\n",
    "- __['A Countrywide Traffic Accident Dataset'](https://arxiv.org/pdf/1906.05409)__\n",
    "\n",
    "- __['Accident Risk Prediction based on Heterogenous Sparse Data: New Dataset & Insights](https://arxiv.org/pdf/1909.09638)__"
   ]
  },
  {
   "cell_type": "markdown",
   "id": "62454dd5",
   "metadata": {},
   "source": [
    "# 1-Setup Environment"
   ]
  },
  {
   "cell_type": "markdown",
   "id": "ac1c0833",
   "metadata": {},
   "source": [
    "## Libraries"
   ]
  },
  {
   "cell_type": "code",
   "execution_count": 123,
   "id": "a57cd187",
   "metadata": {},
   "outputs": [],
   "source": [
    "#Utilities\n",
    "import warnings\n",
    "\n",
    "# Data Basics\n",
    "import pandas as pd\n",
    "import numpy as np\n",
    "import missingno as msgno\n",
    "\n",
    "#PySpark\n",
    "from pyspark.sql import SparkSession\n",
    "from pyspark.mllib.stat import Statistics\n",
    "import pyspark.sql.functions as F\n",
    "\n",
    "#Visuals\n",
    "import matplotlib.pyplot as plt\n",
    "import seaborn as sns\n",
    "\n",
    "\n",
    "# Statistical Analysis\n",
    "from scipy.stats import zscore, f_oneway, chi2_contingency, chisquare\n",
    "import statsmodels.api as sm\n",
    "from statsmodels.formula.api import ols\n",
    "\n",
    "# Spatial Tools\n",
    "import geopy.distance\n",
    "\n",
    "# Text Tools\n",
    "import re\n",
    "from wordcloud import WordCloud\n",
    "\n",
    "from nltk.tokenize import word_tokenize, sent_tokenize\n",
    "from nltk.corpus import stopwords, wordnet\n",
    "from nltk.probability import FreqDist\n",
    "from nltk.stem import PorterStemmer, WordNetLemmatizer\n",
    "from nltk.util import ngrams"
   ]
  },
  {
   "cell_type": "markdown",
   "id": "e5e3276e",
   "metadata": {},
   "source": [
    "## Info on New Libraries\n",
    "For improved analysis, these libraries were included, but not covered in the material:\n",
    "\n",
    "- __[Geopy:  ](https://geopy.readthedocs.io/en/stable/)__\n",
    "\n",
    "- MissingNo:  \n",
    "    * __[Library](https://github.com/ResidentMario/missingno)__\n",
    "    \n",
    "    * __[Tutorial](https://www.geeksforgeeks.org/python-visualize-missing-values-nan-values-using-missingno-library/)__"
   ]
  },
  {
   "cell_type": "markdown",
   "id": "9f26743b",
   "metadata": {},
   "source": [
    "## Settings"
   ]
  },
  {
   "cell_type": "code",
   "execution_count": 2,
   "id": "f9caeba6",
   "metadata": {},
   "outputs": [],
   "source": [
    "pd.set_option('display.max_columns', None)\n",
    "pd.set_option('display.float_format', lambda x: '%.3f' % x)\n",
    "pd.set_option('display.width', 500)\n",
    "_LITE_SWITCH_ = True\n",
    "_SPARK_ = False"
   ]
  },
  {
   "cell_type": "markdown",
   "id": "fbd5bb42",
   "metadata": {},
   "source": [
    "## Custom Functions"
   ]
  },
  {
   "cell_type": "code",
   "execution_count": 3,
   "id": "190743bc",
   "metadata": {},
   "outputs": [],
   "source": [
    "# For High-level data exploration\n",
    "def count_outliers(df_col,cap=3):\n",
    "    zs = zscore(df_col)\n",
    "    return df_col[zs > cap].shape[0]"
   ]
  },
  {
   "cell_type": "code",
   "execution_count": 4,
   "id": "0f0bc4be",
   "metadata": {},
   "outputs": [],
   "source": [
    "# For Identify Unusual Weather Pattern(s)\n",
    "def unusual_weather(observation):\n",
    "    flag = False\n",
    "    return flag"
   ]
  },
  {
   "cell_type": "code",
   "execution_count": 5,
   "id": "fa2098b9",
   "metadata": {},
   "outputs": [],
   "source": [
    "def dist(pt_0,pt_1):\n",
    "    return geopy.distance.distance(pt_0,pt_1).miles"
   ]
  },
  {
   "cell_type": "code",
   "execution_count": 6,
   "id": "373f6059",
   "metadata": {},
   "outputs": [],
   "source": [
    "def highway(eventA):\n",
    "    pass"
   ]
  },
  {
   "cell_type": "code",
   "execution_count": 7,
   "id": "617e13cd",
   "metadata": {},
   "outputs": [],
   "source": [
    "def same_road(eventA,eventB):\n",
    "    indicator = False\n",
    "    road_identifiers = ['Street','City','State','Zipcode']\n",
    "    indicator = all(eventA[id]==eventB[id] for id in road_identifiers)\n",
    "    return indicator"
   ]
  },
  {
   "cell_type": "code",
   "execution_count": 8,
   "id": "bd9e695f",
   "metadata": {},
   "outputs": [],
   "source": [
    "# For indicating whether two events are close in space and, optionally, time.\n",
    "def proximity_indicator(eventA,eventB,space_band=15,time_band=0):\n",
    "    flag = False\n",
    "    distance = dist(eventA[['longitude','latitude']],eventB[['longitude','latitude']])\n",
    "    if (time_band > 0):\n",
    "        time_lapse = abs(eventA['time']-eventB['time'])\n",
    "        flag = bool((space_band > distance) and (time_band > time_lapse))\n",
    "    else:\n",
    "        flag = bool(space_band > distance)\n",
    "    return flag"
   ]
  },
  {
   "cell_type": "markdown",
   "id": "54ad15e6",
   "metadata": {},
   "source": [
    "## Load Dataset"
   ]
  },
  {
   "cell_type": "code",
   "execution_count": 9,
   "id": "d09a8e27",
   "metadata": {},
   "outputs": [],
   "source": [
    "if _SPARK_:\n",
    "    spark = SparkSession.builder.appName(\"Accident Data Project\").getOrCreate()\n",
    "    data = spark.read.csv('US_Accidents_March23.csv',header=True,inferSchema=True)\n",
    "else:\n",
    "    if _LITE_SWITCH_:\n",
    "        data = pd.read_csv('US_Accidents_March23_sampled_500k.csv')\n",
    "    else:\n",
    "        data = pd.read_csv('US_Accidents_March23.csv')\n",
    "    "
   ]
  },
  {
   "cell_type": "markdown",
   "id": "dda9e963",
   "metadata": {},
   "source": [
    "# 2-Initial EDA"
   ]
  },
  {
   "cell_type": "markdown",
   "id": "ce0ade77",
   "metadata": {},
   "source": [
    "## Schema & Feature Basics"
   ]
  },
  {
   "cell_type": "code",
   "execution_count": null,
   "id": "f7d47143",
   "metadata": {},
   "outputs": [
    {
     "name": "stdout",
     "output_type": "stream",
     "text": [
      "<class 'pandas.core.frame.DataFrame'>\n",
      "RangeIndex: 500000 entries, 0 to 499999\n",
      "Data columns (total 46 columns):\n",
      " #   Column                 Non-Null Count   Dtype  \n",
      "---  ------                 --------------   -----  \n",
      " 0   ID                     500000 non-null  object \n",
      " 1   Source                 500000 non-null  object \n",
      " 2   Severity               500000 non-null  int64  \n",
      " 3   Start_Time             500000 non-null  object \n",
      " 4   End_Time               500000 non-null  object \n",
      " 5   Start_Lat              500000 non-null  float64\n",
      " 6   Start_Lng              500000 non-null  float64\n",
      " 7   End_Lat                279623 non-null  float64\n",
      " 8   End_Lng                279623 non-null  float64\n",
      " 9   Distance(mi)           500000 non-null  float64\n",
      " 10  Description            499999 non-null  object \n",
      " 11  Street                 499309 non-null  object \n",
      " 12  City                   499981 non-null  object \n",
      " 13  County                 500000 non-null  object \n",
      " 14  State                  500000 non-null  object \n",
      " 15  Zipcode                499884 non-null  object \n",
      " 16  Country                500000 non-null  object \n",
      " 17  Timezone               499493 non-null  object \n",
      " 18  Airport_Code           498554 non-null  object \n",
      " 19  Weather_Timestamp      492326 non-null  object \n",
      " 20  Temperature(F)         489534 non-null  float64\n",
      " 21  Wind_Chill(F)          370983 non-null  float64\n",
      " 22  Humidity(%)            488870 non-null  float64\n",
      " 23  Pressure(in)           491072 non-null  float64\n",
      " 24  Visibility(mi)         488709 non-null  float64\n",
      " 25  Wind_Direction         488803 non-null  object \n",
      " 26  Wind_Speed(mph)        463013 non-null  float64\n",
      " 27  Precipitation(in)      357384 non-null  float64\n",
      " 28  Weather_Condition      488899 non-null  object \n",
      " 29  Amenity                500000 non-null  bool   \n",
      " 30  Bump                   500000 non-null  bool   \n",
      " 31  Crossing               500000 non-null  bool   \n",
      " 32  Give_Way               500000 non-null  bool   \n",
      " 33  Junction               500000 non-null  bool   \n",
      " 34  No_Exit                500000 non-null  bool   \n",
      " 35  Railway                500000 non-null  bool   \n",
      " 36  Roundabout             500000 non-null  bool   \n",
      " 37  Station                500000 non-null  bool   \n",
      " 38  Stop                   500000 non-null  bool   \n",
      " 39  Traffic_Calming        500000 non-null  bool   \n",
      " 40  Traffic_Signal         500000 non-null  bool   \n",
      " 41  Turning_Loop           500000 non-null  bool   \n",
      " 42  Sunrise_Sunset         498517 non-null  object \n",
      " 43  Civil_Twilight         498517 non-null  object \n",
      " 44  Nautical_Twilight      498517 non-null  object \n",
      " 45  Astronomical_Twilight  498517 non-null  object \n",
      "dtypes: bool(13), float64(12), int64(1), object(20)\n",
      "memory usage: 132.1+ MB\n"
     ]
    }
   ],
   "source": [
    "if _SPARK_:\n",
    "    data.printSchema()\n",
    "    print(\"Features: \",len(data.columns))\n",
    "    print(\"Entries:  \",data.count())\n",
    "else:\n",
    "    data.info()"
   ]
  },
  {
   "cell_type": "code",
   "execution_count": null,
   "id": "555ca1d5",
   "metadata": {},
   "outputs": [],
   "source": [
    "if _SPARK_:\n",
    "    data.show(5,vertical=False)\n",
    "else:\n",
    "    data.head(5)"
   ]
  },
  {
   "cell_type": "code",
   "execution_count": 12,
   "id": "b2589ce0",
   "metadata": {},
   "outputs": [],
   "source": [
    "if _SPARK_:\n",
    "    data.describe().show()\n",
    "else:\n",
    "    pass\n",
    "    "
   ]
  },
  {
   "cell_type": "markdown",
   "id": "23f78f1c",
   "metadata": {},
   "source": [
    "Very large dataset with over 7.7 million observations.  (I also chose to do some initial analysis ont he kaggle-provided sampled dataset which contains only 500k observations.)  So we will have to handle with care either by using Spark or through other tricks.\n",
    "\n",
    "\n",
    "Notes on Features: Dimensionally much more managable with just 45 features.\n",
    "- 'Severity' would appear to be the primary variable of interest; 'Description' might be interesting to experiment with.\n",
    "    * Upon further research, there is a 'Distance(mi)' feature that reflects the mileage of road that was impacted.\n",
    "    * Furthermore, we can calculate the duration of impact by calculating the delta between 'Start_Time' & 'End_Time'\n",
    "\n",
    "- 'Description' feature might be an interesting avenue to explore.  However, I suspect that it is collected/generated after the fact so there wouldn't be much predictive value.\n",
    "\n",
    "- A number of location features\n",
    "    * 'Start_Lat'/'Start_Lng' are easy enough to interpret but not sure what is meant by 'End_Lat' and 'End_Lng'\n",
    "    * Similar question for 'Distance(mi)'\n",
    "    * Street and City might not be useful features since they are not informative without further context.  \n",
    "\n",
    "- Identifiers in ID and Source\n",
    "\n",
    "- We have three time features ('Weather_Timestamp', 'Start_Time' and 'End_Time').\n",
    "    * They need to be [converted to datetimes](#datetimes).  Right now they are just strings.\n",
    "    * There may be an issue with inconsistent formatting.\n",
    "    * It may be interesting to use these values to engineer some features like time of day, season, weekday/weekend, etc.\n",
    "    * However, the information contained in 'Weather_Timestamp' is unclear.\n",
    "\n",
    "- There are 9 (not including 'Weather_Timestamp') features on the weather.\n",
    "    * Visability is probably the most relevant of these but 'Weather_Condition' might be a fine substitute/summary.\n",
    "\n",
    "-There are 5 binary features indicating whether or not it was light or dark out at the time of the incident.\n",
    "\n",
    "- Next are 10 binary features which seem to provide some information about the road infrastructure at the location of the accident.  \n"
   ]
  },
  {
   "cell_type": "code",
   "execution_count": 13,
   "id": "5e387875",
   "metadata": {},
   "outputs": [],
   "source": [
    "_TARGET_ = ['Severity']\n",
    "_NUMERICS_ = ['Distance(mi)','Temperature(F)',\n",
    "              'Wind_Chill(F)','Humidity(%)','Pressure(in)',\n",
    "              'Visibility(mi)','Wind_Speed(mph)','Precipitation(in)']"
   ]
  },
  {
   "cell_type": "markdown",
   "id": "964276f4",
   "metadata": {},
   "source": [
    "## Missing Values"
   ]
  },
  {
   "cell_type": "code",
   "execution_count": null,
   "id": "97f0f749",
   "metadata": {},
   "outputs": [
    {
     "name": "stdout",
     "output_type": "stream",
     "text": [
      "End_Lat                  220377\n",
      "End_Lng                  220377\n",
      "Precipitation(in)        142616\n",
      "Wind_Chill(F)            129017\n",
      "Wind_Speed(mph)           36987\n",
      "Visibility(mi)            11291\n",
      "Wind_Direction            11197\n",
      "Humidity(%)               11130\n",
      "Weather_Condition         11101\n",
      "Temperature(F)            10466\n",
      "Pressure(in)               8928\n",
      "Weather_Timestamp          7674\n",
      "Nautical_Twilight          1483\n",
      "Civil_Twilight             1483\n",
      "Sunrise_Sunset             1483\n",
      "Astronomical_Twilight      1483\n",
      "Airport_Code               1446\n",
      "Street                      691\n",
      "Timezone                    507\n",
      "Zipcode                     116\n",
      "City                         19\n",
      "Description                   1\n",
      "Traffic_Signal                0\n",
      "Roundabout                    0\n",
      "Station                       0\n",
      "Stop                          0\n",
      "Traffic_Calming               0\n",
      "Country                       0\n",
      "Turning_Loop                  0\n",
      "No_Exit                       0\n",
      "End_Time                      0\n",
      "Start_Time                    0\n",
      "Severity                      0\n",
      "Railway                       0\n",
      "Crossing                      0\n",
      "Junction                      0\n",
      "Give_Way                      0\n",
      "Bump                          0\n",
      "Amenity                       0\n",
      "Start_Lat                     0\n",
      "Start_Lng                     0\n",
      "Distance(mi)                  0\n",
      "Source                        0\n",
      "County                        0\n",
      "State                         0\n",
      "ID                            0\n",
      "dtype: int64\n"
     ]
    }
   ],
   "source": [
    "if _SPARK_:\n",
    "    missing = data.select(*[F.sum(F.isnull(F.col(c)).cast(\"int\")).alias(c) for c in data.columns])\n",
    "    print(missing.show(vertical=True))\n",
    "else:\n",
    "    print(data.isna().sum().sort_values(ascending=False))"
   ]
  },
  {
   "cell_type": "markdown",
   "id": "35c92170",
   "metadata": {},
   "source": [
    "There is a lot of missing data. \n",
    "\n",
    "- Most notably, the 'End_Lat'/'End_Lng'.  Will have to confirm but it would appear that observations missing one are also missing the other.  \n",
    "- There aren't any missing values for 'Severity' as well as basic location data (gps + state/county).\n",
    "- Only five observations are missing 'Description' which may prove convenient.\n"
   ]
  },
  {
   "cell_type": "code",
   "execution_count": 15,
   "id": "c6612280",
   "metadata": {},
   "outputs": [
    {
     "data": {
      "text/plain": [
       "<Axes: >"
      ]
     },
     "execution_count": 15,
     "metadata": {},
     "output_type": "execute_result"
    },
    {
     "data": {
      "image/png": "[encoded data removed]",
      "text/plain": [
       "<Figure size 2000x1200 with 2 Axes>"
      ]
     },
     "metadata": {},
     "output_type": "display_data"
    }
   ],
   "source": [
    "msgno.heatmap(data)"
   ]
  },
  {
   "cell_type": "markdown",
   "id": "1d45b362",
   "metadata": {},
   "source": [
    "Good to know:\n",
    "* Confirmed that Latitude/Longitude Data are strictly missing together.\n",
    "\n",
    "* Weather data seems to be missing together in general but not perfectly missing and not a uniform relationship (Precipitation and Wind Direction for example).\n",
    "\n",
    "* The day/night variables are strictly missing together.  "
   ]
  },
  {
   "cell_type": "markdown",
   "id": "7db39547",
   "metadata": {},
   "source": [
    "## Duplicates\n",
    "\n",
    "There are no duplicates to deal with:"
   ]
  },
  {
   "cell_type": "code",
   "execution_count": 16,
   "id": "3a0914db",
   "metadata": {},
   "outputs": [
    {
     "name": "stdout",
     "output_type": "stream",
     "text": [
      "0\n"
     ]
    }
   ],
   "source": [
    "if _SPARK_:\n",
    "    duplicates = int(data.count() - data.dropDuplicates().count())\n",
    "    duplicates.show()\n",
    "else:\n",
    "    print(data.duplicated().sum())"
   ]
  },
  {
   "cell_type": "markdown",
   "id": "f5f9347b",
   "metadata": {},
   "source": [
    "## Outliers"
   ]
  },
  {
   "cell_type": "code",
   "execution_count": 17,
   "id": "28788e99",
   "metadata": {},
   "outputs": [
    {
     "name": "stdout",
     "output_type": "stream",
     "text": [
      "                     3     5    10   15   20\n",
      "Distance(mi)       7079  2660  632  248  114\n",
      "Temperature(F)        0     0    0    0    0\n",
      "Wind_Chill(F)         0     0    0    0    0\n",
      "Humidity(%)           0     0    0    0    0\n",
      "Pressure(in)          0     0    0    0    0\n",
      "Visibility(mi)        0     0    0    0    0\n",
      "Wind_Speed(mph)       0     0    0    0    0\n",
      "Precipitation(in)     0     0    0    0    0\n"
     ]
    }
   ],
   "source": [
    "if _SPARK_:\n",
    "    pass\n",
    "else:\n",
    "    print(pd.DataFrame({c:{z:count_outliers(data[c],z) for z in [3,5,10,15,20]} for c in _NUMERICS_}).T)"
   ]
  },
  {
   "cell_type": "markdown",
   "id": "cbb844d4",
   "metadata": {},
   "source": [
    "The distance feature may have some outlier issues.  However, this may be a function of the feature's nature as almost all incidents will not impact a large swath of the road. "
   ]
  },
  {
   "cell_type": "markdown",
   "id": "dac519b8",
   "metadata": {},
   "source": [
    "## High-Level Features"
   ]
  },
  {
   "cell_type": "markdown",
   "id": "66250376",
   "metadata": {},
   "source": [
    "### Nature of Accident"
   ]
  },
  {
   "cell_type": "code",
   "execution_count": 18,
   "id": "d8567d79",
   "metadata": {},
   "outputs": [
    {
     "data": {
      "text/plain": [
       "Severity\n",
       "2    398142\n",
       "3     84520\n",
       "4     13064\n",
       "1      4274\n",
       "Name: count, dtype: int64"
      ]
     },
     "execution_count": 18,
     "metadata": {},
     "output_type": "execute_result"
    }
   ],
   "source": [
    "data['Severity'].value_counts()"
   ]
  },
  {
   "cell_type": "code",
   "execution_count": 62,
   "id": "f4374a42",
   "metadata": {},
   "outputs": [
    {
     "data": {
      "text/plain": [
       "(-0.194, 7.739]       495934\n",
       "(7.739, 15.478]         3145\n",
       "(15.478, 23.218]         549\n",
       "(23.218, 30.957]         194\n",
       "(30.957, 38.696]          83\n",
       "(38.696, 46.435]          38\n",
       "(46.435, 54.174]          18\n",
       "(54.174, 61.914]          13\n",
       "(61.914, 69.653]           8\n",
       "(69.653, 77.392]           8\n",
       "(77.392, 85.131]           2\n",
       "(85.131, 92.87]            1\n",
       "(92.87, 100.61]            1\n",
       "(100.61, 108.349]          1\n",
       "(108.349, 116.088]         1\n",
       "(116.088, 123.827]         0\n",
       "(123.827, 131.566]         1\n",
       "(131.566, 139.306]         0\n",
       "(139.306, 147.045]         0\n",
       "(147.045, 154.784]         2\n",
       "(154.784, 162.523]         0\n",
       "(162.523, 170.262]         0\n",
       "(170.262, 178.002]         0\n",
       "(178.002, 185.741]         0\n",
       "(185.741, 193.48]          1\n",
       "Name: count, dtype: int64"
      ]
     },
     "execution_count": 62,
     "metadata": {},
     "output_type": "execute_result"
    }
   ],
   "source": [
    "data['Distance(mi)'].value_counts(bins=25).sort_index(ascending=True)"
   ]
  },
  {
   "cell_type": "code",
   "execution_count": 65,
   "id": "9d859519",
   "metadata": {},
   "outputs": [
    {
     "data": {
      "text/plain": [
       "0.427174"
      ]
     },
     "execution_count": 65,
     "metadata": {},
     "output_type": "execute_result"
    }
   ],
   "source": [
    "(data['Distance(mi)']==0).sum()/data.shape[0]"
   ]
  },
  {
   "cell_type": "code",
   "execution_count": null,
   "id": "b66b34d1",
   "metadata": {},
   "outputs": [
    {
     "data": {
      "text/plain": [
       "<Axes: xlabel='Distance(mi)', ylabel='Count'>"
      ]
     },
     "execution_count": 66,
     "metadata": {},
     "output_type": "execute_result"
    },
    {
     "data": {
      "image/png": "[encoded data removed]",
      "text/plain": [
       "<Figure size 640x480 with 1 Axes>"
      ]
     },
     "metadata": {},
     "output_type": "display_data"
    }
   ],
   "source": [
    "sns.histplot(data[data['Distance(mi)'] > 0]['Distance(mi)']);"
   ]
  },
  {
   "cell_type": "markdown",
   "id": "1a8a76eb",
   "metadata": {},
   "source": [
    "Interesting that we have distances less than 0.  And as expected, the bulk of the data is near or at 0.  "
   ]
  },
  {
   "cell_type": "markdown",
   "id": "668865e4",
   "metadata": {},
   "source": [
    "### Address Features"
   ]
  },
  {
   "cell_type": "code",
   "execution_count": 20,
   "id": "1ce3641d",
   "metadata": {},
   "outputs": [
    {
     "data": {
      "text/plain": [
       "Country\n",
       "US    500000\n",
       "Name: count, dtype: int64"
      ]
     },
     "execution_count": 20,
     "metadata": {},
     "output_type": "execute_result"
    }
   ],
   "source": [
    "data['Country'].value_counts()"
   ]
  },
  {
   "cell_type": "markdown",
   "id": "b47fe0ba",
   "metadata": {},
   "source": [
    "We can cut this 'Country' feature entirely from the data going forward."
   ]
  },
  {
   "cell_type": "code",
   "execution_count": 21,
   "id": "ea87d227",
   "metadata": {},
   "outputs": [
    {
     "data": {
      "text/plain": [
       "State\n",
       "CA   0.227\n",
       "FL   0.113\n",
       "TX   0.075\n",
       "SC   0.049\n",
       "NY   0.045\n",
       "NC   0.043\n",
       "VA   0.039\n",
       "PA   0.039\n",
       "MN   0.025\n",
       "OR   0.023\n",
       "AZ   0.022\n",
       "GA   0.022\n",
       "IL   0.022\n",
       "TN   0.022\n",
       "MI   0.021\n",
       "LA   0.019\n",
       "MD   0.018\n",
       "NJ   0.018\n",
       "OH   0.015\n",
       "WA   0.014\n",
       "AL   0.013\n",
       "UT   0.013\n",
       "CO   0.012\n",
       "OK   0.011\n",
       "MO   0.010\n",
       "CT   0.009\n",
       "IN   0.009\n",
       "MA   0.008\n",
       "WI   0.005\n",
       "KY   0.004\n",
       "NE   0.004\n",
       "MT   0.004\n",
       "IA   0.003\n",
       "AR   0.003\n",
       "KS   0.003\n",
       "NV   0.003\n",
       "DC   0.002\n",
       "RI   0.002\n",
       "MS   0.002\n",
       "DE   0.002\n",
       "WV   0.002\n",
       "ID   0.001\n",
       "NM   0.001\n",
       "NH   0.001\n",
       "WY   0.001\n",
       "ND   0.000\n",
       "ME   0.000\n",
       "VT   0.000\n",
       "SD   0.000\n",
       "Name: proportion, dtype: float64"
      ]
     },
     "execution_count": 21,
     "metadata": {},
     "output_type": "execute_result"
    }
   ],
   "source": [
    "data['State'].value_counts(dropna=False,normalize=True)"
   ]
  },
  {
   "cell_type": "code",
   "execution_count": 22,
   "id": "8d4dc911",
   "metadata": {},
   "outputs": [
    {
     "data": {
      "text/plain": [
       "Zipcode\n",
       "91761        0.001\n",
       "91706        0.001\n",
       "92407        0.001\n",
       "92507        0.001\n",
       "33186        0.001\n",
       "              ... \n",
       "28214-1802   0.000\n",
       "49504-4369   0.000\n",
       "01104-1170   0.000\n",
       "29560-6703   0.000\n",
       "37406-2132   0.000\n",
       "Name: proportion, Length: 127805, dtype: float64"
      ]
     },
     "execution_count": 22,
     "metadata": {},
     "output_type": "execute_result"
    }
   ],
   "source": [
    "data['Zipcode'].value_counts(dropna=False,normalize=True).sort_values(ascending=False)"
   ]
  },
  {
   "cell_type": "code",
   "execution_count": 23,
   "id": "6819c46e",
   "metadata": {},
   "outputs": [
    {
     "data": {
      "text/plain": [
       "Airport_Code\n",
       "KCQT   0.016\n",
       "KRDU   0.014\n",
       "KMCJ   0.013\n",
       "KBNA   0.013\n",
       "KCLT   0.013\n",
       "        ... \n",
       "KPEZ   0.000\n",
       "KFDR   0.000\n",
       "KSTF   0.000\n",
       "KTVK   0.000\n",
       "K4CR   0.000\n",
       "Name: proportion, Length: 1879, dtype: float64"
      ]
     },
     "execution_count": 23,
     "metadata": {},
     "output_type": "execute_result"
    }
   ],
   "source": [
    "data['Airport_Code'].value_counts(dropna=False,normalize=True).sort_values(ascending=False)"
   ]
  },
  {
   "cell_type": "code",
   "execution_count": null,
   "id": "fe0b5584",
   "metadata": {},
   "outputs": [],
   "source": [
    "data['Street'].value_counts(dropna=False).sort_values(ascending=False).head(25)"
   ]
  },
  {
   "cell_type": "markdown",
   "id": "1e8c72e0",
   "metadata": {},
   "source": [
    "### Weather"
   ]
  },
  {
   "cell_type": "code",
   "execution_count": 24,
   "id": "02d0f624",
   "metadata": {},
   "outputs": [
    {
     "data": {
      "text/plain": [
       "Weather_Condition\n",
       "Fair               0.332\n",
       "Mostly Cloudy      0.131\n",
       "Cloudy             0.106\n",
       "Clear              0.105\n",
       "Partly Cloudy      0.090\n",
       "Overcast           0.050\n",
       "Light Rain         0.045\n",
       "Scattered Clouds   0.026\n",
       "NaN                0.022\n",
       "Light Snow         0.016\n",
       "Fog                0.013\n",
       "Rain               0.011\n",
       "Haze               0.010\n",
       "Fair / Windy       0.005\n",
       "Heavy Rain         0.004\n",
       "Name: proportion, dtype: float64"
      ]
     },
     "execution_count": 24,
     "metadata": {},
     "output_type": "execute_result"
    }
   ],
   "source": [
    "data['Weather_Condition'].value_counts(dropna=False,normalize=True).sort_values(ascending=False).head(15)"
   ]
  },
  {
   "cell_type": "code",
   "execution_count": 25,
   "id": "438a8e23",
   "metadata": {},
   "outputs": [],
   "source": [
    "_WeatherData_ = ['Temperature(F)','Wind_Chill(F)',\n",
    "                 'Humidity(%)','Pressure(in)','Visibility(mi)',\n",
    "                 'Wind_Direction','Wind_Speed(mph)','Precipitation(in)',\n",
    "                 ]"
   ]
  },
  {
   "cell_type": "markdown",
   "id": "5e9630b4",
   "metadata": {},
   "source": [
    "### Night/Day Features\n",
    "\n",
    "There appears to be multiple indicators for day/night that need to be explored.  According to __[Google](https://www.google.com/search?q=different+types+of+twilight&rlz=1C5OZZY_enUS1127US1127&oq=different+types+of+twilight&gs_lcrp=EgZjaHJvbWUyCQgAEEUYORiABDIICAEQABgWGB4yCAgCEAAYFhgeMggIAxAAGBYYHjIICAQQABgWGB4yDQgFEAAYhgMYgAQYigUyDQgGEAAYhgMYgAQYigUyDQgHEAAYhgMYgAQYigUyDQgIEAAYhgMYgAQYigUyCggJEAAYgAQYogTSAQg0NjU3ajFqN6gCALACAA&sourceid=chrome&ie=UTF-8)__, "
   ]
  },
  {
   "cell_type": "code",
   "execution_count": 96,
   "id": "bdb2dd50",
   "metadata": {},
   "outputs": [
    {
     "name": "stdout",
     "output_type": "stream",
     "text": [
      "Astronomical_Twilight     Day  Night\n",
      "Nautical_Twilight                   \n",
      "Day                    392469    397\n",
      "Night                   19773  85878\n",
      "--------------------------------------------------\n",
      "Civil_Twilight        Day   Night\n",
      "Nautical_Twilight                \n",
      "Day                368274   24592\n",
      "Night                   0  105651\n",
      "--------------------------------------------------\n",
      "Sunrise_Sunset        Day   Night\n",
      "Nautical_Twilight                \n",
      "Day                344967   47899\n",
      "Night                   0  105651\n"
     ]
    }
   ],
   "source": [
    "print(pd.crosstab(data['Nautical_Twilight'],data['Astronomical_Twilight']))\n",
    "print('-'*50)\n",
    "print(pd.crosstab(data['Nautical_Twilight'],data['Civil_Twilight']))\n",
    "print('-'*50)\n",
    "print(pd.crosstab(data['Nautical_Twilight'],data['Sunrise_Sunset']))"
   ]
  },
  {
   "cell_type": "code",
   "execution_count": 97,
   "id": "3dc28b3b",
   "metadata": {},
   "outputs": [
    {
     "name": "stdout",
     "output_type": "stream",
     "text": [
      "Civil_Twilight            Day  Night\n",
      "Astronomical_Twilight               \n",
      "Day                    367907  44335\n",
      "Night                     367  85908\n",
      "--------------------------------------------------\n",
      "Sunrise_Sunset            Day  Night\n",
      "Astronomical_Twilight               \n",
      "Day                    344618  67624\n",
      "Night                     349  85926\n"
     ]
    }
   ],
   "source": [
    "print(pd.crosstab(data['Astronomical_Twilight'],data['Civil_Twilight']))\n",
    "print('-'*50)\n",
    "print(pd.crosstab(data['Astronomical_Twilight'],data['Sunrise_Sunset']))"
   ]
  },
  {
   "cell_type": "code",
   "execution_count": 98,
   "id": "8e6d75e4",
   "metadata": {},
   "outputs": [
    {
     "name": "stdout",
     "output_type": "stream",
     "text": [
      "Sunrise_Sunset     Day   Night\n",
      "Civil_Twilight                \n",
      "Day             344962   23312\n",
      "Night                5  130238\n"
     ]
    }
   ],
   "source": [
    "print(pd.crosstab(data['Civil_Twilight'],data['Sunrise_Sunset']))"
   ]
  },
  {
   "cell_type": "markdown",
   "id": "abffbbee",
   "metadata": {},
   "source": [
    "### Infrastructure"
   ]
  },
  {
   "cell_type": "code",
   "execution_count": null,
   "id": "76bae1b7",
   "metadata": {},
   "outputs": [],
   "source": []
  },
  {
   "cell_type": "markdown",
   "id": "7249add0",
   "metadata": {},
   "source": [
    "# 3-Data Processing"
   ]
  },
  {
   "cell_type": "markdown",
   "id": "dc2fedb7",
   "metadata": {},
   "source": [
    "Start with a brand new dataset"
   ]
  },
  {
   "cell_type": "code",
   "execution_count": null,
   "id": "0494fe00",
   "metadata": {},
   "outputs": [],
   "source": [
    "del data"
   ]
  },
  {
   "cell_type": "code",
   "execution_count": 32,
   "id": "b714ee29",
   "metadata": {},
   "outputs": [],
   "source": [
    "if _SPARK_:\n",
    "    spark = SparkSession.builder.appName(\"Accident Data Project\").getOrCreate()\n",
    "    data_clean = spark.read.csv('US_Accidents_March23.csv',header=True,inferSchema=True)\n",
    "else:\n",
    "    if _LITE_SWITCH_:\n",
    "        data_clean = pd.read_csv('US_Accidents_March23_sampled_500k.csv')\n",
    "    else:\n",
    "        data_clean = pd.read_csv('US_Accidents_March23.csv')\n",
    "    "
   ]
  },
  {
   "cell_type": "markdown",
   "id": "4c36d28d",
   "metadata": {},
   "source": [
    "## Missing Data"
   ]
  },
  {
   "cell_type": "code",
   "execution_count": null,
   "id": "c718f5d9",
   "metadata": {},
   "outputs": [],
   "source": []
  },
  {
   "cell_type": "markdown",
   "id": "6b637d91",
   "metadata": {},
   "source": [
    "## Outliers"
   ]
  },
  {
   "cell_type": "code",
   "execution_count": null,
   "id": "ace502f8",
   "metadata": {},
   "outputs": [],
   "source": []
  },
  {
   "cell_type": "markdown",
   "id": "fdfbf851",
   "metadata": {},
   "source": [
    "## Engineer Features"
   ]
  },
  {
   "cell_type": "markdown",
   "id": "b151a623",
   "metadata": {},
   "source": [
    "### <a id='datetimes'> Converting dates </a>"
   ]
  },
  {
   "cell_type": "code",
   "execution_count": 99,
   "id": "2ccd8255",
   "metadata": {},
   "outputs": [],
   "source": [
    "if _SPARK_:\n",
    "    pass\n",
    "else:\n",
    "    data_clean['Start'] = pd.to_datetime(data['Start_Time'],format='mixed')\n",
    "    data_clean['End'] = pd.to_datetime(data['End_Time'],format='mixed')"
   ]
  },
  {
   "cell_type": "markdown",
   "id": "bdb6f5b6",
   "metadata": {},
   "source": [
    "### Partition the time data"
   ]
  },
  {
   "cell_type": "code",
   "execution_count": 34,
   "id": "2a55419d",
   "metadata": {},
   "outputs": [],
   "source": [
    "if _SPARK_:\n",
    "    pass\n",
    "else:\n",
    "    data_clean['Month'] = data_clean['Start'].dt.month\n",
    "    data_clean['Year'] = data_clean['Start'].dt.year\n",
    "    data_clean['Day'] = data_clean['Start'].dt.day\n",
    "    data_clean['DayofWeek'] = data_clean['Start'].dt.day_of_week\n",
    "    data_clean['Quarter'] = data_clean['Start'].dt.quarter\n",
    "    data_clean['Hour'] = data_clean['Start'].dt.hour"
   ]
  },
  {
   "cell_type": "code",
   "execution_count": 35,
   "id": "a74c8a6b",
   "metadata": {},
   "outputs": [
    {
     "data": {
      "text/plain": [
       "Year\n",
       "2016   0.053\n",
       "2017   0.093\n",
       "2018   0.115\n",
       "2019   0.124\n",
       "2020   0.152\n",
       "2021   0.203\n",
       "2022   0.227\n",
       "2023   0.032\n",
       "Name: proportion, dtype: float64"
      ]
     },
     "execution_count": 35,
     "metadata": {},
     "output_type": "execute_result"
    }
   ],
   "source": [
    "data_clean['Year'].value_counts(normalize=True).sort_index()"
   ]
  },
  {
   "cell_type": "code",
   "execution_count": 36,
   "id": "e19cd05e",
   "metadata": {},
   "outputs": [
    {
     "data": {
      "text/plain": [
       "Month\n",
       "1    0.097\n",
       "2    0.086\n",
       "3    0.071\n",
       "4    0.077\n",
       "5    0.072\n",
       "6    0.073\n",
       "7    0.067\n",
       "8    0.077\n",
       "9    0.085\n",
       "10   0.088\n",
       "11   0.098\n",
       "12   0.109\n",
       "Name: proportion, dtype: float64"
      ]
     },
     "execution_count": 36,
     "metadata": {},
     "output_type": "execute_result"
    }
   ],
   "source": [
    "data_clean['Month'].value_counts(normalize=True).sort_index()"
   ]
  },
  {
   "cell_type": "code",
   "execution_count": 37,
   "id": "8d8c0dd1",
   "metadata": {},
   "outputs": [
    {
     "data": {
      "text/plain": [
       "Quarter\n",
       "4   0.295\n",
       "1   0.254\n",
       "3   0.229\n",
       "2   0.222\n",
       "Name: proportion, dtype: float64"
      ]
     },
     "execution_count": 37,
     "metadata": {},
     "output_type": "execute_result"
    }
   ],
   "source": [
    "data_clean['Quarter'].value_counts(normalize=True)"
   ]
  },
  {
   "cell_type": "code",
   "execution_count": 38,
   "id": "c655ce84",
   "metadata": {},
   "outputs": [
    {
     "data": {
      "text/plain": [
       "DayofWeek\n",
       "0   0.157\n",
       "1   0.166\n",
       "2   0.170\n",
       "3   0.170\n",
       "4   0.178\n",
       "5   0.087\n",
       "6   0.072\n",
       "Name: proportion, dtype: float64"
      ]
     },
     "execution_count": 38,
     "metadata": {},
     "output_type": "execute_result"
    }
   ],
   "source": [
    "data_clean['DayofWeek'].value_counts(normalize=True).sort_index()"
   ]
  },
  {
   "cell_type": "code",
   "execution_count": 39,
   "id": "eba6f1c5",
   "metadata": {},
   "outputs": [
    {
     "data": {
      "text/plain": [
       "Hour\n",
       "0    0.015\n",
       "1    0.013\n",
       "2    0.012\n",
       "3    0.011\n",
       "4    0.021\n",
       "5    0.030\n",
       "6    0.052\n",
       "7    0.076\n",
       "8    0.075\n",
       "9    0.047\n",
       "10   0.045\n",
       "11   0.046\n",
       "12   0.046\n",
       "13   0.051\n",
       "14   0.058\n",
       "15   0.068\n",
       "16   0.075\n",
       "17   0.074\n",
       "18   0.056\n",
       "19   0.038\n",
       "20   0.029\n",
       "21   0.025\n",
       "22   0.022\n",
       "23   0.016\n",
       "Name: proportion, dtype: float64"
      ]
     },
     "execution_count": 39,
     "metadata": {},
     "output_type": "execute_result"
    }
   ],
   "source": [
    "data_clean['Hour'].value_counts(normalize=True).sort_index()"
   ]
  },
  {
   "cell_type": "markdown",
   "id": "649734d3",
   "metadata": {},
   "source": [
    "### Weekend Indicator"
   ]
  },
  {
   "cell_type": "code",
   "execution_count": 111,
   "id": "ffa58c7e",
   "metadata": {},
   "outputs": [],
   "source": [
    "data_clean['Weekend'] = ((data_clean['DayofWeek'] == 0) | (data_clean['DayofWeek'] == 6))"
   ]
  },
  {
   "cell_type": "code",
   "execution_count": 113,
   "id": "53024d7a",
   "metadata": {},
   "outputs": [
    {
     "name": "stdout",
     "output_type": "stream",
     "text": [
      "There are 114596 observations which occured over the weekend.\n"
     ]
    },
    {
     "data": {
      "text/plain": [
       "Weekend\n",
       "False   2.209\n",
       "True    2.225\n",
       "Name: Severity, dtype: float64"
      ]
     },
     "execution_count": 113,
     "metadata": {},
     "output_type": "execute_result"
    }
   ],
   "source": [
    "print(f'There are {data_clean['Weekend'].sum()} observations which occured over the weekend.')\n",
    "data_clean.groupby('Weekend')['Severity'].mean()"
   ]
  },
  {
   "cell_type": "markdown",
   "id": "535a2208",
   "metadata": {},
   "source": [
    "### Rush Hour Indicator\n",
    "\n",
    "__[Per Google:  ](https://www.google.com/search?client=safari&rls=en&q=rush+hour+typically&ie=UTF-8&oe=UTF-8)__ The morning rush hour begins around 6a, peaking between 7a & 9a, and eases off by 10a.  While afternoon/evening rush hour begins around 3p, peaking between 4p and 6p, and eases off by 7p."
   ]
  },
  {
   "cell_type": "code",
   "execution_count": 90,
   "id": "bc79df0e",
   "metadata": {},
   "outputs": [],
   "source": [
    "data_clean['Morning_Rush'] = ((6 > data_clean['DayofWeek']) & (data_clean['DayofWeek'] > 0) & (data_clean['Start'].dt.hour >= 6) & (10 >= data_clean['Start'].dt.hour))"
   ]
  },
  {
   "cell_type": "code",
   "execution_count": 84,
   "id": "85901f61",
   "metadata": {},
   "outputs": [
    {
     "name": "stdout",
     "output_type": "stream",
     "text": [
      "Total of 147754 incidents during the morning rush hour\n"
     ]
    }
   ],
   "source": [
    "print(f'Total of {data_clean['Morning_Rush'].sum()} incidents during the morning rush hour')"
   ]
  },
  {
   "cell_type": "code",
   "execution_count": 91,
   "id": "e83cea16",
   "metadata": {},
   "outputs": [],
   "source": [
    "data_clean['Evening_Rush'] = ((6 > data_clean['DayofWeek']) & (data_clean['DayofWeek'] > 0) & (data_clean['Start'].dt.hour >= 15) & (19 >= data_clean['Start'].dt.hour))"
   ]
  },
  {
   "cell_type": "code",
   "execution_count": 92,
   "id": "cc94315b",
   "metadata": {},
   "outputs": [
    {
     "name": "stdout",
     "output_type": "stream",
     "text": [
      "Total of 121330 incidents during the evening rush hour\n"
     ]
    }
   ],
   "source": [
    "print(f'Total of {data_clean['Evening_Rush'].sum()} incidents during the evening rush hour')"
   ]
  },
  {
   "cell_type": "code",
   "execution_count": 40,
   "id": "92387aba",
   "metadata": {},
   "outputs": [],
   "source": [
    "if _SPARK_:\n",
    "    accdidents_year = data.stat.crosstab('Year','Severity')\n",
    "else:\n",
    "    accdidents_year = pd.crosstab(data_clean['Year'],data_clean['Severity'])\n",
    "\n",
    "    accdidents_year['Total']=accdidents_year.sum(axis=1)\n",
    "    accdidents_year['Average']=accdidents_year.apply(lambda r:sum(i*r[i] for i in range(1,5))/r['Total'],axis=1)"
   ]
  },
  {
   "cell_type": "code",
   "execution_count": 41,
   "id": "5bfaecea",
   "metadata": {},
   "outputs": [
    {
     "data": {
      "text/html": [
       "<div>\n",
       "<style scoped>\n",
       "    .dataframe tbody tr th:only-of-type {\n",
       "        vertical-align: middle;\n",
       "    }\n",
       "\n",
       "    .dataframe tbody tr th {\n",
       "        vertical-align: top;\n",
       "    }\n",
       "\n",
       "    .dataframe thead th {\n",
       "        text-align: right;\n",
       "    }\n",
       "</style>\n",
       "<table border=\"1\" class=\"dataframe\">\n",
       "  <thead>\n",
       "    <tr style=\"text-align: right;\">\n",
       "      <th>Severity</th>\n",
       "      <th>1</th>\n",
       "      <th>2</th>\n",
       "      <th>3</th>\n",
       "      <th>4</th>\n",
       "      <th>Total</th>\n",
       "      <th>Average</th>\n",
       "    </tr>\n",
       "    <tr>\n",
       "      <th>Year</th>\n",
       "      <th></th>\n",
       "      <th></th>\n",
       "      <th></th>\n",
       "      <th></th>\n",
       "      <th></th>\n",
       "      <th></th>\n",
       "    </tr>\n",
       "  </thead>\n",
       "  <tbody>\n",
       "    <tr>\n",
       "      <th>2016</th>\n",
       "      <td>19</td>\n",
       "      <td>17573</td>\n",
       "      <td>8190</td>\n",
       "      <td>881</td>\n",
       "      <td>26663</td>\n",
       "      <td>2.373</td>\n",
       "    </tr>\n",
       "    <tr>\n",
       "      <th>2017</th>\n",
       "      <td>17</td>\n",
       "      <td>29852</td>\n",
       "      <td>15093</td>\n",
       "      <td>1552</td>\n",
       "      <td>46514</td>\n",
       "      <td>2.391</td>\n",
       "    </tr>\n",
       "    <tr>\n",
       "      <th>2018</th>\n",
       "      <td>12</td>\n",
       "      <td>37091</td>\n",
       "      <td>18863</td>\n",
       "      <td>1612</td>\n",
       "      <td>57578</td>\n",
       "      <td>2.383</td>\n",
       "    </tr>\n",
       "    <tr>\n",
       "      <th>2019</th>\n",
       "      <td>16</td>\n",
       "      <td>44480</td>\n",
       "      <td>15518</td>\n",
       "      <td>1838</td>\n",
       "      <td>61852</td>\n",
       "      <td>2.310</td>\n",
       "    </tr>\n",
       "    <tr>\n",
       "      <th>2020</th>\n",
       "      <td>1808</td>\n",
       "      <td>60266</td>\n",
       "      <td>12061</td>\n",
       "      <td>2020</td>\n",
       "      <td>76155</td>\n",
       "      <td>2.188</td>\n",
       "    </tr>\n",
       "    <tr>\n",
       "      <th>2021</th>\n",
       "      <td>7</td>\n",
       "      <td>90103</td>\n",
       "      <td>9691</td>\n",
       "      <td>1939</td>\n",
       "      <td>101740</td>\n",
       "      <td>2.133</td>\n",
       "    </tr>\n",
       "    <tr>\n",
       "      <th>2022</th>\n",
       "      <td>2395</td>\n",
       "      <td>103487</td>\n",
       "      <td>5104</td>\n",
       "      <td>2748</td>\n",
       "      <td>113734</td>\n",
       "      <td>2.072</td>\n",
       "    </tr>\n",
       "    <tr>\n",
       "      <th>2023</th>\n",
       "      <td>0</td>\n",
       "      <td>15290</td>\n",
       "      <td>0</td>\n",
       "      <td>474</td>\n",
       "      <td>15764</td>\n",
       "      <td>2.060</td>\n",
       "    </tr>\n",
       "  </tbody>\n",
       "</table>\n",
       "</div>"
      ],
      "text/plain": [
       "Severity     1       2      3     4   Total  Average\n",
       "Year                                                \n",
       "2016        19   17573   8190   881   26663    2.373\n",
       "2017        17   29852  15093  1552   46514    2.391\n",
       "2018        12   37091  18863  1612   57578    2.383\n",
       "2019        16   44480  15518  1838   61852    2.310\n",
       "2020      1808   60266  12061  2020   76155    2.188\n",
       "2021         7   90103   9691  1939  101740    2.133\n",
       "2022      2395  103487   5104  2748  113734    2.072\n",
       "2023         0   15290      0   474   15764    2.060"
      ]
     },
     "execution_count": 41,
     "metadata": {},
     "output_type": "execute_result"
    }
   ],
   "source": [
    "accdidents_year"
   ]
  },
  {
   "cell_type": "code",
   "execution_count": 42,
   "id": "bf47daa2",
   "metadata": {},
   "outputs": [],
   "source": [
    "accidents_calendar = pd.pivot_table(data_clean,columns='Year',index='Month',values='Severity')"
   ]
  },
  {
   "cell_type": "code",
   "execution_count": 43,
   "id": "b90baf34",
   "metadata": {},
   "outputs": [
    {
     "data": {
      "text/html": [
       "<div>\n",
       "<style scoped>\n",
       "    .dataframe tbody tr th:only-of-type {\n",
       "        vertical-align: middle;\n",
       "    }\n",
       "\n",
       "    .dataframe tbody tr th {\n",
       "        vertical-align: top;\n",
       "    }\n",
       "\n",
       "    .dataframe thead th {\n",
       "        text-align: right;\n",
       "    }\n",
       "</style>\n",
       "<table border=\"1\" class=\"dataframe\">\n",
       "  <thead>\n",
       "    <tr style=\"text-align: right;\">\n",
       "      <th>Year</th>\n",
       "      <th>2016</th>\n",
       "      <th>2017</th>\n",
       "      <th>2018</th>\n",
       "      <th>2019</th>\n",
       "      <th>2020</th>\n",
       "      <th>2021</th>\n",
       "      <th>2022</th>\n",
       "      <th>2023</th>\n",
       "    </tr>\n",
       "    <tr>\n",
       "      <th>Month</th>\n",
       "      <th></th>\n",
       "      <th></th>\n",
       "      <th></th>\n",
       "      <th></th>\n",
       "      <th></th>\n",
       "      <th></th>\n",
       "      <th></th>\n",
       "      <th></th>\n",
       "    </tr>\n",
       "  </thead>\n",
       "  <tbody>\n",
       "    <tr>\n",
       "      <th>1</th>\n",
       "      <td>4.000</td>\n",
       "      <td>2.367</td>\n",
       "      <td>2.405</td>\n",
       "      <td>2.383</td>\n",
       "      <td>2.244</td>\n",
       "      <td>2.114</td>\n",
       "      <td>2.122</td>\n",
       "      <td>2.056</td>\n",
       "    </tr>\n",
       "    <tr>\n",
       "      <th>2</th>\n",
       "      <td>2.793</td>\n",
       "      <td>2.362</td>\n",
       "      <td>2.396</td>\n",
       "      <td>2.355</td>\n",
       "      <td>2.231</td>\n",
       "      <td>2.110</td>\n",
       "      <td>2.110</td>\n",
       "      <td>2.070</td>\n",
       "    </tr>\n",
       "    <tr>\n",
       "      <th>3</th>\n",
       "      <td>2.437</td>\n",
       "      <td>2.371</td>\n",
       "      <td>2.385</td>\n",
       "      <td>2.374</td>\n",
       "      <td>2.225</td>\n",
       "      <td>2.170</td>\n",
       "      <td>2.096</td>\n",
       "      <td>2.065</td>\n",
       "    </tr>\n",
       "    <tr>\n",
       "      <th>4</th>\n",
       "      <td>2.395</td>\n",
       "      <td>2.410</td>\n",
       "      <td>2.392</td>\n",
       "      <td>2.340</td>\n",
       "      <td>2.186</td>\n",
       "      <td>2.172</td>\n",
       "      <td>2.082</td>\n",
       "      <td>NaN</td>\n",
       "    </tr>\n",
       "    <tr>\n",
       "      <th>5</th>\n",
       "      <td>2.356</td>\n",
       "      <td>2.415</td>\n",
       "      <td>2.388</td>\n",
       "      <td>2.344</td>\n",
       "      <td>2.233</td>\n",
       "      <td>2.174</td>\n",
       "      <td>2.043</td>\n",
       "      <td>NaN</td>\n",
       "    </tr>\n",
       "    <tr>\n",
       "      <th>6</th>\n",
       "      <td>2.411</td>\n",
       "      <td>2.435</td>\n",
       "      <td>2.421</td>\n",
       "      <td>2.356</td>\n",
       "      <td>2.264</td>\n",
       "      <td>2.150</td>\n",
       "      <td>2.052</td>\n",
       "      <td>NaN</td>\n",
       "    </tr>\n",
       "    <tr>\n",
       "      <th>7</th>\n",
       "      <td>2.387</td>\n",
       "      <td>2.454</td>\n",
       "      <td>2.406</td>\n",
       "      <td>2.337</td>\n",
       "      <td>2.353</td>\n",
       "      <td>2.127</td>\n",
       "      <td>2.075</td>\n",
       "      <td>NaN</td>\n",
       "    </tr>\n",
       "    <tr>\n",
       "      <th>8</th>\n",
       "      <td>2.366</td>\n",
       "      <td>2.365</td>\n",
       "      <td>2.364</td>\n",
       "      <td>2.310</td>\n",
       "      <td>2.358</td>\n",
       "      <td>2.134</td>\n",
       "      <td>2.069</td>\n",
       "      <td>NaN</td>\n",
       "    </tr>\n",
       "    <tr>\n",
       "      <th>9</th>\n",
       "      <td>2.368</td>\n",
       "      <td>2.387</td>\n",
       "      <td>2.378</td>\n",
       "      <td>2.254</td>\n",
       "      <td>2.194</td>\n",
       "      <td>2.134</td>\n",
       "      <td>2.053</td>\n",
       "      <td>NaN</td>\n",
       "    </tr>\n",
       "    <tr>\n",
       "      <th>10</th>\n",
       "      <td>2.360</td>\n",
       "      <td>2.368</td>\n",
       "      <td>2.351</td>\n",
       "      <td>2.245</td>\n",
       "      <td>2.143</td>\n",
       "      <td>2.127</td>\n",
       "      <td>2.049</td>\n",
       "      <td>NaN</td>\n",
       "    </tr>\n",
       "    <tr>\n",
       "      <th>11</th>\n",
       "      <td>2.347</td>\n",
       "      <td>2.376</td>\n",
       "      <td>2.353</td>\n",
       "      <td>2.260</td>\n",
       "      <td>2.107</td>\n",
       "      <td>2.121</td>\n",
       "      <td>2.055</td>\n",
       "      <td>NaN</td>\n",
       "    </tr>\n",
       "    <tr>\n",
       "      <th>12</th>\n",
       "      <td>2.376</td>\n",
       "      <td>2.426</td>\n",
       "      <td>2.373</td>\n",
       "      <td>2.237</td>\n",
       "      <td>2.096</td>\n",
       "      <td>2.115</td>\n",
       "      <td>2.050</td>\n",
       "      <td>NaN</td>\n",
       "    </tr>\n",
       "  </tbody>\n",
       "</table>\n",
       "</div>"
      ],
      "text/plain": [
       "Year   2016  2017  2018  2019  2020  2021  2022  2023\n",
       "Month                                                \n",
       "1     4.000 2.367 2.405 2.383 2.244 2.114 2.122 2.056\n",
       "2     2.793 2.362 2.396 2.355 2.231 2.110 2.110 2.070\n",
       "3     2.437 2.371 2.385 2.374 2.225 2.170 2.096 2.065\n",
       "4     2.395 2.410 2.392 2.340 2.186 2.172 2.082   NaN\n",
       "5     2.356 2.415 2.388 2.344 2.233 2.174 2.043   NaN\n",
       "6     2.411 2.435 2.421 2.356 2.264 2.150 2.052   NaN\n",
       "7     2.387 2.454 2.406 2.337 2.353 2.127 2.075   NaN\n",
       "8     2.366 2.365 2.364 2.310 2.358 2.134 2.069   NaN\n",
       "9     2.368 2.387 2.378 2.254 2.194 2.134 2.053   NaN\n",
       "10    2.360 2.368 2.351 2.245 2.143 2.127 2.049   NaN\n",
       "11    2.347 2.376 2.353 2.260 2.107 2.121 2.055   NaN\n",
       "12    2.376 2.426 2.373 2.237 2.096 2.115 2.050   NaN"
      ]
     },
     "execution_count": 43,
     "metadata": {},
     "output_type": "execute_result"
    }
   ],
   "source": [
    "accidents_calendar"
   ]
  },
  {
   "cell_type": "markdown",
   "id": "a5b58ef2",
   "metadata": {},
   "source": [
    "Spatial-Based Data"
   ]
  },
  {
   "cell_type": "code",
   "execution_count": null,
   "id": "50450ea4",
   "metadata": {},
   "outputs": [
    {
     "data": {
      "text/plain": [
       "State\n",
       "CA    113274\n",
       "FL     56710\n",
       "TX     37355\n",
       "SC     24737\n",
       "NY     22594\n",
       "NC     21750\n",
       "VA     19515\n",
       "PA     19351\n",
       "MN     12333\n",
       "OR     11559\n",
       "AZ     11150\n",
       "GA     11079\n",
       "IL     10904\n",
       "TN     10850\n",
       "MI     10518\n",
       "LA      9651\n",
       "MD      9128\n",
       "NJ      9020\n",
       "OH      7678\n",
       "WA      7004\n",
       "AL      6585\n",
       "UT      6310\n",
       "CO      5924\n",
       "OK      5296\n",
       "MO      5025\n",
       "CT      4602\n",
       "IN      4320\n",
       "MA      3917\n",
       "WI      2290\n",
       "KY      2101\n",
       "NE      1893\n",
       "MT      1871\n",
       "IA      1724\n",
       "AR      1483\n",
       "KS      1362\n",
       "NV      1343\n",
       "DC      1207\n",
       "RI      1093\n",
       "MS       977\n",
       "DE       907\n",
       "WV       851\n",
       "ID       718\n",
       "NM       636\n",
       "NH       635\n",
       "WY       254\n",
       "ND       238\n",
       "ME       202\n",
       "VT        57\n",
       "SD        19\n",
       "Name: count, dtype: int64"
      ]
     },
     "execution_count": 44,
     "metadata": {},
     "output_type": "execute_result"
    }
   ],
   "source": [
    "data_clean.State.value_counts(normalize=True)"
   ]
  },
  {
   "cell_type": "code",
   "execution_count": 103,
   "id": "186e518f",
   "metadata": {},
   "outputs": [
    {
     "data": {
      "text/plain": [
       "Street\n",
       "I-95 N                4973\n",
       "I-95 S                4866\n",
       "I-5 N                 4552\n",
       "I-10 E                3583\n",
       "I-10 W                3484\n",
       "I-5 S                 3355\n",
       "I-80 W                2538\n",
       "I-80 E                2365\n",
       "I-405 N               2048\n",
       "I-75 N                1830\n",
       "I-75 S                1794\n",
       "I-90 E                1641\n",
       "I-15 N                1641\n",
       "I-94 W                1566\n",
       "I-90 W                1512\n",
       "I-95                  1305\n",
       "US-101 N              1282\n",
       "I-94 E                1281\n",
       "I-70 E                1266\n",
       "I-15 S                1246\n",
       "I-40 W                1228\n",
       "I-35 N                1212\n",
       "I-70 W                1187\n",
       "I-84 E                1187\n",
       "I-405 S               1159\n",
       "I-40 E                1140\n",
       "CA-99 N               1139\n",
       "I-84 W                1097\n",
       "I-64 E                1064\n",
       "I-64 W                 994\n",
       "CA-99 S                981\n",
       "I-35 S                 978\n",
       "Golden State Fwy S     969\n",
       "CA-60 W                963\n",
       "I-20 W                 956\n",
       "I-85 S                 912\n",
       "I-10                   909\n",
       "I-65 N                 897\n",
       "I-20 E                 895\n",
       "I-580 W                893\n",
       "I-880 N                879\n",
       "I-26 W                 866\n",
       "I-85 N                 864\n",
       "I-75                   847\n",
       "CA-91 W                837\n",
       "CA-60 E                834\n",
       "I-580 E                829\n",
       "San Diego Fwy S        814\n",
       "I-4 E                  813\n",
       "I-65 S                 806\n",
       "Name: count, dtype: int64"
      ]
     },
     "execution_count": 103,
     "metadata": {},
     "output_type": "execute_result"
    }
   ],
   "source": [
    "data_clean['Street'].value_counts(dropna=False).sort_values(ascending=False).head(50)"
   ]
  },
  {
   "cell_type": "code",
   "execution_count": 116,
   "id": "a1378f77",
   "metadata": {},
   "outputs": [
    {
     "data": {
      "text/plain": [
       "15114"
      ]
     },
     "execution_count": 116,
     "metadata": {},
     "output_type": "execute_result"
    }
   ],
   "source": [
    "data_clean[\"Street\"].str.startswith('US').sum()"
   ]
  },
  {
   "cell_type": "code",
   "execution_count": 115,
   "id": "30fafbf7",
   "metadata": {},
   "outputs": [
    {
     "data": {
      "text/plain": [
       "5"
      ]
     },
     "execution_count": 115,
     "metadata": {},
     "output_type": "execute_result"
    }
   ],
   "source": [
    "data_clean[\"Street\"].str.startswith('United').sum()"
   ]
  },
  {
   "cell_type": "code",
   "execution_count": 114,
   "id": "0ecd642c",
   "metadata": {},
   "outputs": [
    {
     "data": {
      "text/plain": [
       "124680"
      ]
     },
     "execution_count": 114,
     "metadata": {},
     "output_type": "execute_result"
    }
   ],
   "source": [
    "data_clean[\"Street\"].str.startswith('I-').sum()"
   ]
  },
  {
   "cell_type": "code",
   "execution_count": 117,
   "id": "9e62025b",
   "metadata": {},
   "outputs": [
    {
     "data": {
      "text/plain": [
       "199"
      ]
     },
     "execution_count": 117,
     "metadata": {},
     "output_type": "execute_result"
    }
   ],
   "source": [
    "data_clean[\"Street\"].str.startswith('Interstate').sum()"
   ]
  },
  {
   "cell_type": "code",
   "execution_count": 118,
   "id": "68d7de13",
   "metadata": {},
   "outputs": [
    {
     "data": {
      "text/plain": [
       "572"
      ]
     },
     "execution_count": 118,
     "metadata": {},
     "output_type": "execute_result"
    }
   ],
   "source": [
    "data_clean[\"Street\"].str.startswith('Route').sum()"
   ]
  },
  {
   "cell_type": "code",
   "execution_count": 120,
   "id": "6af56153",
   "metadata": {},
   "outputs": [
    {
     "data": {
      "text/plain": [
       "8"
      ]
     },
     "execution_count": 120,
     "metadata": {},
     "output_type": "execute_result"
    }
   ],
   "source": [
    "data_clean[\"Street\"].str.startswith('Rt').sum()"
   ]
  },
  {
   "cell_type": "code",
   "execution_count": null,
   "id": "249a5a0c",
   "metadata": {},
   "outputs": [],
   "source": []
  },
  {
   "cell_type": "markdown",
   "id": "2f472d8e",
   "metadata": {},
   "source": [
    "### Weather Consolidation"
   ]
  },
  {
   "cell_type": "code",
   "execution_count": null,
   "id": "c46af007",
   "metadata": {},
   "outputs": [],
   "source": []
  },
  {
   "cell_type": "markdown",
   "id": "cf12b6b5",
   "metadata": {},
   "source": [
    "### Nature of Incident"
   ]
  },
  {
   "cell_type": "code",
   "execution_count": 48,
   "id": "0087c9da",
   "metadata": {},
   "outputs": [],
   "source": [
    "data_clean['Time_of_Impact(hr)'] = (data_clean['End'] - data_clean['Start']).dt.seconds/360"
   ]
  },
  {
   "cell_type": "code",
   "execution_count": 50,
   "id": "2c1c83dc",
   "metadata": {},
   "outputs": [
    {
     "data": {
      "text/plain": [
       "<Axes: xlabel='Time_of_Impact(hr)', ylabel='Count'>"
      ]
     },
     "execution_count": 50,
     "metadata": {},
     "output_type": "execute_result"
    },
    {
     "data": {
      "image/png": "[encoded data removed]",
      "text/plain": [
       "<Figure size 640x480 with 1 Axes>"
      ]
     },
     "metadata": {},
     "output_type": "display_data"
    }
   ],
   "source": [
    "sns.histplot(data_clean['Time_of_Impact(hr)'])"
   ]
  },
  {
   "cell_type": "markdown",
   "id": "4662a124",
   "metadata": {},
   "source": [
    "## Saveout Data"
   ]
  },
  {
   "cell_type": "code",
   "execution_count": null,
   "id": "07d79e29",
   "metadata": {},
   "outputs": [],
   "source": [
    "if _LITE_SWITCH_:\n",
    "    data_clean.to_csv('AccidentData_Sampled_Clean.csv')\n",
    "else:\n",
    "    data_clean.to_csv('AccidentData_Clean.csv')"
   ]
  },
  {
   "cell_type": "markdown",
   "id": "f4fc96c2",
   "metadata": {},
   "source": [
    "# 4-Full EDA"
   ]
  },
  {
   "cell_type": "code",
   "execution_count": null,
   "id": "343aa5fd",
   "metadata": {},
   "outputs": [],
   "source": []
  },
  {
   "cell_type": "markdown",
   "id": "de9ce133",
   "metadata": {},
   "source": [
    "## Nature of Incident Variables"
   ]
  },
  {
   "cell_type": "code",
   "execution_count": 74,
   "id": "eb0c6987",
   "metadata": {},
   "outputs": [
    {
     "data": {
      "text/html": [
       "<div>\n",
       "<style scoped>\n",
       "    .dataframe tbody tr th:only-of-type {\n",
       "        vertical-align: middle;\n",
       "    }\n",
       "\n",
       "    .dataframe tbody tr th {\n",
       "        vertical-align: top;\n",
       "    }\n",
       "\n",
       "    .dataframe thead th {\n",
       "        text-align: right;\n",
       "    }\n",
       "</style>\n",
       "<table border=\"1\" class=\"dataframe\">\n",
       "  <thead>\n",
       "    <tr style=\"text-align: right;\">\n",
       "      <th></th>\n",
       "      <th>Severity</th>\n",
       "      <th>1</th>\n",
       "      <th>2</th>\n",
       "      <th>3</th>\n",
       "      <th>4</th>\n",
       "    </tr>\n",
       "  </thead>\n",
       "  <tbody>\n",
       "    <tr>\n",
       "      <th rowspan=\"8\" valign=\"top\">Distance(mi)</th>\n",
       "      <th>count</th>\n",
       "      <td>4274.000</td>\n",
       "      <td>398142.000</td>\n",
       "      <td>84520.000</td>\n",
       "      <td>13064.000</td>\n",
       "    </tr>\n",
       "    <tr>\n",
       "      <th>mean</th>\n",
       "      <td>0.112</td>\n",
       "      <td>0.569</td>\n",
       "      <td>0.423</td>\n",
       "      <td>1.484</td>\n",
       "    </tr>\n",
       "    <tr>\n",
       "      <th>std</th>\n",
       "      <td>0.703</td>\n",
       "      <td>1.608</td>\n",
       "      <td>2.118</td>\n",
       "      <td>3.392</td>\n",
       "    </tr>\n",
       "    <tr>\n",
       "      <th>min</th>\n",
       "      <td>0.000</td>\n",
       "      <td>0.000</td>\n",
       "      <td>0.000</td>\n",
       "      <td>0.000</td>\n",
       "    </tr>\n",
       "    <tr>\n",
       "      <th>25%</th>\n",
       "      <td>0.000</td>\n",
       "      <td>0.000</td>\n",
       "      <td>0.000</td>\n",
       "      <td>0.154</td>\n",
       "    </tr>\n",
       "    <tr>\n",
       "      <th>50%</th>\n",
       "      <td>0.000</td>\n",
       "      <td>0.067</td>\n",
       "      <td>0.000</td>\n",
       "      <td>0.487</td>\n",
       "    </tr>\n",
       "    <tr>\n",
       "      <th>75%</th>\n",
       "      <td>0.000</td>\n",
       "      <td>0.525</td>\n",
       "      <td>0.010</td>\n",
       "      <td>1.451</td>\n",
       "    </tr>\n",
       "    <tr>\n",
       "      <th>max</th>\n",
       "      <td>15.840</td>\n",
       "      <td>193.480</td>\n",
       "      <td>149.690</td>\n",
       "      <td>112.968</td>\n",
       "    </tr>\n",
       "    <tr>\n",
       "      <th rowspan=\"8\" valign=\"top\">Time_of_Impact(hr)</th>\n",
       "      <th>count</th>\n",
       "      <td>4274.000</td>\n",
       "      <td>398142.000</td>\n",
       "      <td>84520.000</td>\n",
       "      <td>13064.000</td>\n",
       "    </tr>\n",
       "    <tr>\n",
       "      <th>mean</th>\n",
       "      <td>7.660</td>\n",
       "      <td>19.245</td>\n",
       "      <td>11.411</td>\n",
       "      <td>31.685</td>\n",
       "    </tr>\n",
       "    <tr>\n",
       "      <th>std</th>\n",
       "      <td>4.696</td>\n",
       "      <td>21.679</td>\n",
       "      <td>13.710</td>\n",
       "      <td>28.493</td>\n",
       "    </tr>\n",
       "    <tr>\n",
       "      <th>min</th>\n",
       "      <td>2.500</td>\n",
       "      <td>0.000</td>\n",
       "      <td>0.069</td>\n",
       "      <td>0.000</td>\n",
       "    </tr>\n",
       "    <tr>\n",
       "      <th>25%</th>\n",
       "      <td>4.944</td>\n",
       "      <td>7.406</td>\n",
       "      <td>4.936</td>\n",
       "      <td>9.922</td>\n",
       "    </tr>\n",
       "    <tr>\n",
       "      <th>50%</th>\n",
       "      <td>7.461</td>\n",
       "      <td>12.914</td>\n",
       "      <td>7.400</td>\n",
       "      <td>21.236</td>\n",
       "    </tr>\n",
       "    <tr>\n",
       "      <th>75%</th>\n",
       "      <td>9.958</td>\n",
       "      <td>21.483</td>\n",
       "      <td>10.000</td>\n",
       "      <td>60.000</td>\n",
       "    </tr>\n",
       "    <tr>\n",
       "      <th>max</th>\n",
       "      <td>74.828</td>\n",
       "      <td>239.997</td>\n",
       "      <td>239.933</td>\n",
       "      <td>239.997</td>\n",
       "    </tr>\n",
       "  </tbody>\n",
       "</table>\n",
       "</div>"
      ],
      "text/plain": [
       "Severity                        1          2         3         4\n",
       "Distance(mi)       count 4274.000 398142.000 84520.000 13064.000\n",
       "                   mean     0.112      0.569     0.423     1.484\n",
       "                   std      0.703      1.608     2.118     3.392\n",
       "                   min      0.000      0.000     0.000     0.000\n",
       "                   25%      0.000      0.000     0.000     0.154\n",
       "                   50%      0.000      0.067     0.000     0.487\n",
       "                   75%      0.000      0.525     0.010     1.451\n",
       "                   max     15.840    193.480   149.690   112.968\n",
       "Time_of_Impact(hr) count 4274.000 398142.000 84520.000 13064.000\n",
       "                   mean     7.660     19.245    11.411    31.685\n",
       "                   std      4.696     21.679    13.710    28.493\n",
       "                   min      2.500      0.000     0.069     0.000\n",
       "                   25%      4.944      7.406     4.936     9.922\n",
       "                   50%      7.461     12.914     7.400    21.236\n",
       "                   75%      9.958     21.483    10.000    60.000\n",
       "                   max     74.828    239.997   239.933   239.997"
      ]
     },
     "execution_count": 74,
     "metadata": {},
     "output_type": "execute_result"
    }
   ],
   "source": [
    "data_clean.groupby('Severity')[['Distance(mi)','Time_of_Impact(hr)']].describe().T"
   ]
  },
  {
   "cell_type": "code",
   "execution_count": null,
   "id": "b0c01dd1",
   "metadata": {},
   "outputs": [],
   "source": [
    "if _LITE_SWITCH_:\n",
    "    sns.histplot(data_clean['Severity'])\n",
    "else:\n",
    "    pass"
   ]
  },
  {
   "cell_type": "code",
   "execution_count": 70,
   "id": "da1c6a06",
   "metadata": {},
   "outputs": [],
   "source": [
    "palette = {1:'red',2:'blue',3:'green',4:'black'}"
   ]
  },
  {
   "cell_type": "code",
   "execution_count": 71,
   "id": "1e624260",
   "metadata": {},
   "outputs": [
    {
     "data": {
      "image/png": "[encoded data removed]",
      "text/plain": [
       "<Figure size 568.486x500 with 6 Axes>"
      ]
     },
     "metadata": {},
     "output_type": "display_data"
    }
   ],
   "source": [
    "sns.pairplot(data_clean[['Severity','Distance(mi)','Time_of_Impact(hr)']],hue='Severity',palette=palette);"
   ]
  },
  {
   "cell_type": "markdown",
   "id": "531183ad",
   "metadata": {},
   "source": [
    "## Feature Variables"
   ]
  },
  {
   "cell_type": "markdown",
   "id": "b1b7261f",
   "metadata": {},
   "source": [
    "### Relationships"
   ]
  },
  {
   "cell_type": "code",
   "execution_count": null,
   "id": "7f01ba67",
   "metadata": {},
   "outputs": [],
   "source": [
    "if _SPARK_:\n",
    "    corr_data = data_clean.select(_NUMERICS_)\n",
    "    col_names = corr_data.columns\n",
    "    features = corr_data.rdd.map(lambda row: row[0:]) \n",
    "    corrs = Statistics.corr(features, method=\"pearson\")\n",
    "else:\n",
    "    corrs = data_clean[_NUMERICS_].corr()\n",
    "    print(corrs)\n",
    "   "
   ]
  },
  {
   "cell_type": "code",
   "execution_count": null,
   "id": "54696f8e",
   "metadata": {},
   "outputs": [],
   "source": [
    "sns.heatmap(corrs,vmin=-1,vmax=1,cmap='coolwarm')"
   ]
  },
  {
   "cell_type": "markdown",
   "id": "b953cd29",
   "metadata": {},
   "source": [
    "### Against Target Variable"
   ]
  },
  {
   "cell_type": "code",
   "execution_count": null,
   "id": "400023b8",
   "metadata": {},
   "outputs": [],
   "source": []
  },
  {
   "cell_type": "markdown",
   "id": "c2367ee5",
   "metadata": {},
   "source": [
    "# 5-Statistical Analysis\n",
    "Chi-Squared and ANOVA Tests for various features "
   ]
  },
  {
   "cell_type": "markdown",
   "id": "7e749fc4",
   "metadata": {},
   "source": [
    "## Weather Category\n",
    "* Null Hypothesis (H0): There is no significant difference in accident severity across weather categories.\n",
    "\n",
    "* Alternative Hypothesis (H1): There is a significant difference in accident severity across weather categories."
   ]
  },
  {
   "cell_type": "code",
   "execution_count": null,
   "id": "eb05ff8a",
   "metadata": {},
   "outputs": [
    {
     "name": "stdout",
     "output_type": "stream",
     "text": [
      "\n",
      "ANOVA for Weather Category:\n",
      "                             sum_sq         df      F  PR(>F)\n",
      "C(Weather_Condition)    944300.804    107.000 20.042   0.000\n",
      "Residual             215233534.285 488791.000    NaN     NaN\n",
      "P-value for Weather Category: 0.0\n"
     ]
    }
   ],
   "source": [
    "model_weather = ols(\"Q('Time_of_Impact(hr)') ~ C(Weather_Condition)\", data=data_clean).fit()\n",
    "anova_table_weather = sm.stats.anova_lm(model_weather, typ=2)\n",
    "print(\"\\nANOVA for Weather Category:\\n\", anova_table_weather)\n",
    "p_weather = anova_table_weather['PR(>F)'].iloc[0]\n",
    "print(f\"P-value for Weather Category: {p_weather}\")"
   ]
  },
  {
   "cell_type": "code",
   "execution_count": 135,
   "id": "c62f0798",
   "metadata": {},
   "outputs": [
    {
     "name": "stdout",
     "output_type": "stream",
     "text": [
      "\n",
      "ANOVA for Weather Category:\n",
      "                           sum_sq         df      F  PR(>F)\n",
      "C(Weather_Condition)   24163.979    107.000 73.669   0.000\n",
      "Residual             1498392.438 488791.000    NaN     NaN\n",
      "P-value for Weather Category: 0.0\n"
     ]
    }
   ],
   "source": [
    "model_weather = ols(\"Q('Distance(mi)') ~ C(Weather_Condition)\", data=data_clean).fit()\n",
    "anova_table_weather = sm.stats.anova_lm(model_weather, typ=2)\n",
    "print(\"\\nANOVA for Weather Category:\\n\", anova_table_weather)\n",
    "p_weather = anova_table_weather['PR(>F)'].iloc[0]\n",
    "print(f\"P-value for Weather Category: {p_weather}\")"
   ]
  },
  {
   "cell_type": "code",
   "execution_count": 129,
   "id": "d2d4be09",
   "metadata": {},
   "outputs": [
    {
     "name": "stdout",
     "output_type": "stream",
     "text": [
      "Chi-squared statistic: 23979.531083879607\n",
      "P-value: 0.0\n",
      "Degrees of freedom: 321\n"
     ]
    }
   ],
   "source": [
    "# Create a contingency table of two categorical variables\n",
    "contingency_table = pd.crosstab(data_clean['Weather_Condition'], data_clean['Severity'])\n",
    "\n",
    "# Perform the Chi-squared test\n",
    "chi2, p, dof, expected = chi2_contingency(contingency_table)\n",
    "\n",
    "print(f\"Chi-squared statistic: {chi2}\")\n",
    "print(f\"P-value: {p}\")\n",
    "print(f\"Degrees of freedom: {dof}\")\n",
    "#print(\"Expected frequencies table:\")\n",
    "#print(expected)"
   ]
  },
  {
   "cell_type": "markdown",
   "id": "4a4abe18",
   "metadata": {},
   "source": [
    "## Advanced"
   ]
  },
  {
   "cell_type": "code",
   "execution_count": null,
   "id": "16fe163d",
   "metadata": {},
   "outputs": [],
   "source": []
  },
  {
   "cell_type": "markdown",
   "id": "1c99fd9a",
   "metadata": {},
   "source": [
    "# 6-Insights & Conclusions"
   ]
  },
  {
   "cell_type": "markdown",
   "id": "1ac636b3",
   "metadata": {},
   "source": [
    "## Annual Distinctions\n",
    "\n",
    "Number of Accidents; Distribution of Severities; Length of Impact"
   ]
  },
  {
   "cell_type": "code",
   "execution_count": null,
   "id": "b511d0bd",
   "metadata": {},
   "outputs": [],
   "source": []
  },
  {
   "cell_type": "code",
   "execution_count": null,
   "id": "becea5a2",
   "metadata": {},
   "outputs": [],
   "source": []
  },
  {
   "cell_type": "markdown",
   "id": "22d40560",
   "metadata": {},
   "source": [
    "## Temporal & Spatial Considerations\n",
    "\n",
    "How do accident counts relate to different times of the day and for different region types (urban vs rural)?"
   ]
  },
  {
   "cell_type": "code",
   "execution_count": null,
   "id": "473dea22",
   "metadata": {},
   "outputs": [],
   "source": []
  },
  {
   "cell_type": "markdown",
   "id": "a00b3086",
   "metadata": {},
   "source": [
    "## Severity Prediction"
   ]
  },
  {
   "cell_type": "code",
   "execution_count": null,
   "id": "e5c7e582",
   "metadata": {},
   "outputs": [],
   "source": []
  },
  {
   "cell_type": "markdown",
   "id": "4161a87b",
   "metadata": {},
   "source": [
    "## Unusual Weather \n",
    "\n",
    "Does driving in unexpected weather--based on area, time of year and/or both--create a higher likelihood of an accident."
   ]
  },
  {
   "cell_type": "code",
   "execution_count": null,
   "id": "0e186ab0",
   "metadata": {},
   "outputs": [],
   "source": []
  },
  {
   "cell_type": "markdown",
   "id": "0d0343fb",
   "metadata": {},
   "source": [
    "## Famous Highways"
   ]
  },
  {
   "cell_type": "code",
   "execution_count": null,
   "id": "b1ac08d2",
   "metadata": {},
   "outputs": [],
   "source": []
  },
  {
   "cell_type": "markdown",
   "id": "40f7b787",
   "metadata": {},
   "source": [
    "## Highway's Near Urban Areas\n",
    "\n",
    "For cross-state"
   ]
  },
  {
   "cell_type": "code",
   "execution_count": null,
   "id": "8d9a29e5",
   "metadata": {},
   "outputs": [],
   "source": []
  },
  {
   "cell_type": "markdown",
   "id": "2e130a9d",
   "metadata": {},
   "source": [
    "## Naturual Language\n",
    "\n",
    "Examination of the description feature."
   ]
  },
  {
   "cell_type": "code",
   "execution_count": null,
   "id": "4cc9eb56",
   "metadata": {},
   "outputs": [],
   "source": []
  },
  {
   "cell_type": "markdown",
   "id": "5c11d1dc",
   "metadata": {},
   "source": [
    "## Safety Infrastructure\n",
    "Does certain road infrastructure projects help reduce the number of incidents?"
   ]
  },
  {
   "cell_type": "code",
   "execution_count": null,
   "id": "c65af31e",
   "metadata": {},
   "outputs": [],
   "source": []
  },
  {
   "cell_type": "markdown",
   "id": "d7adc83b",
   "metadata": {},
   "source": [
    "## New Traffic Pattern\n",
    "\n",
    "Does the existence of a new traffic pattern in the area increase the likelihood of an accident?"
   ]
  },
  {
   "cell_type": "code",
   "execution_count": null,
   "id": "6e122f67",
   "metadata": {},
   "outputs": [],
   "source": []
  },
  {
   "cell_type": "markdown",
   "id": "68316f14",
   "metadata": {},
   "source": [
    "## Recent Accident Indicator\n",
    "\n",
    "Does the presence of one accident, predict another."
   ]
  },
  {
   "cell_type": "code",
   "execution_count": null,
   "id": "f2548875",
   "metadata": {},
   "outputs": [],
   "source": []
  }
 ],
 "metadata": {
  "kernelspec": {
   "display_name": "base",
   "language": "python",
   "name": "python3"
  },
  "language_info": {
   "codemirror_mode": {
    "name": "ipython",
    "version": 3
   },
   "file_extension": ".py",
   "mimetype": "text/x-python",
   "name": "python",
   "nbconvert_exporter": "python",
   "pygments_lexer": "ipython3",
   "version": "3.12.7"
  }
 },
 "nbformat": 4,
 "nbformat_minor": 5
}
